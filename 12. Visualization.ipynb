{
 "cells": [
  {
   "cell_type": "markdown",
   "metadata": {},
   "source": [
    "## Visualization\n",
    "In this notebook, we will cover five visualizations and the hope is that each of them will reveal tips for you for your next plot. There is a wide range of visually pleasing plots you can generate with Julia and I strongly recommend envisioning what you want to plot beforehand and then figuring out how to accomplish it (most likely you will find all what you need in at least one julia plotting package). Here, we will be using the `Plots` package with a `gr()` backend"
   ]
  },
  {
   "cell_type": "code",
   "execution_count": 1,
   "metadata": {},
   "outputs": [
    {
     "data": {
      "text/plain": [
       "\"utf-8\""
      ]
     },
     "metadata": {},
     "output_type": "display_data"
    }
   ],
   "source": [
    "ENV[\"GKS_ENCODING\"] = \"utf-8\""
   ]
  },
  {
   "cell_type": "code",
   "execution_count": 2,
   "metadata": {},
   "outputs": [],
   "source": [
    "stateabbreviations = Dict(\"Alabama\" => \"AL\",\n",
    "    \"Alaska\" => \"AK\",\n",
    "    \"Arizona\" => \"AZ\",\n",
    "    \"Arkansas\" => \"AR\",\n",
    "    \"California\" => \"CA\",\n",
    "    \"Colorado\" => \"CO\",\n",
    "    \"Connecticut\" => \"CT\",\n",
    "    \"Delaware\" => \"DE\",\n",
    "    \"Florida\" => \"FL\",\n",
    "    \"Georgia\" => \"GA\",\n",
    "    \"Hawaii\" => \"HI\",\n",
    "    \"Idaho\" => \"ID\",\n",
    "    \"Illinois\" => \"IL\",\n",
    "    \"Indiana\" => \"IN\",\n",
    "    \"Iowa\" => \"IA\",\n",
    "    \"Kansas\" => \"KS\",\n",
    "    \"Kentucky\" => \"KY\",\n",
    "    \"Louisiana\" => \"LA\",\n",
    "    \"Maine\" => \"ME\",\n",
    "    \"Maryland\" => \"MD\",\n",
    "    \"Massachusetts\" => \"MA\",\n",
    "    \"Michigan\" => \"MI\",\n",
    "    \"Minnesota\" => \"MN\",\n",
    "    \"Mississippi\" => \"MS\",\n",
    "    \"Missouri\" => \"MO\",\n",
    "    \"Montana\" => \"MT\",\n",
    "    \"Nebraska\" => \"NE\",\n",
    "    \"Nevada\" => \"NV\",\n",
    "    \"New Hampshire\" => \"NH\",\n",
    "    \"New Jersey\" => \"NJ\",\n",
    "    \"New Mexico\" => \"NM\",\n",
    "    \"New York\" => \"NY\",\n",
    "    \"North Carolina\" => \"NC\",\n",
    "    \"North Dakota\" => \"ND\",\n",
    "    \"Ohio\" => \"OH\",\n",
    "    \"Oklahoma\" => \"OK\",\n",
    "    \"Oregon\" => \"OR\",\n",
    "    \"Pennsylvania\" => \"PA\",\n",
    "    \"Rhode Island\" => \"RI\",\n",
    "    \"South Carolina\" => \"SC\",\n",
    "    \"South Dakota\" => \"SD\",\n",
    "    \"Tennessee\" => \"TN\",\n",
    "    \"Texas\" => \"TX\",\n",
    "    \"Utah\" => \"UT\",\n",
    "    \"Vermont\" => \"VT\",\n",
    "    \"Virginia\" => \"VA\",\n",
    "    \"Washington\" => \"WA\",\n",
    "    \"West Virginia\" => \"WV\",\n",
    "    \"Wisconsin\" => \"WI\",\n",
    "    \"Wyoming\" => \"WY\", \n",
    "    \"District of Columbia\"=>\"DC\");"
   ]
  },
  {
   "cell_type": "code",
   "execution_count": 3,
   "metadata": {},
   "outputs": [
    {
     "data": {
      "text/plain": [
       "Plots.GRBackend()"
      ]
     },
     "metadata": {},
     "output_type": "display_data"
    }
   ],
   "source": [
    "using Plots\n",
    "using StatsPlots # this package provides stats specific plotting functions\n",
    "gr()"
   ]
  },
  {
   "cell_type": "code",
   "execution_count": 4,
   "metadata": {},
   "outputs": [],
   "source": [
    "using Statistics\n",
    "using StatsBase\n",
    "using MLBase"
   ]
  },
  {
   "cell_type": "markdown",
   "metadata": {},
   "source": [
    "Just a quick note about plotting with xlabels that are long and rotated. Currently, there seems to be an issue with using xticks labels that are rotated and long, like the plot I show next. As per this issue https://github.com/JuliaPlots/Plots.jl/issues/2107, this hasn't been fixed yet. But here, I create a quick function that will act as a \"hack\" to avoid this problem."
   ]
  },
  {
   "cell_type": "code",
   "execution_count": 5,
   "metadata": {},
   "outputs": [
    {
     "data": {
      "image/png": "[encoded data removed]",
      "image/svg+xml": [
       "<?xml version=\"1.0\" encoding=\"utf-8\"?>\n",
       "<svg xmlns=\"http://www.w3.org/2000/svg\" xmlns:xlink=\"http://www.w3.org/1999/xlink\" width=\"600\" height=\"400\" viewBox=\"0 0 2400 1600\">\n",
       "<defs>\n",
       "  <clipPath id=\"clip570\">\n",
       "    <rect x=\"0\" y=\"0\" width=\"2400\" height=\"1600\"/>\n",
       "  </clipPath>\n",
       "</defs>\n",
       "<path clip-path=\"url(#clip570)\" d=\"M0 1600 L2400 1600 L2400 0 L0 0  Z\" fill=\"#ffffff\" fill-rule=\"evenodd\" fill-opacity=\"1\"/>\n",
       "<defs>\n",
       "  <clipPath id=\"clip571\">\n",
       "    <rect x=\"480\" y=\"0\" width=\"1681\" height=\"1600\"/>\n",
       "  </clipPath>\n",
       "</defs>\n",
       "<path clip-path=\"url(#clip570)\" d=\"M156.598 1307.5 L2352.76 1307.5 L2352.76 47.2441 L156.598 47.2441  Z\" fill=\"#ffffff\" fill-rule=\"evenodd\" fill-opacity=\"1\"/>\n",
       "<defs>\n",
       "  <clipPath id=\"clip572\">\n",
       "    <rect x=\"156\" y=\"47\" width=\"2197\" height=\"1261\"/>\n",
       "  </clipPath>\n",
       "</defs>\n",
       "<polyline clip-path=\"url(#clip572)\" style=\"stroke:#000000; stroke-linecap:round; stroke-linejoin:round; stroke-width:2; stroke-opacity:0.1; fill:none\" points=\"218.754,1307.5 218.754,47.2441 \"/>\n",
       "<polyline clip-path=\"url(#clip572)\" style=\"stroke:#000000; stroke-linecap:round; stroke-linejoin:round; stroke-width:2; stroke-opacity:0.1; fill:none\" points=\"810.71,1307.5 810.71,47.2441 \"/>\n",
       "<polyline clip-path=\"url(#clip572)\" style=\"stroke:#000000; stroke-linecap:round; stroke-linejoin:round; stroke-width:2; stroke-opacity:0.1; fill:none\" points=\"958.699,1307.5 958.699,47.2441 \"/>\n",
       "<polyline clip-path=\"url(#clip572)\" style=\"stroke:#000000; stroke-linecap:round; stroke-linejoin:round; stroke-width:2; stroke-opacity:0.1; fill:none\" points=\"2142.61,1307.5 2142.61,47.2441 \"/>\n",
       "<polyline clip-path=\"url(#clip570)\" style=\"stroke:#000000; stroke-linecap:round; stroke-linejoin:round; stroke-width:4; stroke-opacity:1; fill:none\" points=\"156.598,1307.5 2352.76,1307.5 \"/>\n",
       "<polyline clip-path=\"url(#clip570)\" style=\"stroke:#000000; stroke-linecap:round; stroke-linejoin:round; stroke-width:4; stroke-opacity:1; fill:none\" points=\"218.754,1307.5 218.754,1288.6 \"/>\n",
       "<polyline clip-path=\"url(#clip570)\" style=\"stroke:#000000; stroke-linecap:round; stroke-linejoin:round; stroke-width:4; stroke-opacity:1; fill:none\" points=\"810.71,1307.5 810.71,1288.6 \"/>\n",
       "<polyline clip-path=\"url(#clip570)\" style=\"stroke:#000000; stroke-linecap:round; stroke-linejoin:round; stroke-width:4; stroke-opacity:1; fill:none\" points=\"958.699,1307.5 958.699,1288.6 \"/>\n",
       "<polyline clip-path=\"url(#clip570)\" style=\"stroke:#000000; stroke-linecap:round; stroke-linejoin:round; stroke-width:4; stroke-opacity:1; fill:none\" points=\"2142.61,1307.5 2142.61,1288.6 \"/>\n",
       "<path clip-path=\"url(#clip570)\" d=\"M209.557 1442.37 Q209.557 1447.94 213.92 1451.17 Q218.246 1454.41 225.807 1454.41 Q233.367 1454.41 237.731 1451.21 Q242.056 1447.97 242.056 1442.37 Q242.056 1436.84 237.693 1433.61 Q233.33 1430.37 225.807 1430.37 Q218.321 1430.37 213.958 1433.61 Q209.557 1436.84 209.557 1442.37 M203.689 1442.37 Q203.689 1433.34 209.557 1428.19 Q215.425 1423.04 225.807 1423.04 Q236.151 1423.04 242.056 1428.19 Q247.924 1433.34 247.924 1442.37 Q247.924 1451.44 242.056 1456.59 Q236.151 1461.7 225.807 1461.7 Q215.425 1461.7 209.557 1456.59 Q203.689 1451.44 203.689 1442.37 Z\" fill=\"#000000\" fill-rule=\"nonzero\" fill-opacity=\"1\" /><path clip-path=\"url(#clip570)\" d=\"M221.406 1376.54 L246.834 1376.54 L246.834 1383.46 L221.631 1383.46 Q215.65 1383.46 212.679 1385.8 Q209.707 1388.13 209.707 1392.79 Q209.707 1398.4 213.281 1401.63 Q216.854 1404.87 223.023 1404.87 L246.834 1404.87 L246.834 1411.83 L204.704 1411.83 L204.704 1404.87 L211.249 1404.87 Q207.45 1402.38 205.569 1399.04 Q203.689 1395.65 203.689 1391.25 Q203.689 1383.99 208.202 1380.27 Q212.679 1376.54 221.406 1376.54 Z\" fill=\"#000000\" fill-rule=\"nonzero\" fill-opacity=\"1\" /><path clip-path=\"url(#clip570)\" d=\"M224.039 1326.7 L227.424 1326.7 L227.424 1358.52 Q234.571 1358.07 238.333 1354.24 Q242.056 1350.36 242.056 1343.48 Q242.056 1339.49 241.078 1335.77 Q240.1 1332.01 238.144 1328.32 L244.69 1328.32 Q246.269 1332.04 247.097 1335.96 Q247.924 1339.87 247.924 1343.89 Q247.924 1353.97 242.056 1359.88 Q236.188 1365.75 226.183 1365.75 Q215.838 1365.75 209.782 1360.18 Q203.689 1354.58 203.689 1345.1 Q203.689 1336.59 209.18 1331.67 Q214.635 1326.7 224.039 1326.7 M222.007 1333.62 Q216.327 1333.7 212.942 1336.82 Q209.557 1339.91 209.557 1345.02 Q209.557 1350.81 212.829 1354.31 Q216.102 1357.77 222.045 1358.3 L222.007 1333.62 Z\" fill=\"#000000\" fill-rule=\"nonzero\" fill-opacity=\"1\" /><path clip-path=\"url(#clip570)\" d=\"M780.26 1435.52 L786.015 1435.52 L786.015 1442.14 Q786.015 1445.87 787.52 1447.34 Q789.025 1448.76 792.937 1448.76 L796.66 1448.76 L796.66 1437.37 L802.04 1437.37 L802.04 1448.76 L838.79 1448.76 L838.79 1455.72 L802.04 1455.72 L802.04 1462.34 L796.66 1462.34 L796.66 1455.72 L793.726 1455.72 Q786.692 1455.72 783.495 1452.45 Q780.26 1449.18 780.26 1442.07 L780.26 1435.52 Z\" fill=\"#000000\" fill-rule=\"nonzero\" fill-opacity=\"1\" /><path clip-path=\"url(#clip570)\" d=\"M796.66 1429.73 L796.66 1422.81 L838.79 1422.81 L838.79 1429.73 L796.66 1429.73 M780.26 1429.73 L780.26 1422.81 L789.025 1422.81 L789.025 1429.73 L780.26 1429.73 Z\" fill=\"#000000\" fill-rule=\"nonzero\" fill-opacity=\"1\" /><path clip-path=\"url(#clip570)\" d=\"M796.66 1413.29 L796.66 1405.96 L832.019 1392.79 L796.66 1379.63 L796.66 1372.29 L838.79 1388.09 L838.79 1397.49 L796.66 1413.29 Z\" fill=\"#000000\" fill-rule=\"nonzero\" fill-opacity=\"1\" /><path clip-path=\"url(#clip570)\" d=\"M815.995 1326.7 L819.38 1326.7 L819.38 1358.52 Q826.527 1358.07 830.289 1354.24 Q834.013 1350.36 834.013 1343.48 Q834.013 1339.49 833.035 1335.77 Q832.057 1332.01 830.101 1328.32 L836.646 1328.32 Q838.226 1332.04 839.053 1335.96 Q839.881 1339.87 839.881 1343.89 Q839.881 1353.97 834.013 1359.88 Q828.145 1365.75 818.139 1365.75 Q807.795 1365.75 801.739 1360.18 Q795.645 1354.58 795.645 1345.1 Q795.645 1336.59 801.137 1331.67 Q806.591 1326.7 815.995 1326.7 M813.964 1333.62 Q808.284 1333.7 804.898 1336.82 Q801.513 1339.91 801.513 1345.02 Q801.513 1350.81 804.785 1354.31 Q808.058 1357.77 814.001 1358.3 L813.964 1333.62 Z\" fill=\"#000000\" fill-rule=\"nonzero\" fill-opacity=\"1\" /><path clip-path=\"url(#clip570)\" d=\"M945.891 1397.19 L952.436 1397.19 Q950.931 1400.13 950.179 1403.29 Q949.427 1406.45 949.427 1409.83 Q949.427 1414.99 951.007 1417.58 Q952.586 1420.14 955.746 1420.14 Q958.154 1420.14 959.545 1418.3 Q960.899 1416.45 962.141 1410.89 L962.667 1408.52 Q964.247 1401.14 967.144 1398.06 Q970.002 1394.94 975.156 1394.94 Q981.024 1394.94 984.447 1399.6 Q987.87 1404.23 987.87 1412.35 Q987.87 1415.74 987.193 1419.42 Q986.553 1423.07 985.237 1427.14 L978.09 1427.14 Q980.083 1423.3 981.099 1419.57 Q982.077 1415.85 982.077 1412.2 Q982.077 1407.31 980.422 1404.68 Q978.729 1402.05 975.682 1402.05 Q972.861 1402.05 971.357 1403.96 Q969.852 1405.85 968.46 1412.28 L967.896 1414.68 Q966.542 1421.12 963.758 1423.98 Q960.937 1426.83 956.047 1426.83 Q950.104 1426.83 946.869 1422.62 Q943.634 1418.41 943.634 1410.66 Q943.634 1406.82 944.198 1403.44 Q944.762 1400.05 945.891 1397.19 Z\" fill=\"#000000\" fill-rule=\"nonzero\" fill-opacity=\"1\" /><path clip-path=\"url(#clip570)\" d=\"M944.65 1383.92 L944.65 1376.99 L986.779 1376.99 L986.779 1383.92 L944.65 1383.92 M928.249 1383.92 L928.249 1376.99 L937.014 1376.99 L937.014 1383.92 L928.249 1383.92 Z\" fill=\"#000000\" fill-rule=\"nonzero\" fill-opacity=\"1\" /><path clip-path=\"url(#clip570)\" d=\"M944.65 1327.49 L965.15 1342.73 L986.779 1326.7 L986.779 1334.86 L970.228 1347.13 L986.779 1359.39 L986.779 1367.55 L964.736 1351.19 L944.65 1366.16 L944.65 1358 L959.658 1346.83 L944.65 1335.65 L944.65 1327.49 Z\" fill=\"#000000\" fill-rule=\"nonzero\" fill-opacity=\"1\" /><path clip-path=\"url(#clip570)\" d=\"M2112.16 1620.14 L2117.92 1620.14 L2117.92 1626.76 Q2117.92 1630.49 2119.42 1631.95 Q2120.93 1633.38 2124.84 1633.38 L2128.56 1633.38 L2128.56 1621.98 L2133.94 1621.98 L2133.94 1633.38 L2170.69 1633.38 L2170.69 1640.34 L2133.94 1640.34 L2133.94 1646.96 L2128.56 1646.96 L2128.56 1640.34 L2125.63 1640.34 Q2118.59 1640.34 2115.4 1637.07 Q2112.16 1633.8 2112.16 1626.69 L2112.16 1620.14 Z\" fill=\"#000000\" fill-rule=\"nonzero\" fill-opacity=\"1\" /><path clip-path=\"url(#clip570)\" d=\"M2133.41 1598.02 Q2133.41 1603.59 2137.78 1606.82 Q2142.1 1610.06 2149.66 1610.06 Q2157.23 1610.06 2161.59 1606.86 Q2165.91 1603.63 2165.91 1598.02 Q2165.91 1592.49 2161.55 1589.26 Q2157.19 1586.02 2149.66 1586.02 Q2142.18 1586.02 2137.82 1589.26 Q2133.41 1592.49 2133.41 1598.02 M2127.55 1598.02 Q2127.55 1589 2133.41 1583.84 Q2139.28 1578.69 2149.66 1578.69 Q2160.01 1578.69 2165.91 1583.84 Q2171.78 1589 2171.78 1598.02 Q2171.78 1607.09 2165.91 1612.24 Q2160.01 1617.36 2149.66 1617.36 Q2139.28 1617.36 2133.41 1612.24 Q2127.55 1607.09 2127.55 1598.02 Z\" fill=\"#000000\" fill-rule=\"nonzero\" fill-opacity=\"1\" /><path clip-path=\"url(#clip570)\" d=\"M2154.07 1567.93 L2128.56 1567.93 L2128.56 1561.01 L2153.8 1561.01 Q2159.78 1561.01 2162.79 1558.68 Q2165.76 1556.34 2165.76 1551.68 Q2165.76 1546.08 2162.19 1542.84 Q2158.62 1539.57 2152.45 1539.57 L2128.56 1539.57 L2128.56 1532.65 L2170.69 1532.65 L2170.69 1539.57 L2164.22 1539.57 Q2168.06 1542.09 2169.94 1545.44 Q2171.78 1548.75 2171.78 1553.15 Q2171.78 1560.41 2167.27 1564.17 Q2162.75 1567.93 2154.07 1567.93 M2127.55 1550.51 L2127.55 1550.51 Z\" fill=\"#000000\" fill-rule=\"nonzero\" fill-opacity=\"1\" /><path clip-path=\"url(#clip570)\" d=\"M2135.03 1493.98 Q2134.35 1495.14 2134.05 1496.54 Q2133.72 1497.89 2133.72 1499.55 Q2133.72 1505.41 2137.55 1508.57 Q2141.35 1511.7 2148.5 1511.7 L2170.69 1511.7 L2170.69 1518.65 L2128.56 1518.65 L2128.56 1511.7 L2135.11 1511.7 Q2131.27 1509.51 2129.43 1506.02 Q2127.55 1502.52 2127.55 1497.51 Q2127.55 1496.8 2127.66 1495.93 Q2127.73 1495.07 2127.92 1494.02 L2135.03 1493.98 Z\" fill=\"#000000\" fill-rule=\"nonzero\" fill-opacity=\"1\" /><path clip-path=\"url(#clip570)\" d=\"M2116.6 1479.87 L2128.56 1479.87 L2128.56 1465.62 L2133.94 1465.62 L2133.94 1479.87 L2156.81 1479.87 Q2161.96 1479.87 2163.43 1478.48 Q2164.9 1477.05 2164.9 1472.73 L2164.9 1465.62 L2170.69 1465.62 L2170.69 1472.73 Q2170.69 1480.74 2167.72 1483.78 Q2164.71 1486.83 2156.81 1486.83 L2133.94 1486.83 L2133.94 1491.91 L2128.56 1491.91 L2128.56 1486.83 L2116.6 1486.83 L2116.6 1479.87 Z\" fill=\"#000000\" fill-rule=\"nonzero\" fill-opacity=\"1\" /><path clip-path=\"url(#clip570)\" d=\"M2147.9 1420.48 L2151.28 1420.48 L2151.28 1452.3 Q2158.43 1451.85 2162.19 1448.01 Q2165.91 1444.14 2165.91 1437.25 Q2165.91 1433.27 2164.94 1429.54 Q2163.96 1425.78 2162 1422.1 L2168.55 1422.1 Q2170.13 1425.82 2170.95 1429.73 Q2171.78 1433.64 2171.78 1437.67 Q2171.78 1447.75 2165.91 1453.65 Q2160.05 1459.52 2150.04 1459.52 Q2139.7 1459.52 2133.64 1453.96 Q2127.55 1448.35 2127.55 1438.87 Q2127.55 1430.37 2133.04 1425.44 Q2138.49 1420.48 2147.9 1420.48 M2145.87 1427.4 Q2140.19 1427.47 2136.8 1430.6 Q2133.41 1433.68 2133.41 1438.8 Q2133.41 1444.59 2136.69 1448.09 Q2139.96 1451.55 2145.9 1452.07 L2145.87 1427.4 Z\" fill=\"#000000\" fill-rule=\"nonzero\" fill-opacity=\"1\" /><path clip-path=\"url(#clip570)\" d=\"M2147.9 1373.08 L2151.28 1373.08 L2151.28 1404.9 Q2158.43 1404.45 2162.19 1400.62 Q2165.91 1396.74 2165.91 1389.86 Q2165.91 1385.87 2164.94 1382.15 Q2163.96 1378.39 2162 1374.7 L2168.55 1374.7 Q2170.13 1378.42 2170.95 1382.34 Q2171.78 1386.25 2171.78 1390.27 Q2171.78 1400.35 2165.91 1406.26 Q2160.05 1412.13 2150.04 1412.13 Q2139.7 1412.13 2133.64 1406.56 Q2127.55 1400.96 2127.55 1391.48 Q2127.55 1382.97 2133.04 1378.05 Q2138.49 1373.08 2147.9 1373.08 M2145.87 1380 Q2140.19 1380.08 2136.8 1383.2 Q2133.41 1386.29 2133.41 1391.4 Q2133.41 1397.19 2136.69 1400.69 Q2139.96 1404.15 2145.9 1404.68 L2145.87 1380 Z\" fill=\"#000000\" fill-rule=\"nonzero\" fill-opacity=\"1\" /><path clip-path=\"url(#clip570)\" d=\"M2145.26 1326.7 L2170.69 1326.7 L2170.69 1333.62 L2145.49 1333.62 Q2139.51 1333.62 2136.54 1335.96 Q2133.56 1338.29 2133.56 1342.95 Q2133.56 1348.56 2137.14 1351.79 Q2140.71 1355.03 2146.88 1355.03 L2170.69 1355.03 L2170.69 1361.99 L2128.56 1361.99 L2128.56 1355.03 L2135.11 1355.03 Q2131.31 1352.54 2129.43 1349.2 Q2127.55 1345.81 2127.55 1341.41 Q2127.55 1334.15 2132.06 1330.43 Q2136.54 1326.7 2145.26 1326.7 Z\" fill=\"#000000\" fill-rule=\"nonzero\" fill-opacity=\"1\" /><polyline clip-path=\"url(#clip572)\" style=\"stroke:#000000; stroke-linecap:round; stroke-linejoin:round; stroke-width:2; stroke-opacity:0.1; fill:none\" points=\"156.598,1076.38 2352.76,1076.38 \"/>\n",
       "<polyline clip-path=\"url(#clip572)\" style=\"stroke:#000000; stroke-linecap:round; stroke-linejoin:round; stroke-width:2; stroke-opacity:0.1; fill:none\" points=\"156.598,794.324 2352.76,794.324 \"/>\n",
       "<polyline clip-path=\"url(#clip572)\" style=\"stroke:#000000; stroke-linecap:round; stroke-linejoin:round; stroke-width:2; stroke-opacity:0.1; fill:none\" points=\"156.598,512.268 2352.76,512.268 \"/>\n",
       "<polyline clip-path=\"url(#clip572)\" style=\"stroke:#000000; stroke-linecap:round; stroke-linejoin:round; stroke-width:2; stroke-opacity:0.1; fill:none\" points=\"156.598,230.212 2352.76,230.212 \"/>\n",
       "<polyline clip-path=\"url(#clip570)\" style=\"stroke:#000000; stroke-linecap:round; stroke-linejoin:round; stroke-width:4; stroke-opacity:1; fill:none\" points=\"156.598,1307.5 156.598,47.2441 \"/>\n",
       "<polyline clip-path=\"url(#clip570)\" style=\"stroke:#000000; stroke-linecap:round; stroke-linejoin:round; stroke-width:4; stroke-opacity:1; fill:none\" points=\"156.598,1076.38 175.496,1076.38 \"/>\n",
       "<polyline clip-path=\"url(#clip570)\" style=\"stroke:#000000; stroke-linecap:round; stroke-linejoin:round; stroke-width:4; stroke-opacity:1; fill:none\" points=\"156.598,794.324 175.496,794.324 \"/>\n",
       "<polyline clip-path=\"url(#clip570)\" style=\"stroke:#000000; stroke-linecap:round; stroke-linejoin:round; stroke-width:4; stroke-opacity:1; fill:none\" points=\"156.598,512.268 175.496,512.268 \"/>\n",
       "<polyline clip-path=\"url(#clip570)\" style=\"stroke:#000000; stroke-linecap:round; stroke-linejoin:round; stroke-width:4; stroke-opacity:1; fill:none\" points=\"156.598,230.212 175.496,230.212 \"/>\n",
       "<path clip-path=\"url(#clip570)\" d=\"M65.0198 1062.18 Q61.4087 1062.18 59.58 1065.74 Q57.7745 1069.29 57.7745 1076.41 Q57.7745 1083.52 59.58 1087.09 Q61.4087 1090.63 65.0198 1090.63 Q68.6541 1090.63 70.4596 1087.09 Q72.2883 1083.52 72.2883 1076.41 Q72.2883 1069.29 70.4596 1065.74 Q68.6541 1062.18 65.0198 1062.18 M65.0198 1058.47 Q70.83 1058.47 73.8855 1063.08 Q76.9642 1067.66 76.9642 1076.41 Q76.9642 1085.14 73.8855 1089.75 Q70.83 1094.33 65.0198 1094.33 Q59.2097 1094.33 56.131 1089.75 Q53.0754 1085.14 53.0754 1076.41 Q53.0754 1067.66 56.131 1063.08 Q59.2097 1058.47 65.0198 1058.47 Z\" fill=\"#000000\" fill-rule=\"nonzero\" fill-opacity=\"1\" /><path clip-path=\"url(#clip570)\" d=\"M85.1818 1087.78 L90.066 1087.78 L90.066 1093.66 L85.1818 1093.66 L85.1818 1087.78 Z\" fill=\"#000000\" fill-rule=\"nonzero\" fill-opacity=\"1\" /><path clip-path=\"url(#clip570)\" d=\"M104.279 1089.72 L120.598 1089.72 L120.598 1093.66 L98.6539 1093.66 L98.6539 1089.72 Q101.316 1086.97 105.899 1082.34 Q110.506 1077.69 111.686 1076.35 Q113.932 1073.82 114.811 1072.09 Q115.714 1070.33 115.714 1068.64 Q115.714 1065.88 113.77 1064.15 Q111.848 1062.41 108.746 1062.41 Q106.547 1062.41 104.094 1063.17 Q101.663 1063.94 98.8854 1065.49 L98.8854 1060.77 Q101.709 1059.63 104.163 1059.05 Q106.617 1058.47 108.654 1058.47 Q114.024 1058.47 117.219 1061.16 Q120.413 1063.85 120.413 1068.34 Q120.413 1070.47 119.603 1072.39 Q118.816 1074.29 116.709 1076.88 Q116.131 1077.55 113.029 1080.77 Q109.927 1083.96 104.279 1089.72 Z\" fill=\"#000000\" fill-rule=\"nonzero\" fill-opacity=\"1\" /><path clip-path=\"url(#clip570)\" d=\"M62.9365 780.123 Q59.3254 780.123 57.4967 783.687 Q55.6912 787.229 55.6912 794.359 Q55.6912 801.465 57.4967 805.03 Q59.3254 808.572 62.9365 808.572 Q66.5707 808.572 68.3763 805.03 Q70.205 801.465 70.205 794.359 Q70.205 787.229 68.3763 783.687 Q66.5707 780.123 62.9365 780.123 M62.9365 776.419 Q68.7467 776.419 71.8022 781.025 Q74.8809 785.609 74.8809 794.359 Q74.8809 803.086 71.8022 807.692 Q68.7467 812.275 62.9365 812.275 Q57.1264 812.275 54.0477 807.692 Q50.9921 803.086 50.9921 794.359 Q50.9921 785.609 54.0477 781.025 Q57.1264 776.419 62.9365 776.419 Z\" fill=\"#000000\" fill-rule=\"nonzero\" fill-opacity=\"1\" /><path clip-path=\"url(#clip570)\" d=\"M83.0984 805.724 L87.9827 805.724 L87.9827 811.604 L83.0984 811.604 L83.0984 805.724 Z\" fill=\"#000000\" fill-rule=\"nonzero\" fill-opacity=\"1\" /><path clip-path=\"url(#clip570)\" d=\"M111.015 781.118 L99.2095 799.567 L111.015 799.567 L111.015 781.118 M109.788 777.044 L115.668 777.044 L115.668 799.567 L120.598 799.567 L120.598 803.456 L115.668 803.456 L115.668 811.604 L111.015 811.604 L111.015 803.456 L95.4132 803.456 L95.4132 798.942 L109.788 777.044 Z\" fill=\"#000000\" fill-rule=\"nonzero\" fill-opacity=\"1\" /><path clip-path=\"url(#clip570)\" d=\"M63.2606 498.067 Q59.6495 498.067 57.8208 501.631 Q56.0152 505.173 56.0152 512.303 Q56.0152 519.409 57.8208 522.974 Q59.6495 526.516 63.2606 526.516 Q66.8948 526.516 68.7004 522.974 Q70.5291 519.409 70.5291 512.303 Q70.5291 505.173 68.7004 501.631 Q66.8948 498.067 63.2606 498.067 M63.2606 494.363 Q69.0707 494.363 72.1263 498.969 Q75.205 503.553 75.205 512.303 Q75.205 521.03 72.1263 525.636 Q69.0707 530.219 63.2606 530.219 Q57.4504 530.219 54.3717 525.636 Q51.3162 521.03 51.3162 512.303 Q51.3162 503.553 54.3717 498.969 Q57.4504 494.363 63.2606 494.363 Z\" fill=\"#000000\" fill-rule=\"nonzero\" fill-opacity=\"1\" /><path clip-path=\"url(#clip570)\" d=\"M83.4225 523.668 L88.3067 523.668 L88.3067 529.548 L83.4225 529.548 L83.4225 523.668 Z\" fill=\"#000000\" fill-rule=\"nonzero\" fill-opacity=\"1\" /><path clip-path=\"url(#clip570)\" d=\"M109.071 510.405 Q105.922 510.405 104.071 512.557 Q102.242 514.71 102.242 518.46 Q102.242 522.187 104.071 524.363 Q105.922 526.516 109.071 526.516 Q112.219 526.516 114.047 524.363 Q115.899 522.187 115.899 518.46 Q115.899 514.71 114.047 512.557 Q112.219 510.405 109.071 510.405 M118.353 495.752 L118.353 500.011 Q116.594 499.178 114.788 498.738 Q113.006 498.298 111.246 498.298 Q106.617 498.298 104.163 501.423 Q101.733 504.548 101.385 510.868 Q102.751 508.854 104.811 507.789 Q106.871 506.701 109.348 506.701 Q114.557 506.701 117.566 509.872 Q120.598 513.02 120.598 518.46 Q120.598 523.784 117.45 527.002 Q114.302 530.219 109.071 530.219 Q103.075 530.219 99.9039 525.636 Q96.7326 521.03 96.7326 512.303 Q96.7326 504.108 100.621 499.247 Q104.51 494.363 111.061 494.363 Q112.82 494.363 114.603 494.71 Q116.408 495.057 118.353 495.752 Z\" fill=\"#000000\" fill-rule=\"nonzero\" fill-opacity=\"1\" /><path clip-path=\"url(#clip570)\" d=\"M63.5152 216.011 Q59.9041 216.011 58.0754 219.575 Q56.2699 223.117 56.2699 230.247 Q56.2699 237.353 58.0754 240.918 Q59.9041 244.46 63.5152 244.46 Q67.1494 244.46 68.955 240.918 Q70.7837 237.353 70.7837 230.247 Q70.7837 223.117 68.955 219.575 Q67.1494 216.011 63.5152 216.011 M63.5152 212.307 Q69.3254 212.307 72.3809 216.913 Q75.4596 221.497 75.4596 230.247 Q75.4596 238.974 72.3809 243.58 Q69.3254 248.163 63.5152 248.163 Q57.7051 248.163 54.6264 243.58 Q51.5708 238.974 51.5708 230.247 Q51.5708 221.497 54.6264 216.913 Q57.7051 212.307 63.5152 212.307 Z\" fill=\"#000000\" fill-rule=\"nonzero\" fill-opacity=\"1\" /><path clip-path=\"url(#clip570)\" d=\"M83.6771 241.612 L88.5614 241.612 L88.5614 247.492 L83.6771 247.492 L83.6771 241.612 Z\" fill=\"#000000\" fill-rule=\"nonzero\" fill-opacity=\"1\" /><path clip-path=\"url(#clip570)\" d=\"M108.746 231.08 Q105.413 231.08 103.492 232.862 Q101.594 234.645 101.594 237.77 Q101.594 240.895 103.492 242.677 Q105.413 244.46 108.746 244.46 Q112.08 244.46 114.001 242.677 Q115.922 240.872 115.922 237.77 Q115.922 234.645 114.001 232.862 Q112.103 231.08 108.746 231.08 M104.071 229.089 Q101.061 228.349 99.3715 226.288 Q97.7048 224.228 97.7048 221.265 Q97.7048 217.122 100.645 214.714 Q103.608 212.307 108.746 212.307 Q113.908 212.307 116.848 214.714 Q119.788 217.122 119.788 221.265 Q119.788 224.228 118.098 226.288 Q116.432 228.349 113.445 229.089 Q116.825 229.876 118.7 232.168 Q120.598 234.46 120.598 237.77 Q120.598 242.793 117.52 245.478 Q114.464 248.163 108.746 248.163 Q103.029 248.163 99.9502 245.478 Q96.8947 242.793 96.8947 237.77 Q96.8947 234.46 98.7928 232.168 Q100.691 229.876 104.071 229.089 M102.358 221.705 Q102.358 224.39 104.024 225.895 Q105.714 227.399 108.746 227.399 Q111.756 227.399 113.445 225.895 Q115.158 224.39 115.158 221.705 Q115.158 219.02 113.445 217.515 Q111.756 216.011 108.746 216.011 Q105.714 216.011 104.024 217.515 Q102.358 219.02 102.358 221.705 Z\" fill=\"#000000\" fill-rule=\"nonzero\" fill-opacity=\"1\" /><polyline clip-path=\"url(#clip572)\" style=\"stroke:#009af9; stroke-linecap:round; stroke-linejoin:round; stroke-width:4; stroke-opacity:1; fill:none\" points=\"218.754,1253.73 366.743,1150.52 514.732,887.675 662.721,443.359 810.71,171.912 958.699,219.633 1106.69,272.064 1254.68,1098.68 1402.67,765.597 1550.66,350.747 1698.64,1271.83 1846.63,375.345 1994.62,527.167 2142.61,747.886 2290.6,82.9118 \"/>\n",
       "<path clip-path=\"url(#clip570)\" d=\"M229.803 192.933 L501.85 192.933 L501.85 89.2527 L229.803 89.2527  Z\" fill=\"#ffffff\" fill-rule=\"evenodd\" fill-opacity=\"1\"/>\n",
       "<polyline clip-path=\"url(#clip570)\" style=\"stroke:#000000; stroke-linecap:round; stroke-linejoin:round; stroke-width:4; stroke-opacity:1; fill:none\" points=\"229.803,192.933 501.85,192.933 501.85,89.2527 229.803,89.2527 229.803,192.933 \"/>\n",
       "<polyline clip-path=\"url(#clip570)\" style=\"stroke:#009af9; stroke-linecap:round; stroke-linejoin:round; stroke-width:4; stroke-opacity:1; fill:none\" points=\"254.205,141.093 400.616,141.093 \"/>\n",
       "<path clip-path=\"url(#clip570)\" d=\"M438.86 160.78 Q437.054 165.41 435.342 166.822 Q433.629 168.234 430.758 168.234 L427.355 168.234 L427.355 164.669 L429.855 164.669 Q431.615 164.669 432.587 163.836 Q433.559 163.002 434.74 159.9 L435.504 157.956 L425.018 132.447 L429.531 132.447 L437.633 152.725 L445.735 132.447 L450.249 132.447 L438.86 160.78 Z\" fill=\"#000000\" fill-rule=\"nonzero\" fill-opacity=\"1\" /><path clip-path=\"url(#clip570)\" d=\"M457.54 154.438 L465.179 154.438 L465.179 128.072 L456.869 129.739 L456.869 125.479 L465.133 123.813 L469.809 123.813 L469.809 154.438 L477.448 154.438 L477.448 158.373 L457.54 158.373 L457.54 154.438 Z\" fill=\"#000000\" fill-rule=\"nonzero\" fill-opacity=\"1\" /></svg>\n"
      ],
      "text/html": [
       "<?xml version=\"1.0\" encoding=\"utf-8\"?>\n",
       "<svg xmlns=\"http://www.w3.org/2000/svg\" xmlns:xlink=\"http://www.w3.org/1999/xlink\" width=\"600\" height=\"400\" viewBox=\"0 0 2400 1600\">\n",
       "<defs>\n",
       "  <clipPath id=\"clip620\">\n",
       "    <rect x=\"0\" y=\"0\" width=\"2400\" height=\"1600\"/>\n",
       "  </clipPath>\n",
       "</defs>\n",
       "<path clip-path=\"url(#clip620)\" d=\"M0 1600 L2400 1600 L2400 0 L0 0  Z\" fill=\"#ffffff\" fill-rule=\"evenodd\" fill-opacity=\"1\"/>\n",
       "<defs>\n",
       "  <clipPath id=\"clip621\">\n",
       "    <rect x=\"480\" y=\"0\" width=\"1681\" height=\"1600\"/>\n",
       "  </clipPath>\n",
       "</defs>\n",
       "<path clip-path=\"url(#clip620)\" d=\"M156.598 1307.5 L2352.76 1307.5 L2352.76 47.2441 L156.598 47.2441  Z\" fill=\"#ffffff\" fill-rule=\"evenodd\" fill-opacity=\"1\"/>\n",
       "<defs>\n",
       "  <clipPath id=\"clip622\">\n",
       "    <rect x=\"156\" y=\"47\" width=\"2197\" height=\"1261\"/>\n",
       "  </clipPath>\n",
       "</defs>\n",
       "<polyline clip-path=\"url(#clip622)\" style=\"stroke:#000000; stroke-linecap:round; stroke-linejoin:round; stroke-width:2; stroke-opacity:0.1; fill:none\" points=\"218.754,1307.5 218.754,47.2441 \"/>\n",
       "<polyline clip-path=\"url(#clip622)\" style=\"stroke:#000000; stroke-linecap:round; stroke-linejoin:round; stroke-width:2; stroke-opacity:0.1; fill:none\" points=\"810.71,1307.5 810.71,47.2441 \"/>\n",
       "<polyline clip-path=\"url(#clip622)\" style=\"stroke:#000000; stroke-linecap:round; stroke-linejoin:round; stroke-width:2; stroke-opacity:0.1; fill:none\" points=\"958.699,1307.5 958.699,47.2441 \"/>\n",
       "<polyline clip-path=\"url(#clip622)\" style=\"stroke:#000000; stroke-linecap:round; stroke-linejoin:round; stroke-width:2; stroke-opacity:0.1; fill:none\" points=\"2142.61,1307.5 2142.61,47.2441 \"/>\n",
       "<polyline clip-path=\"url(#clip620)\" style=\"stroke:#000000; stroke-linecap:round; stroke-linejoin:round; stroke-width:4; stroke-opacity:1; fill:none\" points=\"156.598,1307.5 2352.76,1307.5 \"/>\n",
       "<polyline clip-path=\"url(#clip620)\" style=\"stroke:#000000; stroke-linecap:round; stroke-linejoin:round; stroke-width:4; stroke-opacity:1; fill:none\" points=\"218.754,1307.5 218.754,1288.6 \"/>\n",
       "<polyline clip-path=\"url(#clip620)\" style=\"stroke:#000000; stroke-linecap:round; stroke-linejoin:round; stroke-width:4; stroke-opacity:1; fill:none\" points=\"810.71,1307.5 810.71,1288.6 \"/>\n",
       "<polyline clip-path=\"url(#clip620)\" style=\"stroke:#000000; stroke-linecap:round; stroke-linejoin:round; stroke-width:4; stroke-opacity:1; fill:none\" points=\"958.699,1307.5 958.699,1288.6 \"/>\n",
       "<polyline clip-path=\"url(#clip620)\" style=\"stroke:#000000; stroke-linecap:round; stroke-linejoin:round; stroke-width:4; stroke-opacity:1; fill:none\" points=\"2142.61,1307.5 2142.61,1288.6 \"/>\n",
       "<path clip-path=\"url(#clip620)\" d=\"M209.557 1442.37 Q209.557 1447.94 213.92 1451.17 Q218.246 1454.41 225.807 1454.41 Q233.367 1454.41 237.731 1451.21 Q242.056 1447.97 242.056 1442.37 Q242.056 1436.84 237.693 1433.61 Q233.33 1430.37 225.807 1430.37 Q218.321 1430.37 213.958 1433.61 Q209.557 1436.84 209.557 1442.37 M203.689 1442.37 Q203.689 1433.34 209.557 1428.19 Q215.425 1423.04 225.807 1423.04 Q236.151 1423.04 242.056 1428.19 Q247.924 1433.34 247.924 1442.37 Q247.924 1451.44 242.056 1456.59 Q236.151 1461.7 225.807 1461.7 Q215.425 1461.7 209.557 1456.59 Q203.689 1451.44 203.689 1442.37 Z\" fill=\"#000000\" fill-rule=\"nonzero\" fill-opacity=\"1\" /><path clip-path=\"url(#clip620)\" d=\"M221.406 1376.54 L246.834 1376.54 L246.834 1383.46 L221.631 1383.46 Q215.65 1383.46 212.679 1385.8 Q209.707 1388.13 209.707 1392.79 Q209.707 1398.4 213.281 1401.63 Q216.854 1404.87 223.023 1404.87 L246.834 1404.87 L246.834 1411.83 L204.704 1411.83 L204.704 1404.87 L211.249 1404.87 Q207.45 1402.38 205.569 1399.04 Q203.689 1395.65 203.689 1391.25 Q203.689 1383.99 208.202 1380.27 Q212.679 1376.54 221.406 1376.54 Z\" fill=\"#000000\" fill-rule=\"nonzero\" fill-opacity=\"1\" /><path clip-path=\"url(#clip620)\" d=\"M224.039 1326.7 L227.424 1326.7 L227.424 1358.52 Q234.571 1358.07 238.333 1354.24 Q242.056 1350.36 242.056 1343.48 Q242.056 1339.49 241.078 1335.77 Q240.1 1332.01 238.144 1328.32 L244.69 1328.32 Q246.269 1332.04 247.097 1335.96 Q247.924 1339.87 247.924 1343.89 Q247.924 1353.97 242.056 1359.88 Q236.188 1365.75 226.183 1365.75 Q215.838 1365.75 209.782 1360.18 Q203.689 1354.58 203.689 1345.1 Q203.689 1336.59 209.18 1331.67 Q214.635 1326.7 224.039 1326.7 M222.007 1333.62 Q216.327 1333.7 212.942 1336.82 Q209.557 1339.91 209.557 1345.02 Q209.557 1350.81 212.829 1354.31 Q216.102 1357.77 222.045 1358.3 L222.007 1333.62 Z\" fill=\"#000000\" fill-rule=\"nonzero\" fill-opacity=\"1\" /><path clip-path=\"url(#clip620)\" d=\"M780.26 1435.52 L786.015 1435.52 L786.015 1442.14 Q786.015 1445.87 787.52 1447.34 Q789.025 1448.76 792.937 1448.76 L796.66 1448.76 L796.66 1437.37 L802.04 1437.37 L802.04 1448.76 L838.79 1448.76 L838.79 1455.72 L802.04 1455.72 L802.04 1462.34 L796.66 1462.34 L796.66 1455.72 L793.726 1455.72 Q786.692 1455.72 783.495 1452.45 Q780.26 1449.18 780.26 1442.07 L780.26 1435.52 Z\" fill=\"#000000\" fill-rule=\"nonzero\" fill-opacity=\"1\" /><path clip-path=\"url(#clip620)\" d=\"M796.66 1429.73 L796.66 1422.81 L838.79 1422.81 L838.79 1429.73 L796.66 1429.73 M780.26 1429.73 L780.26 1422.81 L789.025 1422.81 L789.025 1429.73 L780.26 1429.73 Z\" fill=\"#000000\" fill-rule=\"nonzero\" fill-opacity=\"1\" /><path clip-path=\"url(#clip620)\" d=\"M796.66 1413.29 L796.66 1405.96 L832.019 1392.79 L796.66 1379.63 L796.66 1372.29 L838.79 1388.09 L838.79 1397.49 L796.66 1413.29 Z\" fill=\"#000000\" fill-rule=\"nonzero\" fill-opacity=\"1\" /><path clip-path=\"url(#clip620)\" d=\"M815.995 1326.7 L819.38 1326.7 L819.38 1358.52 Q826.527 1358.07 830.289 1354.24 Q834.013 1350.36 834.013 1343.48 Q834.013 1339.49 833.035 1335.77 Q832.057 1332.01 830.101 1328.32 L836.646 1328.32 Q838.226 1332.04 839.053 1335.96 Q839.881 1339.87 839.881 1343.89 Q839.881 1353.97 834.013 1359.88 Q828.145 1365.75 818.139 1365.75 Q807.795 1365.75 801.739 1360.18 Q795.645 1354.58 795.645 1345.1 Q795.645 1336.59 801.137 1331.67 Q806.591 1326.7 815.995 1326.7 M813.964 1333.62 Q808.284 1333.7 804.898 1336.82 Q801.513 1339.91 801.513 1345.02 Q801.513 1350.81 804.785 1354.31 Q808.058 1357.77 814.001 1358.3 L813.964 1333.62 Z\" fill=\"#000000\" fill-rule=\"nonzero\" fill-opacity=\"1\" /><path clip-path=\"url(#clip620)\" d=\"M945.891 1397.19 L952.436 1397.19 Q950.931 1400.13 950.179 1403.29 Q949.427 1406.45 949.427 1409.83 Q949.427 1414.99 951.007 1417.58 Q952.586 1420.14 955.746 1420.14 Q958.154 1420.14 959.545 1418.3 Q960.899 1416.45 962.141 1410.89 L962.667 1408.52 Q964.247 1401.14 967.144 1398.06 Q970.002 1394.94 975.156 1394.94 Q981.024 1394.94 984.447 1399.6 Q987.87 1404.23 987.87 1412.35 Q987.87 1415.74 987.193 1419.42 Q986.553 1423.07 985.237 1427.14 L978.09 1427.14 Q980.083 1423.3 981.099 1419.57 Q982.077 1415.85 982.077 1412.2 Q982.077 1407.31 980.422 1404.68 Q978.729 1402.05 975.682 1402.05 Q972.861 1402.05 971.357 1403.96 Q969.852 1405.85 968.46 1412.28 L967.896 1414.68 Q966.542 1421.12 963.758 1423.98 Q960.937 1426.83 956.047 1426.83 Q950.104 1426.83 946.869 1422.62 Q943.634 1418.41 943.634 1410.66 Q943.634 1406.82 944.198 1403.44 Q944.762 1400.05 945.891 1397.19 Z\" fill=\"#000000\" fill-rule=\"nonzero\" fill-opacity=\"1\" /><path clip-path=\"url(#clip620)\" d=\"M944.65 1383.92 L944.65 1376.99 L986.779 1376.99 L986.779 1383.92 L944.65 1383.92 M928.249 1383.92 L928.249 1376.99 L937.014 1376.99 L937.014 1383.92 L928.249 1383.92 Z\" fill=\"#000000\" fill-rule=\"nonzero\" fill-opacity=\"1\" /><path clip-path=\"url(#clip620)\" d=\"M944.65 1327.49 L965.15 1342.73 L986.779 1326.7 L986.779 1334.86 L970.228 1347.13 L986.779 1359.39 L986.779 1367.55 L964.736 1351.19 L944.65 1366.16 L944.65 1358 L959.658 1346.83 L944.65 1335.65 L944.65 1327.49 Z\" fill=\"#000000\" fill-rule=\"nonzero\" fill-opacity=\"1\" /><path clip-path=\"url(#clip620)\" d=\"M2112.16 1620.14 L2117.92 1620.14 L2117.92 1626.76 Q2117.92 1630.49 2119.42 1631.95 Q2120.93 1633.38 2124.84 1633.38 L2128.56 1633.38 L2128.56 1621.98 L2133.94 1621.98 L2133.94 1633.38 L2170.69 1633.38 L2170.69 1640.34 L2133.94 1640.34 L2133.94 1646.96 L2128.56 1646.96 L2128.56 1640.34 L2125.63 1640.34 Q2118.59 1640.34 2115.4 1637.07 Q2112.16 1633.8 2112.16 1626.69 L2112.16 1620.14 Z\" fill=\"#000000\" fill-rule=\"nonzero\" fill-opacity=\"1\" /><path clip-path=\"url(#clip620)\" d=\"M2133.41 1598.02 Q2133.41 1603.59 2137.78 1606.82 Q2142.1 1610.06 2149.66 1610.06 Q2157.23 1610.06 2161.59 1606.86 Q2165.91 1603.63 2165.91 1598.02 Q2165.91 1592.49 2161.55 1589.26 Q2157.19 1586.02 2149.66 1586.02 Q2142.18 1586.02 2137.82 1589.26 Q2133.41 1592.49 2133.41 1598.02 M2127.55 1598.02 Q2127.55 1589 2133.41 1583.84 Q2139.28 1578.69 2149.66 1578.69 Q2160.01 1578.69 2165.91 1583.84 Q2171.78 1589 2171.78 1598.02 Q2171.78 1607.09 2165.91 1612.24 Q2160.01 1617.36 2149.66 1617.36 Q2139.28 1617.36 2133.41 1612.24 Q2127.55 1607.09 2127.55 1598.02 Z\" fill=\"#000000\" fill-rule=\"nonzero\" fill-opacity=\"1\" /><path clip-path=\"url(#clip620)\" d=\"M2154.07 1567.93 L2128.56 1567.93 L2128.56 1561.01 L2153.8 1561.01 Q2159.78 1561.01 2162.79 1558.68 Q2165.76 1556.34 2165.76 1551.68 Q2165.76 1546.08 2162.19 1542.84 Q2158.62 1539.57 2152.45 1539.57 L2128.56 1539.57 L2128.56 1532.65 L2170.69 1532.65 L2170.69 1539.57 L2164.22 1539.57 Q2168.06 1542.09 2169.94 1545.44 Q2171.78 1548.75 2171.78 1553.15 Q2171.78 1560.41 2167.27 1564.17 Q2162.75 1567.93 2154.07 1567.93 M2127.55 1550.51 L2127.55 1550.51 Z\" fill=\"#000000\" fill-rule=\"nonzero\" fill-opacity=\"1\" /><path clip-path=\"url(#clip620)\" d=\"M2135.03 1493.98 Q2134.35 1495.14 2134.05 1496.54 Q2133.72 1497.89 2133.72 1499.55 Q2133.72 1505.41 2137.55 1508.57 Q2141.35 1511.7 2148.5 1511.7 L2170.69 1511.7 L2170.69 1518.65 L2128.56 1518.65 L2128.56 1511.7 L2135.11 1511.7 Q2131.27 1509.51 2129.43 1506.02 Q2127.55 1502.52 2127.55 1497.51 Q2127.55 1496.8 2127.66 1495.93 Q2127.73 1495.07 2127.92 1494.02 L2135.03 1493.98 Z\" fill=\"#000000\" fill-rule=\"nonzero\" fill-opacity=\"1\" /><path clip-path=\"url(#clip620)\" d=\"M2116.6 1479.87 L2128.56 1479.87 L2128.56 1465.62 L2133.94 1465.62 L2133.94 1479.87 L2156.81 1479.87 Q2161.96 1479.87 2163.43 1478.48 Q2164.9 1477.05 2164.9 1472.73 L2164.9 1465.62 L2170.69 1465.62 L2170.69 1472.73 Q2170.69 1480.74 2167.72 1483.78 Q2164.71 1486.83 2156.81 1486.83 L2133.94 1486.83 L2133.94 1491.91 L2128.56 1491.91 L2128.56 1486.83 L2116.6 1486.83 L2116.6 1479.87 Z\" fill=\"#000000\" fill-rule=\"nonzero\" fill-opacity=\"1\" /><path clip-path=\"url(#clip620)\" d=\"M2147.9 1420.48 L2151.28 1420.48 L2151.28 1452.3 Q2158.43 1451.85 2162.19 1448.01 Q2165.91 1444.14 2165.91 1437.25 Q2165.91 1433.27 2164.94 1429.54 Q2163.96 1425.78 2162 1422.1 L2168.55 1422.1 Q2170.13 1425.82 2170.95 1429.73 Q2171.78 1433.64 2171.78 1437.67 Q2171.78 1447.75 2165.91 1453.65 Q2160.05 1459.52 2150.04 1459.52 Q2139.7 1459.52 2133.64 1453.96 Q2127.55 1448.35 2127.55 1438.87 Q2127.55 1430.37 2133.04 1425.44 Q2138.49 1420.48 2147.9 1420.48 M2145.87 1427.4 Q2140.19 1427.47 2136.8 1430.6 Q2133.41 1433.68 2133.41 1438.8 Q2133.41 1444.59 2136.69 1448.09 Q2139.96 1451.55 2145.9 1452.07 L2145.87 1427.4 Z\" fill=\"#000000\" fill-rule=\"nonzero\" fill-opacity=\"1\" /><path clip-path=\"url(#clip620)\" d=\"M2147.9 1373.08 L2151.28 1373.08 L2151.28 1404.9 Q2158.43 1404.45 2162.19 1400.62 Q2165.91 1396.74 2165.91 1389.86 Q2165.91 1385.87 2164.94 1382.15 Q2163.96 1378.39 2162 1374.7 L2168.55 1374.7 Q2170.13 1378.42 2170.95 1382.34 Q2171.78 1386.25 2171.78 1390.27 Q2171.78 1400.35 2165.91 1406.26 Q2160.05 1412.13 2150.04 1412.13 Q2139.7 1412.13 2133.64 1406.56 Q2127.55 1400.96 2127.55 1391.48 Q2127.55 1382.97 2133.04 1378.05 Q2138.49 1373.08 2147.9 1373.08 M2145.87 1380 Q2140.19 1380.08 2136.8 1383.2 Q2133.41 1386.29 2133.41 1391.4 Q2133.41 1397.19 2136.69 1400.69 Q2139.96 1404.15 2145.9 1404.68 L2145.87 1380 Z\" fill=\"#000000\" fill-rule=\"nonzero\" fill-opacity=\"1\" /><path clip-path=\"url(#clip620)\" d=\"M2145.26 1326.7 L2170.69 1326.7 L2170.69 1333.62 L2145.49 1333.62 Q2139.51 1333.62 2136.54 1335.96 Q2133.56 1338.29 2133.56 1342.95 Q2133.56 1348.56 2137.14 1351.79 Q2140.71 1355.03 2146.88 1355.03 L2170.69 1355.03 L2170.69 1361.99 L2128.56 1361.99 L2128.56 1355.03 L2135.11 1355.03 Q2131.31 1352.54 2129.43 1349.2 Q2127.55 1345.81 2127.55 1341.41 Q2127.55 1334.15 2132.06 1330.43 Q2136.54 1326.7 2145.26 1326.7 Z\" fill=\"#000000\" fill-rule=\"nonzero\" fill-opacity=\"1\" /><polyline clip-path=\"url(#clip622)\" style=\"stroke:#000000; stroke-linecap:round; stroke-linejoin:round; stroke-width:2; stroke-opacity:0.1; fill:none\" points=\"156.598,1076.38 2352.76,1076.38 \"/>\n",
       "<polyline clip-path=\"url(#clip622)\" style=\"stroke:#000000; stroke-linecap:round; stroke-linejoin:round; stroke-width:2; stroke-opacity:0.1; fill:none\" points=\"156.598,794.324 2352.76,794.324 \"/>\n",
       "<polyline clip-path=\"url(#clip622)\" style=\"stroke:#000000; stroke-linecap:round; stroke-linejoin:round; stroke-width:2; stroke-opacity:0.1; fill:none\" points=\"156.598,512.268 2352.76,512.268 \"/>\n",
       "<polyline clip-path=\"url(#clip622)\" style=\"stroke:#000000; stroke-linecap:round; stroke-linejoin:round; stroke-width:2; stroke-opacity:0.1; fill:none\" points=\"156.598,230.212 2352.76,230.212 \"/>\n",
       "<polyline clip-path=\"url(#clip620)\" style=\"stroke:#000000; stroke-linecap:round; stroke-linejoin:round; stroke-width:4; stroke-opacity:1; fill:none\" points=\"156.598,1307.5 156.598,47.2441 \"/>\n",
       "<polyline clip-path=\"url(#clip620)\" style=\"stroke:#000000; stroke-linecap:round; stroke-linejoin:round; stroke-width:4; stroke-opacity:1; fill:none\" points=\"156.598,1076.38 175.496,1076.38 \"/>\n",
       "<polyline clip-path=\"url(#clip620)\" style=\"stroke:#000000; stroke-linecap:round; stroke-linejoin:round; stroke-width:4; stroke-opacity:1; fill:none\" points=\"156.598,794.324 175.496,794.324 \"/>\n",
       "<polyline clip-path=\"url(#clip620)\" style=\"stroke:#000000; stroke-linecap:round; stroke-linejoin:round; stroke-width:4; stroke-opacity:1; fill:none\" points=\"156.598,512.268 175.496,512.268 \"/>\n",
       "<polyline clip-path=\"url(#clip620)\" style=\"stroke:#000000; stroke-linecap:round; stroke-linejoin:round; stroke-width:4; stroke-opacity:1; fill:none\" points=\"156.598,230.212 175.496,230.212 \"/>\n",
       "<path clip-path=\"url(#clip620)\" d=\"M65.0198 1062.18 Q61.4087 1062.18 59.58 1065.74 Q57.7745 1069.29 57.7745 1076.41 Q57.7745 1083.52 59.58 1087.09 Q61.4087 1090.63 65.0198 1090.63 Q68.6541 1090.63 70.4596 1087.09 Q72.2883 1083.52 72.2883 1076.41 Q72.2883 1069.29 70.4596 1065.74 Q68.6541 1062.18 65.0198 1062.18 M65.0198 1058.47 Q70.83 1058.47 73.8855 1063.08 Q76.9642 1067.66 76.9642 1076.41 Q76.9642 1085.14 73.8855 1089.75 Q70.83 1094.33 65.0198 1094.33 Q59.2097 1094.33 56.131 1089.75 Q53.0754 1085.14 53.0754 1076.41 Q53.0754 1067.66 56.131 1063.08 Q59.2097 1058.47 65.0198 1058.47 Z\" fill=\"#000000\" fill-rule=\"nonzero\" fill-opacity=\"1\" /><path clip-path=\"url(#clip620)\" d=\"M85.1818 1087.78 L90.066 1087.78 L90.066 1093.66 L85.1818 1093.66 L85.1818 1087.78 Z\" fill=\"#000000\" fill-rule=\"nonzero\" fill-opacity=\"1\" /><path clip-path=\"url(#clip620)\" d=\"M104.279 1089.72 L120.598 1089.72 L120.598 1093.66 L98.6539 1093.66 L98.6539 1089.72 Q101.316 1086.97 105.899 1082.34 Q110.506 1077.69 111.686 1076.35 Q113.932 1073.82 114.811 1072.09 Q115.714 1070.33 115.714 1068.64 Q115.714 1065.88 113.77 1064.15 Q111.848 1062.41 108.746 1062.41 Q106.547 1062.41 104.094 1063.17 Q101.663 1063.94 98.8854 1065.49 L98.8854 1060.77 Q101.709 1059.63 104.163 1059.05 Q106.617 1058.47 108.654 1058.47 Q114.024 1058.47 117.219 1061.16 Q120.413 1063.85 120.413 1068.34 Q120.413 1070.47 119.603 1072.39 Q118.816 1074.29 116.709 1076.88 Q116.131 1077.55 113.029 1080.77 Q109.927 1083.96 104.279 1089.72 Z\" fill=\"#000000\" fill-rule=\"nonzero\" fill-opacity=\"1\" /><path clip-path=\"url(#clip620)\" d=\"M62.9365 780.123 Q59.3254 780.123 57.4967 783.687 Q55.6912 787.229 55.6912 794.359 Q55.6912 801.465 57.4967 805.03 Q59.3254 808.572 62.9365 808.572 Q66.5707 808.572 68.3763 805.03 Q70.205 801.465 70.205 794.359 Q70.205 787.229 68.3763 783.687 Q66.5707 780.123 62.9365 780.123 M62.9365 776.419 Q68.7467 776.419 71.8022 781.025 Q74.8809 785.609 74.8809 794.359 Q74.8809 803.086 71.8022 807.692 Q68.7467 812.275 62.9365 812.275 Q57.1264 812.275 54.0477 807.692 Q50.9921 803.086 50.9921 794.359 Q50.9921 785.609 54.0477 781.025 Q57.1264 776.419 62.9365 776.419 Z\" fill=\"#000000\" fill-rule=\"nonzero\" fill-opacity=\"1\" /><path clip-path=\"url(#clip620)\" d=\"M83.0984 805.724 L87.9827 805.724 L87.9827 811.604 L83.0984 811.604 L83.0984 805.724 Z\" fill=\"#000000\" fill-rule=\"nonzero\" fill-opacity=\"1\" /><path clip-path=\"url(#clip620)\" d=\"M111.015 781.118 L99.2095 799.567 L111.015 799.567 L111.015 781.118 M109.788 777.044 L115.668 777.044 L115.668 799.567 L120.598 799.567 L120.598 803.456 L115.668 803.456 L115.668 811.604 L111.015 811.604 L111.015 803.456 L95.4132 803.456 L95.4132 798.942 L109.788 777.044 Z\" fill=\"#000000\" fill-rule=\"nonzero\" fill-opacity=\"1\" /><path clip-path=\"url(#clip620)\" d=\"M63.2606 498.067 Q59.6495 498.067 57.8208 501.631 Q56.0152 505.173 56.0152 512.303 Q56.0152 519.409 57.8208 522.974 Q59.6495 526.516 63.2606 526.516 Q66.8948 526.516 68.7004 522.974 Q70.5291 519.409 70.5291 512.303 Q70.5291 505.173 68.7004 501.631 Q66.8948 498.067 63.2606 498.067 M63.2606 494.363 Q69.0707 494.363 72.1263 498.969 Q75.205 503.553 75.205 512.303 Q75.205 521.03 72.1263 525.636 Q69.0707 530.219 63.2606 530.219 Q57.4504 530.219 54.3717 525.636 Q51.3162 521.03 51.3162 512.303 Q51.3162 503.553 54.3717 498.969 Q57.4504 494.363 63.2606 494.363 Z\" fill=\"#000000\" fill-rule=\"nonzero\" fill-opacity=\"1\" /><path clip-path=\"url(#clip620)\" d=\"M83.4225 523.668 L88.3067 523.668 L88.3067 529.548 L83.4225 529.548 L83.4225 523.668 Z\" fill=\"#000000\" fill-rule=\"nonzero\" fill-opacity=\"1\" /><path clip-path=\"url(#clip620)\" d=\"M109.071 510.405 Q105.922 510.405 104.071 512.557 Q102.242 514.71 102.242 518.46 Q102.242 522.187 104.071 524.363 Q105.922 526.516 109.071 526.516 Q112.219 526.516 114.047 524.363 Q115.899 522.187 115.899 518.46 Q115.899 514.71 114.047 512.557 Q112.219 510.405 109.071 510.405 M118.353 495.752 L118.353 500.011 Q116.594 499.178 114.788 498.738 Q113.006 498.298 111.246 498.298 Q106.617 498.298 104.163 501.423 Q101.733 504.548 101.385 510.868 Q102.751 508.854 104.811 507.789 Q106.871 506.701 109.348 506.701 Q114.557 506.701 117.566 509.872 Q120.598 513.02 120.598 518.46 Q120.598 523.784 117.45 527.002 Q114.302 530.219 109.071 530.219 Q103.075 530.219 99.9039 525.636 Q96.7326 521.03 96.7326 512.303 Q96.7326 504.108 100.621 499.247 Q104.51 494.363 111.061 494.363 Q112.82 494.363 114.603 494.71 Q116.408 495.057 118.353 495.752 Z\" fill=\"#000000\" fill-rule=\"nonzero\" fill-opacity=\"1\" /><path clip-path=\"url(#clip620)\" d=\"M63.5152 216.011 Q59.9041 216.011 58.0754 219.575 Q56.2699 223.117 56.2699 230.247 Q56.2699 237.353 58.0754 240.918 Q59.9041 244.46 63.5152 244.46 Q67.1494 244.46 68.955 240.918 Q70.7837 237.353 70.7837 230.247 Q70.7837 223.117 68.955 219.575 Q67.1494 216.011 63.5152 216.011 M63.5152 212.307 Q69.3254 212.307 72.3809 216.913 Q75.4596 221.497 75.4596 230.247 Q75.4596 238.974 72.3809 243.58 Q69.3254 248.163 63.5152 248.163 Q57.7051 248.163 54.6264 243.58 Q51.5708 238.974 51.5708 230.247 Q51.5708 221.497 54.6264 216.913 Q57.7051 212.307 63.5152 212.307 Z\" fill=\"#000000\" fill-rule=\"nonzero\" fill-opacity=\"1\" /><path clip-path=\"url(#clip620)\" d=\"M83.6771 241.612 L88.5614 241.612 L88.5614 247.492 L83.6771 247.492 L83.6771 241.612 Z\" fill=\"#000000\" fill-rule=\"nonzero\" fill-opacity=\"1\" /><path clip-path=\"url(#clip620)\" d=\"M108.746 231.08 Q105.413 231.08 103.492 232.862 Q101.594 234.645 101.594 237.77 Q101.594 240.895 103.492 242.677 Q105.413 244.46 108.746 244.46 Q112.08 244.46 114.001 242.677 Q115.922 240.872 115.922 237.77 Q115.922 234.645 114.001 232.862 Q112.103 231.08 108.746 231.08 M104.071 229.089 Q101.061 228.349 99.3715 226.288 Q97.7048 224.228 97.7048 221.265 Q97.7048 217.122 100.645 214.714 Q103.608 212.307 108.746 212.307 Q113.908 212.307 116.848 214.714 Q119.788 217.122 119.788 221.265 Q119.788 224.228 118.098 226.288 Q116.432 228.349 113.445 229.089 Q116.825 229.876 118.7 232.168 Q120.598 234.46 120.598 237.77 Q120.598 242.793 117.52 245.478 Q114.464 248.163 108.746 248.163 Q103.029 248.163 99.9502 245.478 Q96.8947 242.793 96.8947 237.77 Q96.8947 234.46 98.7928 232.168 Q100.691 229.876 104.071 229.089 M102.358 221.705 Q102.358 224.39 104.024 225.895 Q105.714 227.399 108.746 227.399 Q111.756 227.399 113.445 225.895 Q115.158 224.39 115.158 221.705 Q115.158 219.02 113.445 217.515 Q111.756 216.011 108.746 216.011 Q105.714 216.011 104.024 217.515 Q102.358 219.02 102.358 221.705 Z\" fill=\"#000000\" fill-rule=\"nonzero\" fill-opacity=\"1\" /><polyline clip-path=\"url(#clip622)\" style=\"stroke:#009af9; stroke-linecap:round; stroke-linejoin:round; stroke-width:4; stroke-opacity:1; fill:none\" points=\"218.754,1253.73 366.743,1150.52 514.732,887.675 662.721,443.359 810.71,171.912 958.699,219.633 1106.69,272.064 1254.68,1098.68 1402.67,765.597 1550.66,350.747 1698.64,1271.83 1846.63,375.345 1994.62,527.167 2142.61,747.886 2290.6,82.9118 \"/>\n",
       "<path clip-path=\"url(#clip620)\" d=\"M229.803 192.933 L501.85 192.933 L501.85 89.2527 L229.803 89.2527  Z\" fill=\"#ffffff\" fill-rule=\"evenodd\" fill-opacity=\"1\"/>\n",
       "<polyline clip-path=\"url(#clip620)\" style=\"stroke:#000000; stroke-linecap:round; stroke-linejoin:round; stroke-width:4; stroke-opacity:1; fill:none\" points=\"229.803,192.933 501.85,192.933 501.85,89.2527 229.803,89.2527 229.803,192.933 \"/>\n",
       "<polyline clip-path=\"url(#clip620)\" style=\"stroke:#009af9; stroke-linecap:round; stroke-linejoin:round; stroke-width:4; stroke-opacity:1; fill:none\" points=\"254.205,141.093 400.616,141.093 \"/>\n",
       "<path clip-path=\"url(#clip620)\" d=\"M438.86 160.78 Q437.054 165.41 435.342 166.822 Q433.629 168.234 430.758 168.234 L427.355 168.234 L427.355 164.669 L429.855 164.669 Q431.615 164.669 432.587 163.836 Q433.559 163.002 434.74 159.9 L435.504 157.956 L425.018 132.447 L429.531 132.447 L437.633 152.725 L445.735 132.447 L450.249 132.447 L438.86 160.78 Z\" fill=\"#000000\" fill-rule=\"nonzero\" fill-opacity=\"1\" /><path clip-path=\"url(#clip620)\" d=\"M457.54 154.438 L465.179 154.438 L465.179 128.072 L456.869 129.739 L456.869 125.479 L465.133 123.813 L469.809 123.813 L469.809 154.438 L477.448 154.438 L477.448 158.373 L457.54 158.373 L457.54 154.438 Z\" fill=\"#000000\" fill-rule=\"nonzero\" fill-opacity=\"1\" /></svg>\n"
      ]
     },
     "metadata": {},
     "output_type": "display_data"
    }
   ],
   "source": [
    "xtickslabels = [\"one\",\"five\",\"six\",\"fourteen\"]\n",
    "p = plot(rand(15),xticks = ([1,5,6,14],xtickslabels),xrotation=90,xtickfont=font(13))"
   ]
  },
  {
   "cell_type": "code",
   "execution_count": 6,
   "metadata": {},
   "outputs": [
    {
     "data": {
      "image/png": "[encoded data removed]",
      "image/svg+xml": [
       "<?xml version=\"1.0\" encoding=\"utf-8\"?>\n",
       "<svg xmlns=\"http://www.w3.org/2000/svg\" xmlns:xlink=\"http://www.w3.org/1999/xlink\" width=\"600\" height=\"400\" viewBox=\"0 0 2400 1600\">\n",
       "<defs>\n",
       "  <clipPath id=\"clip660\">\n",
       "    <rect x=\"0\" y=\"0\" width=\"2400\" height=\"1600\"/>\n",
       "  </clipPath>\n",
       "</defs>\n",
       "<path clip-path=\"url(#clip660)\" d=\"M0 1600 L2400 1600 L2400 0 L0 0  Z\" fill=\"#ffffff\" fill-rule=\"evenodd\" fill-opacity=\"1\"/>\n",
       "<defs>\n",
       "  <clipPath id=\"clip661\">\n",
       "    <rect x=\"480\" y=\"0\" width=\"1681\" height=\"1600\"/>\n",
       "  </clipPath>\n",
       "</defs>\n",
       "<path clip-path=\"url(#clip660)\" d=\"M156.598 1135.71 L2352.76 1135.71 L2352.76 47.2441 L156.598 47.2441  Z\" fill=\"#ffffff\" fill-rule=\"evenodd\" fill-opacity=\"1\"/>\n",
       "<defs>\n",
       "  <clipPath id=\"clip662\">\n",
       "    <rect x=\"156\" y=\"47\" width=\"2197\" height=\"1089\"/>\n",
       "  </clipPath>\n",
       "</defs>\n",
       "<polyline clip-path=\"url(#clip662)\" style=\"stroke:#000000; stroke-linecap:round; stroke-linejoin:round; stroke-width:2; stroke-opacity:0.1; fill:none\" points=\"218.754,1135.71 218.754,47.2441 \"/>\n",
       "<polyline clip-path=\"url(#clip662)\" style=\"stroke:#000000; stroke-linecap:round; stroke-linejoin:round; stroke-width:2; stroke-opacity:0.1; fill:none\" points=\"810.71,1135.71 810.71,47.2441 \"/>\n",
       "<polyline clip-path=\"url(#clip662)\" style=\"stroke:#000000; stroke-linecap:round; stroke-linejoin:round; stroke-width:2; stroke-opacity:0.1; fill:none\" points=\"958.699,1135.71 958.699,47.2441 \"/>\n",
       "<polyline clip-path=\"url(#clip662)\" style=\"stroke:#000000; stroke-linecap:round; stroke-linejoin:round; stroke-width:2; stroke-opacity:0.1; fill:none\" points=\"2142.61,1135.71 2142.61,47.2441 \"/>\n",
       "<polyline clip-path=\"url(#clip660)\" style=\"stroke:#000000; stroke-linecap:round; stroke-linejoin:round; stroke-width:4; stroke-opacity:1; fill:none\" points=\"156.598,1135.71 2352.76,1135.71 \"/>\n",
       "<polyline clip-path=\"url(#clip660)\" style=\"stroke:#000000; stroke-linecap:round; stroke-linejoin:round; stroke-width:4; stroke-opacity:1; fill:none\" points=\"218.754,1135.71 218.754,1116.81 \"/>\n",
       "<polyline clip-path=\"url(#clip660)\" style=\"stroke:#000000; stroke-linecap:round; stroke-linejoin:round; stroke-width:4; stroke-opacity:1; fill:none\" points=\"810.71,1135.71 810.71,1116.81 \"/>\n",
       "<polyline clip-path=\"url(#clip660)\" style=\"stroke:#000000; stroke-linecap:round; stroke-linejoin:round; stroke-width:4; stroke-opacity:1; fill:none\" points=\"958.699,1135.71 958.699,1116.81 \"/>\n",
       "<polyline clip-path=\"url(#clip660)\" style=\"stroke:#000000; stroke-linecap:round; stroke-linejoin:round; stroke-width:4; stroke-opacity:1; fill:none\" points=\"2142.61,1135.71 2142.61,1116.81 \"/>\n",
       "<path clip-path=\"url(#clip660)\" d=\"M209.557 1270.58 Q209.557 1276.15 213.92 1279.38 Q218.246 1282.62 225.807 1282.62 Q233.367 1282.62 237.731 1279.42 Q242.056 1276.18 242.056 1270.58 Q242.056 1265.05 237.693 1261.81 Q233.33 1258.58 225.807 1258.58 Q218.321 1258.58 213.958 1261.81 Q209.557 1265.05 209.557 1270.58 M203.689 1270.58 Q203.689 1261.55 209.557 1256.4 Q215.425 1251.24 225.807 1251.24 Q236.151 1251.24 242.056 1256.4 Q247.924 1261.55 247.924 1270.58 Q247.924 1279.64 242.056 1284.8 Q236.151 1289.91 225.807 1289.91 Q215.425 1289.91 209.557 1284.8 Q203.689 1279.64 203.689 1270.58 Z\" fill=\"#000000\" fill-rule=\"nonzero\" fill-opacity=\"1\" /><path clip-path=\"url(#clip660)\" d=\"M221.406 1204.75 L246.834 1204.75 L246.834 1211.67 L221.631 1211.67 Q215.65 1211.67 212.679 1214.01 Q209.707 1216.34 209.707 1221 Q209.707 1226.61 213.281 1229.84 Q216.854 1233.08 223.023 1233.08 L246.834 1233.08 L246.834 1240.04 L204.704 1240.04 L204.704 1233.08 L211.249 1233.08 Q207.45 1230.59 205.569 1227.25 Q203.689 1223.86 203.689 1219.46 Q203.689 1212.2 208.202 1208.48 Q212.679 1204.75 221.406 1204.75 Z\" fill=\"#000000\" fill-rule=\"nonzero\" fill-opacity=\"1\" /><path clip-path=\"url(#clip660)\" d=\"M224.039 1154.91 L227.424 1154.91 L227.424 1186.73 Q234.571 1186.28 238.333 1182.45 Q242.056 1178.57 242.056 1171.69 Q242.056 1167.7 241.078 1163.98 Q240.1 1160.22 238.144 1156.53 L244.69 1156.53 Q246.269 1160.25 247.097 1164.16 Q247.924 1168.08 247.924 1172.1 Q247.924 1182.18 242.056 1188.09 Q236.188 1193.96 226.183 1193.96 Q215.838 1193.96 209.782 1188.39 Q203.689 1182.78 203.689 1173.31 Q203.689 1164.8 209.18 1159.88 Q214.635 1154.91 224.039 1154.91 M222.007 1161.83 Q216.327 1161.91 212.942 1165.03 Q209.557 1168.11 209.557 1173.23 Q209.557 1179.02 212.829 1182.52 Q216.102 1185.98 222.045 1186.51 L222.007 1161.83 Z\" fill=\"#000000\" fill-rule=\"nonzero\" fill-opacity=\"1\" /><path clip-path=\"url(#clip660)\" d=\"M780.26 1263.73 L786.015 1263.73 L786.015 1270.35 Q786.015 1274.08 787.52 1275.54 Q789.025 1276.97 792.937 1276.97 L796.66 1276.97 L796.66 1265.58 L802.04 1265.58 L802.04 1276.97 L838.79 1276.97 L838.79 1283.93 L802.04 1283.93 L802.04 1290.55 L796.66 1290.55 L796.66 1283.93 L793.726 1283.93 Q786.692 1283.93 783.495 1280.66 Q780.26 1277.39 780.26 1270.28 L780.26 1263.73 Z\" fill=\"#000000\" fill-rule=\"nonzero\" fill-opacity=\"1\" /><path clip-path=\"url(#clip660)\" d=\"M796.66 1257.94 L796.66 1251.02 L838.79 1251.02 L838.79 1257.94 L796.66 1257.94 M780.26 1257.94 L780.26 1251.02 L789.025 1251.02 L789.025 1257.94 L780.26 1257.94 Z\" fill=\"#000000\" fill-rule=\"nonzero\" fill-opacity=\"1\" /><path clip-path=\"url(#clip660)\" d=\"M796.66 1241.5 L796.66 1234.17 L832.019 1221 L796.66 1207.84 L796.66 1200.5 L838.79 1216.3 L838.79 1225.7 L796.66 1241.5 Z\" fill=\"#000000\" fill-rule=\"nonzero\" fill-opacity=\"1\" /><path clip-path=\"url(#clip660)\" d=\"M815.995 1154.91 L819.38 1154.91 L819.38 1186.73 Q826.527 1186.28 830.289 1182.45 Q834.013 1178.57 834.013 1171.69 Q834.013 1167.7 833.035 1163.98 Q832.057 1160.22 830.101 1156.53 L836.646 1156.53 Q838.226 1160.25 839.053 1164.16 Q839.881 1168.08 839.881 1172.1 Q839.881 1182.18 834.013 1188.09 Q828.145 1193.96 818.139 1193.96 Q807.795 1193.96 801.739 1188.39 Q795.645 1182.78 795.645 1173.31 Q795.645 1164.8 801.137 1159.88 Q806.591 1154.91 815.995 1154.91 M813.964 1161.83 Q808.284 1161.91 804.898 1165.03 Q801.513 1168.11 801.513 1173.23 Q801.513 1179.02 804.785 1182.52 Q808.058 1185.98 814.001 1186.51 L813.964 1161.83 Z\" fill=\"#000000\" fill-rule=\"nonzero\" fill-opacity=\"1\" /><path clip-path=\"url(#clip660)\" d=\"M945.891 1225.4 L952.436 1225.4 Q950.931 1228.34 950.179 1231.5 Q949.427 1234.66 949.427 1238.04 Q949.427 1243.19 951.007 1245.79 Q952.586 1248.35 955.746 1248.35 Q958.154 1248.35 959.545 1246.51 Q960.899 1244.66 962.141 1239.09 L962.667 1236.73 Q964.247 1229.35 967.144 1226.27 Q970.002 1223.15 975.156 1223.15 Q981.024 1223.15 984.447 1227.81 Q987.87 1232.44 987.87 1240.56 Q987.87 1243.95 987.193 1247.63 Q986.553 1251.28 985.237 1255.34 L978.09 1255.34 Q980.083 1251.51 981.099 1247.78 Q982.077 1244.06 982.077 1240.41 Q982.077 1235.52 980.422 1232.89 Q978.729 1230.26 975.682 1230.26 Q972.861 1230.26 971.357 1232.17 Q969.852 1234.05 968.46 1240.49 L967.896 1242.89 Q966.542 1249.33 963.758 1252.19 Q960.937 1255.04 956.047 1255.04 Q950.104 1255.04 946.869 1250.83 Q943.634 1246.62 943.634 1238.87 Q943.634 1235.03 944.198 1231.65 Q944.762 1228.26 945.891 1225.4 Z\" fill=\"#000000\" fill-rule=\"nonzero\" fill-opacity=\"1\" /><path clip-path=\"url(#clip660)\" d=\"M944.65 1212.12 L944.65 1205.2 L986.779 1205.2 L986.779 1212.12 L944.65 1212.12 M928.249 1212.12 L928.249 1205.2 L937.014 1205.2 L937.014 1212.12 L928.249 1212.12 Z\" fill=\"#000000\" fill-rule=\"nonzero\" fill-opacity=\"1\" /><path clip-path=\"url(#clip660)\" d=\"M944.65 1155.7 L965.15 1170.94 L986.779 1154.91 L986.779 1163.07 L970.228 1175.34 L986.779 1187.6 L986.779 1195.76 L964.736 1179.4 L944.65 1194.37 L944.65 1186.21 L959.658 1175.04 L944.65 1163.86 L944.65 1155.7 Z\" fill=\"#000000\" fill-rule=\"nonzero\" fill-opacity=\"1\" /><path clip-path=\"url(#clip660)\" d=\"M2112.16 1448.35 L2117.92 1448.35 L2117.92 1454.97 Q2117.92 1458.69 2119.42 1460.16 Q2120.93 1461.59 2124.84 1461.59 L2128.56 1461.59 L2128.56 1450.19 L2133.94 1450.19 L2133.94 1461.59 L2170.69 1461.59 L2170.69 1468.55 L2133.94 1468.55 L2133.94 1475.17 L2128.56 1475.17 L2128.56 1468.55 L2125.63 1468.55 Q2118.59 1468.55 2115.4 1465.28 Q2112.16 1462 2112.16 1454.9 L2112.16 1448.35 Z\" fill=\"#000000\" fill-rule=\"nonzero\" fill-opacity=\"1\" /><path clip-path=\"url(#clip660)\" d=\"M2133.41 1426.23 Q2133.41 1431.8 2137.78 1435.03 Q2142.1 1438.27 2149.66 1438.27 Q2157.23 1438.27 2161.59 1435.07 Q2165.91 1431.84 2165.91 1426.23 Q2165.91 1420.7 2161.55 1417.47 Q2157.19 1414.23 2149.66 1414.23 Q2142.18 1414.23 2137.82 1417.47 Q2133.41 1420.7 2133.41 1426.23 M2127.55 1426.23 Q2127.55 1417.2 2133.41 1412.05 Q2139.28 1406.9 2149.66 1406.9 Q2160.01 1406.9 2165.91 1412.05 Q2171.78 1417.2 2171.78 1426.23 Q2171.78 1435.3 2165.91 1440.45 Q2160.01 1445.57 2149.66 1445.57 Q2139.28 1445.57 2133.41 1440.45 Q2127.55 1435.3 2127.55 1426.23 Z\" fill=\"#000000\" fill-rule=\"nonzero\" fill-opacity=\"1\" /><path clip-path=\"url(#clip660)\" d=\"M2154.07 1396.14 L2128.56 1396.14 L2128.56 1389.22 L2153.8 1389.22 Q2159.78 1389.22 2162.79 1386.89 Q2165.76 1384.55 2165.76 1379.89 Q2165.76 1374.29 2162.19 1371.05 Q2158.62 1367.78 2152.45 1367.78 L2128.56 1367.78 L2128.56 1360.86 L2170.69 1360.86 L2170.69 1367.78 L2164.22 1367.78 Q2168.06 1370.3 2169.94 1373.65 Q2171.78 1376.96 2171.78 1381.36 Q2171.78 1388.62 2167.27 1392.38 Q2162.75 1396.14 2154.07 1396.14 M2127.55 1378.72 L2127.55 1378.72 Z\" fill=\"#000000\" fill-rule=\"nonzero\" fill-opacity=\"1\" /><path clip-path=\"url(#clip660)\" d=\"M2135.03 1322.19 Q2134.35 1323.35 2134.05 1324.75 Q2133.72 1326.1 2133.72 1327.75 Q2133.72 1333.62 2137.55 1336.78 Q2141.35 1339.9 2148.5 1339.9 L2170.69 1339.9 L2170.69 1346.86 L2128.56 1346.86 L2128.56 1339.9 L2135.11 1339.9 Q2131.27 1337.72 2129.43 1334.22 Q2127.55 1330.73 2127.55 1325.72 Q2127.55 1325.01 2127.66 1324.14 Q2127.73 1323.28 2127.92 1322.23 L2135.03 1322.19 Z\" fill=\"#000000\" fill-rule=\"nonzero\" fill-opacity=\"1\" /><path clip-path=\"url(#clip660)\" d=\"M2116.6 1308.08 L2128.56 1308.08 L2128.56 1293.83 L2133.94 1293.83 L2133.94 1308.08 L2156.81 1308.08 Q2161.96 1308.08 2163.43 1306.69 Q2164.9 1305.26 2164.9 1300.93 L2164.9 1293.83 L2170.69 1293.83 L2170.69 1300.93 Q2170.69 1308.95 2167.72 1311.99 Q2164.71 1315.04 2156.81 1315.04 L2133.94 1315.04 L2133.94 1320.12 L2128.56 1320.12 L2128.56 1315.04 L2116.6 1315.04 L2116.6 1308.08 Z\" fill=\"#000000\" fill-rule=\"nonzero\" fill-opacity=\"1\" /><path clip-path=\"url(#clip660)\" d=\"M2147.9 1248.69 L2151.28 1248.69 L2151.28 1280.51 Q2158.43 1280.06 2162.19 1276.22 Q2165.91 1272.35 2165.91 1265.46 Q2165.91 1261.48 2164.94 1257.75 Q2163.96 1253.99 2162 1250.3 L2168.55 1250.3 Q2170.13 1254.03 2170.95 1257.94 Q2171.78 1261.85 2171.78 1265.88 Q2171.78 1275.96 2165.91 1281.86 Q2160.05 1287.73 2150.04 1287.73 Q2139.7 1287.73 2133.64 1282.16 Q2127.55 1276.56 2127.55 1267.08 Q2127.55 1258.58 2133.04 1253.65 Q2138.49 1248.69 2147.9 1248.69 M2145.87 1255.61 Q2140.19 1255.68 2136.8 1258.81 Q2133.41 1261.89 2133.41 1267.01 Q2133.41 1272.8 2136.69 1276.3 Q2139.96 1279.76 2145.9 1280.28 L2145.87 1255.61 Z\" fill=\"#000000\" fill-rule=\"nonzero\" fill-opacity=\"1\" /><path clip-path=\"url(#clip660)\" d=\"M2147.9 1201.29 L2151.28 1201.29 L2151.28 1233.11 Q2158.43 1232.66 2162.19 1228.83 Q2165.91 1224.95 2165.91 1218.07 Q2165.91 1214.08 2164.94 1210.36 Q2163.96 1206.59 2162 1202.91 L2168.55 1202.91 Q2170.13 1206.63 2170.95 1210.54 Q2171.78 1214.46 2171.78 1218.48 Q2171.78 1228.56 2165.91 1234.47 Q2160.05 1240.34 2150.04 1240.34 Q2139.7 1240.34 2133.64 1234.77 Q2127.55 1229.16 2127.55 1219.69 Q2127.55 1211.18 2133.04 1206.26 Q2138.49 1201.29 2147.9 1201.29 M2145.87 1208.21 Q2140.19 1208.29 2136.8 1211.41 Q2133.41 1214.49 2133.41 1219.61 Q2133.41 1225.4 2136.69 1228.9 Q2139.96 1232.36 2145.9 1232.89 L2145.87 1208.21 Z\" fill=\"#000000\" fill-rule=\"nonzero\" fill-opacity=\"1\" /><path clip-path=\"url(#clip660)\" d=\"M2145.26 1154.91 L2170.69 1154.91 L2170.69 1161.83 L2145.49 1161.83 Q2139.51 1161.83 2136.54 1164.16 Q2133.56 1166.5 2133.56 1171.16 Q2133.56 1176.77 2137.14 1180 Q2140.71 1183.24 2146.88 1183.24 L2170.69 1183.24 L2170.69 1190.19 L2128.56 1190.19 L2128.56 1183.24 L2135.11 1183.24 Q2131.31 1180.75 2129.43 1177.41 Q2127.55 1174.02 2127.55 1169.62 Q2127.55 1162.36 2132.06 1158.64 Q2136.54 1154.91 2145.26 1154.91 Z\" fill=\"#000000\" fill-rule=\"nonzero\" fill-opacity=\"1\" /><polyline clip-path=\"url(#clip662)\" style=\"stroke:#000000; stroke-linecap:round; stroke-linejoin:round; stroke-width:2; stroke-opacity:0.1; fill:none\" points=\"156.598,936.094 2352.76,936.094 \"/>\n",
       "<polyline clip-path=\"url(#clip662)\" style=\"stroke:#000000; stroke-linecap:round; stroke-linejoin:round; stroke-width:2; stroke-opacity:0.1; fill:none\" points=\"156.598,692.487 2352.76,692.487 \"/>\n",
       "<polyline clip-path=\"url(#clip662)\" style=\"stroke:#000000; stroke-linecap:round; stroke-linejoin:round; stroke-width:2; stroke-opacity:0.1; fill:none\" points=\"156.598,448.879 2352.76,448.879 \"/>\n",
       "<polyline clip-path=\"url(#clip662)\" style=\"stroke:#000000; stroke-linecap:round; stroke-linejoin:round; stroke-width:2; stroke-opacity:0.1; fill:none\" points=\"156.598,205.271 2352.76,205.271 \"/>\n",
       "<polyline clip-path=\"url(#clip660)\" style=\"stroke:#000000; stroke-linecap:round; stroke-linejoin:round; stroke-width:4; stroke-opacity:1; fill:none\" points=\"156.598,1135.71 156.598,47.2441 \"/>\n",
       "<polyline clip-path=\"url(#clip660)\" style=\"stroke:#000000; stroke-linecap:round; stroke-linejoin:round; stroke-width:4; stroke-opacity:1; fill:none\" points=\"156.598,936.094 175.496,936.094 \"/>\n",
       "<polyline clip-path=\"url(#clip660)\" style=\"stroke:#000000; stroke-linecap:round; stroke-linejoin:round; stroke-width:4; stroke-opacity:1; fill:none\" points=\"156.598,692.487 175.496,692.487 \"/>\n",
       "<polyline clip-path=\"url(#clip660)\" style=\"stroke:#000000; stroke-linecap:round; stroke-linejoin:round; stroke-width:4; stroke-opacity:1; fill:none\" points=\"156.598,448.879 175.496,448.879 \"/>\n",
       "<polyline clip-path=\"url(#clip660)\" style=\"stroke:#000000; stroke-linecap:round; stroke-linejoin:round; stroke-width:4; stroke-opacity:1; fill:none\" points=\"156.598,205.271 175.496,205.271 \"/>\n",
       "<path clip-path=\"url(#clip660)\" d=\"M65.0198 921.893 Q61.4087 921.893 59.58 925.458 Q57.7745 928.999 57.7745 936.129 Q57.7745 943.235 59.58 946.8 Q61.4087 950.342 65.0198 950.342 Q68.6541 950.342 70.4596 946.8 Q72.2883 943.235 72.2883 936.129 Q72.2883 928.999 70.4596 925.458 Q68.6541 921.893 65.0198 921.893 M65.0198 918.189 Q70.83 918.189 73.8855 922.796 Q76.9642 927.379 76.9642 936.129 Q76.9642 944.856 73.8855 949.462 Q70.83 954.046 65.0198 954.046 Q59.2097 954.046 56.131 949.462 Q53.0754 944.856 53.0754 936.129 Q53.0754 927.379 56.131 922.796 Q59.2097 918.189 65.0198 918.189 Z\" fill=\"#000000\" fill-rule=\"nonzero\" fill-opacity=\"1\" /><path clip-path=\"url(#clip660)\" d=\"M85.1818 947.495 L90.066 947.495 L90.066 953.374 L85.1818 953.374 L85.1818 947.495 Z\" fill=\"#000000\" fill-rule=\"nonzero\" fill-opacity=\"1\" /><path clip-path=\"url(#clip660)\" d=\"M104.279 949.439 L120.598 949.439 L120.598 953.374 L98.6539 953.374 L98.6539 949.439 Q101.316 946.685 105.899 942.055 Q110.506 937.402 111.686 936.06 Q113.932 933.536 114.811 931.8 Q115.714 930.041 115.714 928.351 Q115.714 925.597 113.77 923.861 Q111.848 922.124 108.746 922.124 Q106.547 922.124 104.094 922.888 Q101.663 923.652 98.8854 925.203 L98.8854 920.481 Q101.709 919.347 104.163 918.768 Q106.617 918.189 108.654 918.189 Q114.024 918.189 117.219 920.874 Q120.413 923.56 120.413 928.05 Q120.413 930.18 119.603 932.101 Q118.816 933.999 116.709 936.592 Q116.131 937.263 113.029 940.481 Q109.927 943.675 104.279 949.439 Z\" fill=\"#000000\" fill-rule=\"nonzero\" fill-opacity=\"1\" /><path clip-path=\"url(#clip660)\" d=\"M62.9365 678.285 Q59.3254 678.285 57.4967 681.85 Q55.6912 685.392 55.6912 692.521 Q55.6912 699.628 57.4967 703.192 Q59.3254 706.734 62.9365 706.734 Q66.5707 706.734 68.3763 703.192 Q70.205 699.628 70.205 692.521 Q70.205 685.392 68.3763 681.85 Q66.5707 678.285 62.9365 678.285 M62.9365 674.582 Q68.7467 674.582 71.8022 679.188 Q74.8809 683.771 74.8809 692.521 Q74.8809 701.248 71.8022 705.854 Q68.7467 710.438 62.9365 710.438 Q57.1264 710.438 54.0477 705.854 Q50.9921 701.248 50.9921 692.521 Q50.9921 683.771 54.0477 679.188 Q57.1264 674.582 62.9365 674.582 Z\" fill=\"#000000\" fill-rule=\"nonzero\" fill-opacity=\"1\" /><path clip-path=\"url(#clip660)\" d=\"M83.0984 703.887 L87.9827 703.887 L87.9827 709.767 L83.0984 709.767 L83.0984 703.887 Z\" fill=\"#000000\" fill-rule=\"nonzero\" fill-opacity=\"1\" /><path clip-path=\"url(#clip660)\" d=\"M111.015 679.281 L99.2095 697.73 L111.015 697.73 L111.015 679.281 M109.788 675.207 L115.668 675.207 L115.668 697.73 L120.598 697.73 L120.598 701.618 L115.668 701.618 L115.668 709.767 L111.015 709.767 L111.015 701.618 L95.4132 701.618 L95.4132 697.105 L109.788 675.207 Z\" fill=\"#000000\" fill-rule=\"nonzero\" fill-opacity=\"1\" /><path clip-path=\"url(#clip660)\" d=\"M63.2606 434.677 Q59.6495 434.677 57.8208 438.242 Q56.0152 441.784 56.0152 448.913 Q56.0152 456.02 57.8208 459.585 Q59.6495 463.126 63.2606 463.126 Q66.8948 463.126 68.7004 459.585 Q70.5291 456.02 70.5291 448.913 Q70.5291 441.784 68.7004 438.242 Q66.8948 434.677 63.2606 434.677 M63.2606 430.974 Q69.0707 430.974 72.1263 435.58 Q75.205 440.163 75.205 448.913 Q75.205 457.64 72.1263 462.247 Q69.0707 466.83 63.2606 466.83 Q57.4504 466.83 54.3717 462.247 Q51.3162 457.64 51.3162 448.913 Q51.3162 440.163 54.3717 435.58 Q57.4504 430.974 63.2606 430.974 Z\" fill=\"#000000\" fill-rule=\"nonzero\" fill-opacity=\"1\" /><path clip-path=\"url(#clip660)\" d=\"M83.4225 460.279 L88.3067 460.279 L88.3067 466.159 L83.4225 466.159 L83.4225 460.279 Z\" fill=\"#000000\" fill-rule=\"nonzero\" fill-opacity=\"1\" /><path clip-path=\"url(#clip660)\" d=\"M109.071 447.015 Q105.922 447.015 104.071 449.168 Q102.242 451.321 102.242 455.071 Q102.242 458.798 104.071 460.974 Q105.922 463.126 109.071 463.126 Q112.219 463.126 114.047 460.974 Q115.899 458.798 115.899 455.071 Q115.899 451.321 114.047 449.168 Q112.219 447.015 109.071 447.015 M118.353 432.363 L118.353 436.622 Q116.594 435.788 114.788 435.349 Q113.006 434.909 111.246 434.909 Q106.617 434.909 104.163 438.034 Q101.733 441.159 101.385 447.478 Q102.751 445.464 104.811 444.4 Q106.871 443.312 109.348 443.312 Q114.557 443.312 117.566 446.483 Q120.598 449.631 120.598 455.071 Q120.598 460.395 117.45 463.612 Q114.302 466.83 109.071 466.83 Q103.075 466.83 99.9039 462.247 Q96.7326 457.64 96.7326 448.913 Q96.7326 440.719 100.621 435.858 Q104.51 430.974 111.061 430.974 Q112.82 430.974 114.603 431.321 Q116.408 431.668 118.353 432.363 Z\" fill=\"#000000\" fill-rule=\"nonzero\" fill-opacity=\"1\" /><path clip-path=\"url(#clip660)\" d=\"M63.5152 191.07 Q59.9041 191.07 58.0754 194.634 Q56.2699 198.176 56.2699 205.306 Q56.2699 212.412 58.0754 215.977 Q59.9041 219.518 63.5152 219.518 Q67.1494 219.518 68.955 215.977 Q70.7837 212.412 70.7837 205.306 Q70.7837 198.176 68.955 194.634 Q67.1494 191.07 63.5152 191.07 M63.5152 187.366 Q69.3254 187.366 72.3809 191.972 Q75.4596 196.556 75.4596 205.306 Q75.4596 214.032 72.3809 218.639 Q69.3254 223.222 63.5152 223.222 Q57.7051 223.222 54.6264 218.639 Q51.5708 214.032 51.5708 205.306 Q51.5708 196.556 54.6264 191.972 Q57.7051 187.366 63.5152 187.366 Z\" fill=\"#000000\" fill-rule=\"nonzero\" fill-opacity=\"1\" /><path clip-path=\"url(#clip660)\" d=\"M83.6771 216.671 L88.5614 216.671 L88.5614 222.551 L83.6771 222.551 L83.6771 216.671 Z\" fill=\"#000000\" fill-rule=\"nonzero\" fill-opacity=\"1\" /><path clip-path=\"url(#clip660)\" d=\"M108.746 206.139 Q105.413 206.139 103.492 207.921 Q101.594 209.704 101.594 212.829 Q101.594 215.954 103.492 217.736 Q105.413 219.518 108.746 219.518 Q112.08 219.518 114.001 217.736 Q115.922 215.931 115.922 212.829 Q115.922 209.704 114.001 207.921 Q112.103 206.139 108.746 206.139 M104.071 204.148 Q101.061 203.407 99.3715 201.347 Q97.7048 199.287 97.7048 196.324 Q97.7048 192.181 100.645 189.773 Q103.608 187.366 108.746 187.366 Q113.908 187.366 116.848 189.773 Q119.788 192.181 119.788 196.324 Q119.788 199.287 118.098 201.347 Q116.432 203.407 113.445 204.148 Q116.825 204.935 118.7 207.227 Q120.598 209.519 120.598 212.829 Q120.598 217.852 117.52 220.537 Q114.464 223.222 108.746 223.222 Q103.029 223.222 99.9502 220.537 Q96.8947 217.852 96.8947 212.829 Q96.8947 209.519 98.7928 207.227 Q100.691 204.935 104.071 204.148 M102.358 196.764 Q102.358 199.449 104.024 200.954 Q105.714 202.458 108.746 202.458 Q111.756 202.458 113.445 200.954 Q115.158 199.449 115.158 196.764 Q115.158 194.079 113.445 192.574 Q111.756 191.07 108.746 191.07 Q105.714 191.07 104.024 192.574 Q102.358 194.079 102.358 196.764 Z\" fill=\"#000000\" fill-rule=\"nonzero\" fill-opacity=\"1\" /><polyline clip-path=\"url(#clip662)\" style=\"stroke:#009af9; stroke-linecap:round; stroke-linejoin:round; stroke-width:4; stroke-opacity:1; fill:none\" points=\"218.754,1089.27 366.743,1000.13 514.732,773.112 662.721,389.363 810.71,154.918 958.699,196.134 1106.69,241.418 1254.68,955.355 1402.67,667.675 1550.66,309.375 1698.64,1104.91 1846.63,330.62 1994.62,461.746 2142.61,652.379 2290.6,78.0498 \"/>\n",
       "<path clip-path=\"url(#clip660)\" d=\"M229.803 187.206 L501.85 187.206 L501.85 83.5263 L229.803 83.5263  Z\" fill=\"#ffffff\" fill-rule=\"evenodd\" fill-opacity=\"1\"/>\n",
       "<polyline clip-path=\"url(#clip660)\" style=\"stroke:#000000; stroke-linecap:round; stroke-linejoin:round; stroke-width:4; stroke-opacity:1; fill:none\" points=\"229.803,187.206 501.85,187.206 501.85,83.5263 229.803,83.5263 229.803,187.206 \"/>\n",
       "<polyline clip-path=\"url(#clip660)\" style=\"stroke:#009af9; stroke-linecap:round; stroke-linejoin:round; stroke-width:4; stroke-opacity:1; fill:none\" points=\"254.205,135.366 400.616,135.366 \"/>\n",
       "<path clip-path=\"url(#clip660)\" d=\"M438.86 155.054 Q437.054 159.683 435.342 161.095 Q433.629 162.507 430.758 162.507 L427.355 162.507 L427.355 158.943 L429.855 158.943 Q431.615 158.943 432.587 158.109 Q433.559 157.276 434.74 154.174 L435.504 152.23 L425.018 126.721 L429.531 126.721 L437.633 146.998 L445.735 126.721 L450.249 126.721 L438.86 155.054 Z\" fill=\"#000000\" fill-rule=\"nonzero\" fill-opacity=\"1\" /><path clip-path=\"url(#clip660)\" d=\"M457.54 148.711 L465.179 148.711 L465.179 122.346 L456.869 124.012 L456.869 119.753 L465.133 118.086 L469.809 118.086 L469.809 148.711 L477.448 148.711 L477.448 152.646 L457.54 152.646 L457.54 148.711 Z\" fill=\"#000000\" fill-rule=\"nonzero\" fill-opacity=\"1\" /><path clip-path=\"url(#clip660)\" d=\"M156.598 1483.55 L2352.76 1483.55 L2352.76 1475.45 L156.598 1475.45  Z\" fill=\"#ffffff\" fill-rule=\"evenodd\" fill-opacity=\"1\"/>\n",
       "<defs>\n",
       "  <clipPath id=\"clip663\">\n",
       "    <rect x=\"156\" y=\"1475\" width=\"2197\" height=\"9\"/>\n",
       "  </clipPath>\n",
       "</defs>\n",
       "</svg>\n"
      ],
      "text/html": [
       "<?xml version=\"1.0\" encoding=\"utf-8\"?>\n",
       "<svg xmlns=\"http://www.w3.org/2000/svg\" xmlns:xlink=\"http://www.w3.org/1999/xlink\" width=\"600\" height=\"400\" viewBox=\"0 0 2400 1600\">\n",
       "<defs>\n",
       "  <clipPath id=\"clip710\">\n",
       "    <rect x=\"0\" y=\"0\" width=\"2400\" height=\"1600\"/>\n",
       "  </clipPath>\n",
       "</defs>\n",
       "<path clip-path=\"url(#clip710)\" d=\"M0 1600 L2400 1600 L2400 0 L0 0  Z\" fill=\"#ffffff\" fill-rule=\"evenodd\" fill-opacity=\"1\"/>\n",
       "<defs>\n",
       "  <clipPath id=\"clip711\">\n",
       "    <rect x=\"480\" y=\"0\" width=\"1681\" height=\"1600\"/>\n",
       "  </clipPath>\n",
       "</defs>\n",
       "<path clip-path=\"url(#clip710)\" d=\"M156.598 1135.71 L2352.76 1135.71 L2352.76 47.2441 L156.598 47.2441  Z\" fill=\"#ffffff\" fill-rule=\"evenodd\" fill-opacity=\"1\"/>\n",
       "<defs>\n",
       "  <clipPath id=\"clip712\">\n",
       "    <rect x=\"156\" y=\"47\" width=\"2197\" height=\"1089\"/>\n",
       "  </clipPath>\n",
       "</defs>\n",
       "<polyline clip-path=\"url(#clip712)\" style=\"stroke:#000000; stroke-linecap:round; stroke-linejoin:round; stroke-width:2; stroke-opacity:0.1; fill:none\" points=\"218.754,1135.71 218.754,47.2441 \"/>\n",
       "<polyline clip-path=\"url(#clip712)\" style=\"stroke:#000000; stroke-linecap:round; stroke-linejoin:round; stroke-width:2; stroke-opacity:0.1; fill:none\" points=\"810.71,1135.71 810.71,47.2441 \"/>\n",
       "<polyline clip-path=\"url(#clip712)\" style=\"stroke:#000000; stroke-linecap:round; stroke-linejoin:round; stroke-width:2; stroke-opacity:0.1; fill:none\" points=\"958.699,1135.71 958.699,47.2441 \"/>\n",
       "<polyline clip-path=\"url(#clip712)\" style=\"stroke:#000000; stroke-linecap:round; stroke-linejoin:round; stroke-width:2; stroke-opacity:0.1; fill:none\" points=\"2142.61,1135.71 2142.61,47.2441 \"/>\n",
       "<polyline clip-path=\"url(#clip710)\" style=\"stroke:#000000; stroke-linecap:round; stroke-linejoin:round; stroke-width:4; stroke-opacity:1; fill:none\" points=\"156.598,1135.71 2352.76,1135.71 \"/>\n",
       "<polyline clip-path=\"url(#clip710)\" style=\"stroke:#000000; stroke-linecap:round; stroke-linejoin:round; stroke-width:4; stroke-opacity:1; fill:none\" points=\"218.754,1135.71 218.754,1116.81 \"/>\n",
       "<polyline clip-path=\"url(#clip710)\" style=\"stroke:#000000; stroke-linecap:round; stroke-linejoin:round; stroke-width:4; stroke-opacity:1; fill:none\" points=\"810.71,1135.71 810.71,1116.81 \"/>\n",
       "<polyline clip-path=\"url(#clip710)\" style=\"stroke:#000000; stroke-linecap:round; stroke-linejoin:round; stroke-width:4; stroke-opacity:1; fill:none\" points=\"958.699,1135.71 958.699,1116.81 \"/>\n",
       "<polyline clip-path=\"url(#clip710)\" style=\"stroke:#000000; stroke-linecap:round; stroke-linejoin:round; stroke-width:4; stroke-opacity:1; fill:none\" points=\"2142.61,1135.71 2142.61,1116.81 \"/>\n",
       "<path clip-path=\"url(#clip710)\" d=\"M209.557 1270.58 Q209.557 1276.15 213.92 1279.38 Q218.246 1282.62 225.807 1282.62 Q233.367 1282.62 237.731 1279.42 Q242.056 1276.18 242.056 1270.58 Q242.056 1265.05 237.693 1261.81 Q233.33 1258.58 225.807 1258.58 Q218.321 1258.58 213.958 1261.81 Q209.557 1265.05 209.557 1270.58 M203.689 1270.58 Q203.689 1261.55 209.557 1256.4 Q215.425 1251.24 225.807 1251.24 Q236.151 1251.24 242.056 1256.4 Q247.924 1261.55 247.924 1270.58 Q247.924 1279.64 242.056 1284.8 Q236.151 1289.91 225.807 1289.91 Q215.425 1289.91 209.557 1284.8 Q203.689 1279.64 203.689 1270.58 Z\" fill=\"#000000\" fill-rule=\"nonzero\" fill-opacity=\"1\" /><path clip-path=\"url(#clip710)\" d=\"M221.406 1204.75 L246.834 1204.75 L246.834 1211.67 L221.631 1211.67 Q215.65 1211.67 212.679 1214.01 Q209.707 1216.34 209.707 1221 Q209.707 1226.61 213.281 1229.84 Q216.854 1233.08 223.023 1233.08 L246.834 1233.08 L246.834 1240.04 L204.704 1240.04 L204.704 1233.08 L211.249 1233.08 Q207.45 1230.59 205.569 1227.25 Q203.689 1223.86 203.689 1219.46 Q203.689 1212.2 208.202 1208.48 Q212.679 1204.75 221.406 1204.75 Z\" fill=\"#000000\" fill-rule=\"nonzero\" fill-opacity=\"1\" /><path clip-path=\"url(#clip710)\" d=\"M224.039 1154.91 L227.424 1154.91 L227.424 1186.73 Q234.571 1186.28 238.333 1182.45 Q242.056 1178.57 242.056 1171.69 Q242.056 1167.7 241.078 1163.98 Q240.1 1160.22 238.144 1156.53 L244.69 1156.53 Q246.269 1160.25 247.097 1164.16 Q247.924 1168.08 247.924 1172.1 Q247.924 1182.18 242.056 1188.09 Q236.188 1193.96 226.183 1193.96 Q215.838 1193.96 209.782 1188.39 Q203.689 1182.78 203.689 1173.31 Q203.689 1164.8 209.18 1159.88 Q214.635 1154.91 224.039 1154.91 M222.007 1161.83 Q216.327 1161.91 212.942 1165.03 Q209.557 1168.11 209.557 1173.23 Q209.557 1179.02 212.829 1182.52 Q216.102 1185.98 222.045 1186.51 L222.007 1161.83 Z\" fill=\"#000000\" fill-rule=\"nonzero\" fill-opacity=\"1\" /><path clip-path=\"url(#clip710)\" d=\"M780.26 1263.73 L786.015 1263.73 L786.015 1270.35 Q786.015 1274.08 787.52 1275.54 Q789.025 1276.97 792.937 1276.97 L796.66 1276.97 L796.66 1265.58 L802.04 1265.58 L802.04 1276.97 L838.79 1276.97 L838.79 1283.93 L802.04 1283.93 L802.04 1290.55 L796.66 1290.55 L796.66 1283.93 L793.726 1283.93 Q786.692 1283.93 783.495 1280.66 Q780.26 1277.39 780.26 1270.28 L780.26 1263.73 Z\" fill=\"#000000\" fill-rule=\"nonzero\" fill-opacity=\"1\" /><path clip-path=\"url(#clip710)\" d=\"M796.66 1257.94 L796.66 1251.02 L838.79 1251.02 L838.79 1257.94 L796.66 1257.94 M780.26 1257.94 L780.26 1251.02 L789.025 1251.02 L789.025 1257.94 L780.26 1257.94 Z\" fill=\"#000000\" fill-rule=\"nonzero\" fill-opacity=\"1\" /><path clip-path=\"url(#clip710)\" d=\"M796.66 1241.5 L796.66 1234.17 L832.019 1221 L796.66 1207.84 L796.66 1200.5 L838.79 1216.3 L838.79 1225.7 L796.66 1241.5 Z\" fill=\"#000000\" fill-rule=\"nonzero\" fill-opacity=\"1\" /><path clip-path=\"url(#clip710)\" d=\"M815.995 1154.91 L819.38 1154.91 L819.38 1186.73 Q826.527 1186.28 830.289 1182.45 Q834.013 1178.57 834.013 1171.69 Q834.013 1167.7 833.035 1163.98 Q832.057 1160.22 830.101 1156.53 L836.646 1156.53 Q838.226 1160.25 839.053 1164.16 Q839.881 1168.08 839.881 1172.1 Q839.881 1182.18 834.013 1188.09 Q828.145 1193.96 818.139 1193.96 Q807.795 1193.96 801.739 1188.39 Q795.645 1182.78 795.645 1173.31 Q795.645 1164.8 801.137 1159.88 Q806.591 1154.91 815.995 1154.91 M813.964 1161.83 Q808.284 1161.91 804.898 1165.03 Q801.513 1168.11 801.513 1173.23 Q801.513 1179.02 804.785 1182.52 Q808.058 1185.98 814.001 1186.51 L813.964 1161.83 Z\" fill=\"#000000\" fill-rule=\"nonzero\" fill-opacity=\"1\" /><path clip-path=\"url(#clip710)\" d=\"M945.891 1225.4 L952.436 1225.4 Q950.931 1228.34 950.179 1231.5 Q949.427 1234.66 949.427 1238.04 Q949.427 1243.19 951.007 1245.79 Q952.586 1248.35 955.746 1248.35 Q958.154 1248.35 959.545 1246.51 Q960.899 1244.66 962.141 1239.09 L962.667 1236.73 Q964.247 1229.35 967.144 1226.27 Q970.002 1223.15 975.156 1223.15 Q981.024 1223.15 984.447 1227.81 Q987.87 1232.44 987.87 1240.56 Q987.87 1243.95 987.193 1247.63 Q986.553 1251.28 985.237 1255.34 L978.09 1255.34 Q980.083 1251.51 981.099 1247.78 Q982.077 1244.06 982.077 1240.41 Q982.077 1235.52 980.422 1232.89 Q978.729 1230.26 975.682 1230.26 Q972.861 1230.26 971.357 1232.17 Q969.852 1234.05 968.46 1240.49 L967.896 1242.89 Q966.542 1249.33 963.758 1252.19 Q960.937 1255.04 956.047 1255.04 Q950.104 1255.04 946.869 1250.83 Q943.634 1246.62 943.634 1238.87 Q943.634 1235.03 944.198 1231.65 Q944.762 1228.26 945.891 1225.4 Z\" fill=\"#000000\" fill-rule=\"nonzero\" fill-opacity=\"1\" /><path clip-path=\"url(#clip710)\" d=\"M944.65 1212.12 L944.65 1205.2 L986.779 1205.2 L986.779 1212.12 L944.65 1212.12 M928.249 1212.12 L928.249 1205.2 L937.014 1205.2 L937.014 1212.12 L928.249 1212.12 Z\" fill=\"#000000\" fill-rule=\"nonzero\" fill-opacity=\"1\" /><path clip-path=\"url(#clip710)\" d=\"M944.65 1155.7 L965.15 1170.94 L986.779 1154.91 L986.779 1163.07 L970.228 1175.34 L986.779 1187.6 L986.779 1195.76 L964.736 1179.4 L944.65 1194.37 L944.65 1186.21 L959.658 1175.04 L944.65 1163.86 L944.65 1155.7 Z\" fill=\"#000000\" fill-rule=\"nonzero\" fill-opacity=\"1\" /><path clip-path=\"url(#clip710)\" d=\"M2112.16 1448.35 L2117.92 1448.35 L2117.92 1454.97 Q2117.92 1458.69 2119.42 1460.16 Q2120.93 1461.59 2124.84 1461.59 L2128.56 1461.59 L2128.56 1450.19 L2133.94 1450.19 L2133.94 1461.59 L2170.69 1461.59 L2170.69 1468.55 L2133.94 1468.55 L2133.94 1475.17 L2128.56 1475.17 L2128.56 1468.55 L2125.63 1468.55 Q2118.59 1468.55 2115.4 1465.28 Q2112.16 1462 2112.16 1454.9 L2112.16 1448.35 Z\" fill=\"#000000\" fill-rule=\"nonzero\" fill-opacity=\"1\" /><path clip-path=\"url(#clip710)\" d=\"M2133.41 1426.23 Q2133.41 1431.8 2137.78 1435.03 Q2142.1 1438.27 2149.66 1438.27 Q2157.23 1438.27 2161.59 1435.07 Q2165.91 1431.84 2165.91 1426.23 Q2165.91 1420.7 2161.55 1417.47 Q2157.19 1414.23 2149.66 1414.23 Q2142.18 1414.23 2137.82 1417.47 Q2133.41 1420.7 2133.41 1426.23 M2127.55 1426.23 Q2127.55 1417.2 2133.41 1412.05 Q2139.28 1406.9 2149.66 1406.9 Q2160.01 1406.9 2165.91 1412.05 Q2171.78 1417.2 2171.78 1426.23 Q2171.78 1435.3 2165.91 1440.45 Q2160.01 1445.57 2149.66 1445.57 Q2139.28 1445.57 2133.41 1440.45 Q2127.55 1435.3 2127.55 1426.23 Z\" fill=\"#000000\" fill-rule=\"nonzero\" fill-opacity=\"1\" /><path clip-path=\"url(#clip710)\" d=\"M2154.07 1396.14 L2128.56 1396.14 L2128.56 1389.22 L2153.8 1389.22 Q2159.78 1389.22 2162.79 1386.89 Q2165.76 1384.55 2165.76 1379.89 Q2165.76 1374.29 2162.19 1371.05 Q2158.62 1367.78 2152.45 1367.78 L2128.56 1367.78 L2128.56 1360.86 L2170.69 1360.86 L2170.69 1367.78 L2164.22 1367.78 Q2168.06 1370.3 2169.94 1373.65 Q2171.78 1376.96 2171.78 1381.36 Q2171.78 1388.62 2167.27 1392.38 Q2162.75 1396.14 2154.07 1396.14 M2127.55 1378.72 L2127.55 1378.72 Z\" fill=\"#000000\" fill-rule=\"nonzero\" fill-opacity=\"1\" /><path clip-path=\"url(#clip710)\" d=\"M2135.03 1322.19 Q2134.35 1323.35 2134.05 1324.75 Q2133.72 1326.1 2133.72 1327.75 Q2133.72 1333.62 2137.55 1336.78 Q2141.35 1339.9 2148.5 1339.9 L2170.69 1339.9 L2170.69 1346.86 L2128.56 1346.86 L2128.56 1339.9 L2135.11 1339.9 Q2131.27 1337.72 2129.43 1334.22 Q2127.55 1330.73 2127.55 1325.72 Q2127.55 1325.01 2127.66 1324.14 Q2127.73 1323.28 2127.92 1322.23 L2135.03 1322.19 Z\" fill=\"#000000\" fill-rule=\"nonzero\" fill-opacity=\"1\" /><path clip-path=\"url(#clip710)\" d=\"M2116.6 1308.08 L2128.56 1308.08 L2128.56 1293.83 L2133.94 1293.83 L2133.94 1308.08 L2156.81 1308.08 Q2161.96 1308.08 2163.43 1306.69 Q2164.9 1305.26 2164.9 1300.93 L2164.9 1293.83 L2170.69 1293.83 L2170.69 1300.93 Q2170.69 1308.95 2167.72 1311.99 Q2164.71 1315.04 2156.81 1315.04 L2133.94 1315.04 L2133.94 1320.12 L2128.56 1320.12 L2128.56 1315.04 L2116.6 1315.04 L2116.6 1308.08 Z\" fill=\"#000000\" fill-rule=\"nonzero\" fill-opacity=\"1\" /><path clip-path=\"url(#clip710)\" d=\"M2147.9 1248.69 L2151.28 1248.69 L2151.28 1280.51 Q2158.43 1280.06 2162.19 1276.22 Q2165.91 1272.35 2165.91 1265.46 Q2165.91 1261.48 2164.94 1257.75 Q2163.96 1253.99 2162 1250.3 L2168.55 1250.3 Q2170.13 1254.03 2170.95 1257.94 Q2171.78 1261.85 2171.78 1265.88 Q2171.78 1275.96 2165.91 1281.86 Q2160.05 1287.73 2150.04 1287.73 Q2139.7 1287.73 2133.64 1282.16 Q2127.55 1276.56 2127.55 1267.08 Q2127.55 1258.58 2133.04 1253.65 Q2138.49 1248.69 2147.9 1248.69 M2145.87 1255.61 Q2140.19 1255.68 2136.8 1258.81 Q2133.41 1261.89 2133.41 1267.01 Q2133.41 1272.8 2136.69 1276.3 Q2139.96 1279.76 2145.9 1280.28 L2145.87 1255.61 Z\" fill=\"#000000\" fill-rule=\"nonzero\" fill-opacity=\"1\" /><path clip-path=\"url(#clip710)\" d=\"M2147.9 1201.29 L2151.28 1201.29 L2151.28 1233.11 Q2158.43 1232.66 2162.19 1228.83 Q2165.91 1224.95 2165.91 1218.07 Q2165.91 1214.08 2164.94 1210.36 Q2163.96 1206.59 2162 1202.91 L2168.55 1202.91 Q2170.13 1206.63 2170.95 1210.54 Q2171.78 1214.46 2171.78 1218.48 Q2171.78 1228.56 2165.91 1234.47 Q2160.05 1240.34 2150.04 1240.34 Q2139.7 1240.34 2133.64 1234.77 Q2127.55 1229.16 2127.55 1219.69 Q2127.55 1211.18 2133.04 1206.26 Q2138.49 1201.29 2147.9 1201.29 M2145.87 1208.21 Q2140.19 1208.29 2136.8 1211.41 Q2133.41 1214.49 2133.41 1219.61 Q2133.41 1225.4 2136.69 1228.9 Q2139.96 1232.36 2145.9 1232.89 L2145.87 1208.21 Z\" fill=\"#000000\" fill-rule=\"nonzero\" fill-opacity=\"1\" /><path clip-path=\"url(#clip710)\" d=\"M2145.26 1154.91 L2170.69 1154.91 L2170.69 1161.83 L2145.49 1161.83 Q2139.51 1161.83 2136.54 1164.16 Q2133.56 1166.5 2133.56 1171.16 Q2133.56 1176.77 2137.14 1180 Q2140.71 1183.24 2146.88 1183.24 L2170.69 1183.24 L2170.69 1190.19 L2128.56 1190.19 L2128.56 1183.24 L2135.11 1183.24 Q2131.31 1180.75 2129.43 1177.41 Q2127.55 1174.02 2127.55 1169.62 Q2127.55 1162.36 2132.06 1158.64 Q2136.54 1154.91 2145.26 1154.91 Z\" fill=\"#000000\" fill-rule=\"nonzero\" fill-opacity=\"1\" /><polyline clip-path=\"url(#clip712)\" style=\"stroke:#000000; stroke-linecap:round; stroke-linejoin:round; stroke-width:2; stroke-opacity:0.1; fill:none\" points=\"156.598,936.094 2352.76,936.094 \"/>\n",
       "<polyline clip-path=\"url(#clip712)\" style=\"stroke:#000000; stroke-linecap:round; stroke-linejoin:round; stroke-width:2; stroke-opacity:0.1; fill:none\" points=\"156.598,692.487 2352.76,692.487 \"/>\n",
       "<polyline clip-path=\"url(#clip712)\" style=\"stroke:#000000; stroke-linecap:round; stroke-linejoin:round; stroke-width:2; stroke-opacity:0.1; fill:none\" points=\"156.598,448.879 2352.76,448.879 \"/>\n",
       "<polyline clip-path=\"url(#clip712)\" style=\"stroke:#000000; stroke-linecap:round; stroke-linejoin:round; stroke-width:2; stroke-opacity:0.1; fill:none\" points=\"156.598,205.271 2352.76,205.271 \"/>\n",
       "<polyline clip-path=\"url(#clip710)\" style=\"stroke:#000000; stroke-linecap:round; stroke-linejoin:round; stroke-width:4; stroke-opacity:1; fill:none\" points=\"156.598,1135.71 156.598,47.2441 \"/>\n",
       "<polyline clip-path=\"url(#clip710)\" style=\"stroke:#000000; stroke-linecap:round; stroke-linejoin:round; stroke-width:4; stroke-opacity:1; fill:none\" points=\"156.598,936.094 175.496,936.094 \"/>\n",
       "<polyline clip-path=\"url(#clip710)\" style=\"stroke:#000000; stroke-linecap:round; stroke-linejoin:round; stroke-width:4; stroke-opacity:1; fill:none\" points=\"156.598,692.487 175.496,692.487 \"/>\n",
       "<polyline clip-path=\"url(#clip710)\" style=\"stroke:#000000; stroke-linecap:round; stroke-linejoin:round; stroke-width:4; stroke-opacity:1; fill:none\" points=\"156.598,448.879 175.496,448.879 \"/>\n",
       "<polyline clip-path=\"url(#clip710)\" style=\"stroke:#000000; stroke-linecap:round; stroke-linejoin:round; stroke-width:4; stroke-opacity:1; fill:none\" points=\"156.598,205.271 175.496,205.271 \"/>\n",
       "<path clip-path=\"url(#clip710)\" d=\"M65.0198 921.893 Q61.4087 921.893 59.58 925.458 Q57.7745 928.999 57.7745 936.129 Q57.7745 943.235 59.58 946.8 Q61.4087 950.342 65.0198 950.342 Q68.6541 950.342 70.4596 946.8 Q72.2883 943.235 72.2883 936.129 Q72.2883 928.999 70.4596 925.458 Q68.6541 921.893 65.0198 921.893 M65.0198 918.189 Q70.83 918.189 73.8855 922.796 Q76.9642 927.379 76.9642 936.129 Q76.9642 944.856 73.8855 949.462 Q70.83 954.046 65.0198 954.046 Q59.2097 954.046 56.131 949.462 Q53.0754 944.856 53.0754 936.129 Q53.0754 927.379 56.131 922.796 Q59.2097 918.189 65.0198 918.189 Z\" fill=\"#000000\" fill-rule=\"nonzero\" fill-opacity=\"1\" /><path clip-path=\"url(#clip710)\" d=\"M85.1818 947.495 L90.066 947.495 L90.066 953.374 L85.1818 953.374 L85.1818 947.495 Z\" fill=\"#000000\" fill-rule=\"nonzero\" fill-opacity=\"1\" /><path clip-path=\"url(#clip710)\" d=\"M104.279 949.439 L120.598 949.439 L120.598 953.374 L98.6539 953.374 L98.6539 949.439 Q101.316 946.685 105.899 942.055 Q110.506 937.402 111.686 936.06 Q113.932 933.536 114.811 931.8 Q115.714 930.041 115.714 928.351 Q115.714 925.597 113.77 923.861 Q111.848 922.124 108.746 922.124 Q106.547 922.124 104.094 922.888 Q101.663 923.652 98.8854 925.203 L98.8854 920.481 Q101.709 919.347 104.163 918.768 Q106.617 918.189 108.654 918.189 Q114.024 918.189 117.219 920.874 Q120.413 923.56 120.413 928.05 Q120.413 930.18 119.603 932.101 Q118.816 933.999 116.709 936.592 Q116.131 937.263 113.029 940.481 Q109.927 943.675 104.279 949.439 Z\" fill=\"#000000\" fill-rule=\"nonzero\" fill-opacity=\"1\" /><path clip-path=\"url(#clip710)\" d=\"M62.9365 678.285 Q59.3254 678.285 57.4967 681.85 Q55.6912 685.392 55.6912 692.521 Q55.6912 699.628 57.4967 703.192 Q59.3254 706.734 62.9365 706.734 Q66.5707 706.734 68.3763 703.192 Q70.205 699.628 70.205 692.521 Q70.205 685.392 68.3763 681.85 Q66.5707 678.285 62.9365 678.285 M62.9365 674.582 Q68.7467 674.582 71.8022 679.188 Q74.8809 683.771 74.8809 692.521 Q74.8809 701.248 71.8022 705.854 Q68.7467 710.438 62.9365 710.438 Q57.1264 710.438 54.0477 705.854 Q50.9921 701.248 50.9921 692.521 Q50.9921 683.771 54.0477 679.188 Q57.1264 674.582 62.9365 674.582 Z\" fill=\"#000000\" fill-rule=\"nonzero\" fill-opacity=\"1\" /><path clip-path=\"url(#clip710)\" d=\"M83.0984 703.887 L87.9827 703.887 L87.9827 709.767 L83.0984 709.767 L83.0984 703.887 Z\" fill=\"#000000\" fill-rule=\"nonzero\" fill-opacity=\"1\" /><path clip-path=\"url(#clip710)\" d=\"M111.015 679.281 L99.2095 697.73 L111.015 697.73 L111.015 679.281 M109.788 675.207 L115.668 675.207 L115.668 697.73 L120.598 697.73 L120.598 701.618 L115.668 701.618 L115.668 709.767 L111.015 709.767 L111.015 701.618 L95.4132 701.618 L95.4132 697.105 L109.788 675.207 Z\" fill=\"#000000\" fill-rule=\"nonzero\" fill-opacity=\"1\" /><path clip-path=\"url(#clip710)\" d=\"M63.2606 434.677 Q59.6495 434.677 57.8208 438.242 Q56.0152 441.784 56.0152 448.913 Q56.0152 456.02 57.8208 459.585 Q59.6495 463.126 63.2606 463.126 Q66.8948 463.126 68.7004 459.585 Q70.5291 456.02 70.5291 448.913 Q70.5291 441.784 68.7004 438.242 Q66.8948 434.677 63.2606 434.677 M63.2606 430.974 Q69.0707 430.974 72.1263 435.58 Q75.205 440.163 75.205 448.913 Q75.205 457.64 72.1263 462.247 Q69.0707 466.83 63.2606 466.83 Q57.4504 466.83 54.3717 462.247 Q51.3162 457.64 51.3162 448.913 Q51.3162 440.163 54.3717 435.58 Q57.4504 430.974 63.2606 430.974 Z\" fill=\"#000000\" fill-rule=\"nonzero\" fill-opacity=\"1\" /><path clip-path=\"url(#clip710)\" d=\"M83.4225 460.279 L88.3067 460.279 L88.3067 466.159 L83.4225 466.159 L83.4225 460.279 Z\" fill=\"#000000\" fill-rule=\"nonzero\" fill-opacity=\"1\" /><path clip-path=\"url(#clip710)\" d=\"M109.071 447.015 Q105.922 447.015 104.071 449.168 Q102.242 451.321 102.242 455.071 Q102.242 458.798 104.071 460.974 Q105.922 463.126 109.071 463.126 Q112.219 463.126 114.047 460.974 Q115.899 458.798 115.899 455.071 Q115.899 451.321 114.047 449.168 Q112.219 447.015 109.071 447.015 M118.353 432.363 L118.353 436.622 Q116.594 435.788 114.788 435.349 Q113.006 434.909 111.246 434.909 Q106.617 434.909 104.163 438.034 Q101.733 441.159 101.385 447.478 Q102.751 445.464 104.811 444.4 Q106.871 443.312 109.348 443.312 Q114.557 443.312 117.566 446.483 Q120.598 449.631 120.598 455.071 Q120.598 460.395 117.45 463.612 Q114.302 466.83 109.071 466.83 Q103.075 466.83 99.9039 462.247 Q96.7326 457.64 96.7326 448.913 Q96.7326 440.719 100.621 435.858 Q104.51 430.974 111.061 430.974 Q112.82 430.974 114.603 431.321 Q116.408 431.668 118.353 432.363 Z\" fill=\"#000000\" fill-rule=\"nonzero\" fill-opacity=\"1\" /><path clip-path=\"url(#clip710)\" d=\"M63.5152 191.07 Q59.9041 191.07 58.0754 194.634 Q56.2699 198.176 56.2699 205.306 Q56.2699 212.412 58.0754 215.977 Q59.9041 219.518 63.5152 219.518 Q67.1494 219.518 68.955 215.977 Q70.7837 212.412 70.7837 205.306 Q70.7837 198.176 68.955 194.634 Q67.1494 191.07 63.5152 191.07 M63.5152 187.366 Q69.3254 187.366 72.3809 191.972 Q75.4596 196.556 75.4596 205.306 Q75.4596 214.032 72.3809 218.639 Q69.3254 223.222 63.5152 223.222 Q57.7051 223.222 54.6264 218.639 Q51.5708 214.032 51.5708 205.306 Q51.5708 196.556 54.6264 191.972 Q57.7051 187.366 63.5152 187.366 Z\" fill=\"#000000\" fill-rule=\"nonzero\" fill-opacity=\"1\" /><path clip-path=\"url(#clip710)\" d=\"M83.6771 216.671 L88.5614 216.671 L88.5614 222.551 L83.6771 222.551 L83.6771 216.671 Z\" fill=\"#000000\" fill-rule=\"nonzero\" fill-opacity=\"1\" /><path clip-path=\"url(#clip710)\" d=\"M108.746 206.139 Q105.413 206.139 103.492 207.921 Q101.594 209.704 101.594 212.829 Q101.594 215.954 103.492 217.736 Q105.413 219.518 108.746 219.518 Q112.08 219.518 114.001 217.736 Q115.922 215.931 115.922 212.829 Q115.922 209.704 114.001 207.921 Q112.103 206.139 108.746 206.139 M104.071 204.148 Q101.061 203.407 99.3715 201.347 Q97.7048 199.287 97.7048 196.324 Q97.7048 192.181 100.645 189.773 Q103.608 187.366 108.746 187.366 Q113.908 187.366 116.848 189.773 Q119.788 192.181 119.788 196.324 Q119.788 199.287 118.098 201.347 Q116.432 203.407 113.445 204.148 Q116.825 204.935 118.7 207.227 Q120.598 209.519 120.598 212.829 Q120.598 217.852 117.52 220.537 Q114.464 223.222 108.746 223.222 Q103.029 223.222 99.9502 220.537 Q96.8947 217.852 96.8947 212.829 Q96.8947 209.519 98.7928 207.227 Q100.691 204.935 104.071 204.148 M102.358 196.764 Q102.358 199.449 104.024 200.954 Q105.714 202.458 108.746 202.458 Q111.756 202.458 113.445 200.954 Q115.158 199.449 115.158 196.764 Q115.158 194.079 113.445 192.574 Q111.756 191.07 108.746 191.07 Q105.714 191.07 104.024 192.574 Q102.358 194.079 102.358 196.764 Z\" fill=\"#000000\" fill-rule=\"nonzero\" fill-opacity=\"1\" /><polyline clip-path=\"url(#clip712)\" style=\"stroke:#009af9; stroke-linecap:round; stroke-linejoin:round; stroke-width:4; stroke-opacity:1; fill:none\" points=\"218.754,1089.27 366.743,1000.13 514.732,773.112 662.721,389.363 810.71,154.918 958.699,196.134 1106.69,241.418 1254.68,955.355 1402.67,667.675 1550.66,309.375 1698.64,1104.91 1846.63,330.62 1994.62,461.746 2142.61,652.379 2290.6,78.0498 \"/>\n",
       "<path clip-path=\"url(#clip710)\" d=\"M229.803 187.206 L501.85 187.206 L501.85 83.5263 L229.803 83.5263  Z\" fill=\"#ffffff\" fill-rule=\"evenodd\" fill-opacity=\"1\"/>\n",
       "<polyline clip-path=\"url(#clip710)\" style=\"stroke:#000000; stroke-linecap:round; stroke-linejoin:round; stroke-width:4; stroke-opacity:1; fill:none\" points=\"229.803,187.206 501.85,187.206 501.85,83.5263 229.803,83.5263 229.803,187.206 \"/>\n",
       "<polyline clip-path=\"url(#clip710)\" style=\"stroke:#009af9; stroke-linecap:round; stroke-linejoin:round; stroke-width:4; stroke-opacity:1; fill:none\" points=\"254.205,135.366 400.616,135.366 \"/>\n",
       "<path clip-path=\"url(#clip710)\" d=\"M438.86 155.054 Q437.054 159.683 435.342 161.095 Q433.629 162.507 430.758 162.507 L427.355 162.507 L427.355 158.943 L429.855 158.943 Q431.615 158.943 432.587 158.109 Q433.559 157.276 434.74 154.174 L435.504 152.23 L425.018 126.721 L429.531 126.721 L437.633 146.998 L445.735 126.721 L450.249 126.721 L438.86 155.054 Z\" fill=\"#000000\" fill-rule=\"nonzero\" fill-opacity=\"1\" /><path clip-path=\"url(#clip710)\" d=\"M457.54 148.711 L465.179 148.711 L465.179 122.346 L456.869 124.012 L456.869 119.753 L465.133 118.086 L469.809 118.086 L469.809 148.711 L477.448 148.711 L477.448 152.646 L457.54 152.646 L457.54 148.711 Z\" fill=\"#000000\" fill-rule=\"nonzero\" fill-opacity=\"1\" /><path clip-path=\"url(#clip710)\" d=\"M156.598 1483.55 L2352.76 1483.55 L2352.76 1475.45 L156.598 1475.45  Z\" fill=\"#ffffff\" fill-rule=\"evenodd\" fill-opacity=\"1\"/>\n",
       "<defs>\n",
       "  <clipPath id=\"clip713\">\n",
       "    <rect x=\"156\" y=\"1475\" width=\"2197\" height=\"9\"/>\n",
       "  </clipPath>\n",
       "</defs>\n",
       "</svg>\n"
      ]
     },
     "metadata": {},
     "output_type": "display_data"
    }
   ],
   "source": [
    "function pad_empty_plot(p)\n",
    "    ep = plot(grid=false,legend=false,axis=false,framestyle = :box)#empty plot\n",
    "    newplot = plot(p,ep,layout=@layout([a{0.99h};b{0.001h}]))\n",
    "    return newplot\n",
    "end\n",
    "pad_empty_plot(p)"
   ]
  },
  {
   "cell_type": "markdown",
   "metadata": {},
   "source": [
    "### Let us first get some data that we will use throughout this notebook"
   ]
  },
  {
   "cell_type": "code",
   "execution_count": 7,
   "metadata": {},
   "outputs": [
    {
     "ename": "MethodError",
     "evalue": "MethodError: no method matching iterate(::XLSX.DataTable)\n\nClosest candidates are:\n  iterate(!Matched::Base.AsyncGenerator, !Matched::Base.AsyncGeneratorState)\n   @ Base asyncmap.jl:362\n  iterate(!Matched::Base.AsyncGenerator)\n   @ Base asyncmap.jl:362\n  iterate(!Matched::EzXML.AttributeIterator)\n   @ EzXML C:\\Users\\chadi\\.julia\\packages\\EzXML\\DL8na\\src\\node.jl:1467\n  ...\n",
     "output_type": "error",
     "traceback": [
      "MethodError: no method matching iterate(::XLSX.DataTable)\n",
      "\n",
      "Closest candidates are:\n",
      "  iterate(!Matched::Base.AsyncGenerator, !Matched::Base.AsyncGeneratorState)\n",
      "   @ Base asyncmap.jl:362\n",
      "  iterate(!Matched::Base.AsyncGenerator)\n",
      "   @ Base asyncmap.jl:362\n",
      "  iterate(!Matched::EzXML.AttributeIterator)\n",
      "   @ EzXML C:\\Users\\chadi\\.julia\\packages\\EzXML\\DL8na\\src\\node.jl:1467\n",
      "  ...\n",
      "\n",
      "\n",
      "Stacktrace:\n",
      " [1] top-level scope\n",
      "   @ c:\\Users\\chadi\\OneDrive - Handelshögskolan i Stockholm\\GitHub\\JuliaAcademy\\DataScience\\12. Visualization.ipynb:2"
     ]
    }
   ],
   "source": [
    "using XLSX\n",
    "using DataFrames\n",
    "D = DataFrame(XLSX.readtable(\"data/zillow_data_download_april2020.xlsx\", \"Sales_median_price_city\")...);\n",
    "dropmissing!(D)\n",
    "states = D[:,:StateName];"
   ]
  },
  {
   "cell_type": "code",
   "execution_count": 8,
   "metadata": {},
   "outputs": [
    {
     "ename": "UndefVarError",
     "evalue": "UndefVarError: `D` not defined",
     "output_type": "error",
     "traceback": [
      "UndefVarError: `D` not defined\n",
      "\n",
      "Stacktrace:\n",
      " [1] top-level scope\n",
      "   @ c:\\Users\\chadi\\OneDrive - Handelshögskolan i Stockholm\\GitHub\\JuliaAcademy\\DataScience\\12. Visualization.ipynb:1"
     ]
    }
   ],
   "source": [
    "states = D[:,:StateName];"
   ]
  },
  {
   "cell_type": "markdown",
   "metadata": {},
   "source": [
    "We will use these three states as examples throughtout this notebook, so we will create a `DataFrame` for each of them to have them ready when we need them."
   ]
  },
  {
   "cell_type": "code",
   "execution_count": 9,
   "metadata": {},
   "outputs": [
    {
     "ename": "UndefVarError",
     "evalue": "UndefVarError: `states` not defined",
     "output_type": "error",
     "traceback": [
      "UndefVarError: `states` not defined\n",
      "\n",
      "Stacktrace:\n",
      " [1] top-level scope\n",
      "   @ c:\\Users\\chadi\\OneDrive - Handelshögskolan i Stockholm\\GitHub\\JuliaAcademy\\DataScience\\12. Visualization.ipynb:1"
     ]
    }
   ],
   "source": [
    "NYids = findall(states.==\"New York\")\n",
    "NYframe = dropmissing(D[NYids,:])\n",
    "CAids = findall(states.==\"California\")\n",
    "CAframe = dropmissing(D[CAids,:])\n",
    "FLids = findall(states.==\"Florida\")\n",
    "FLframe = dropmissing(D[FLids,:])"
   ]
  },
  {
   "cell_type": "markdown",
   "metadata": {},
   "source": [
    "### 🔴Plot 1: Symmetric violin plots and annotations\n",
    "We will get started by just picking the most recent data we have about these states and plot their violin plots to see the distribution of house prices."
   ]
  },
  {
   "cell_type": "code",
   "execution_count": 10,
   "metadata": {},
   "outputs": [
    {
     "ename": "UndefVarError",
     "evalue": "UndefVarError: `CAframe` not defined",
     "output_type": "error",
     "traceback": [
      "UndefVarError: `CAframe` not defined\n",
      "\n",
      "Stacktrace:\n",
      " [1] top-level scope\n",
      "   @ c:\\Users\\chadi\\OneDrive - Handelshögskolan i Stockholm\\GitHub\\JuliaAcademy\\DataScience\\12. Visualization.ipynb:2"
     ]
    }
   ],
   "source": [
    "# pick a year: 2020-02\n",
    "ca = CAframe[!,Symbol(\"2020-02\")]\n",
    "ny = NYframe[!,Symbol(\"2020-02\")]\n",
    "fl = FLframe[!,Symbol(\"2020-02\")]\n",
    "\n",
    "violin([\"New York\"], ny,legend=false,alpha=0.8)\n",
    "violin!([\"California\"], ca,alpha=0.8)\n",
    "violin!([\"Florida\"],fl,alpha=0.8)"
   ]
  },
  {
   "cell_type": "markdown",
   "metadata": {},
   "source": [
    "One concept I learned from reading one of Edward Tufte's books is the idea of avoiding symmetry. Here, as you can see, each violin plot is symmetric. We can probably fit more information there by making use of each side of the violin plot. And indeed, we will now compare housing prices in these states from February 2020 with housing prices from 10 years before that (February 2010)."
   ]
  },
  {
   "cell_type": "code",
   "execution_count": 11,
   "metadata": {},
   "outputs": [
    {
     "ename": "UndefVarError",
     "evalue": "UndefVarError: `CAframe` not defined",
     "output_type": "error",
     "traceback": [
      "UndefVarError: `CAframe` not defined\n",
      "\n",
      "Stacktrace:\n",
      " [1] top-level scope\n",
      "   @ c:\\Users\\chadi\\OneDrive - Handelshögskolan i Stockholm\\GitHub\\JuliaAcademy\\DataScience\\12. Visualization.ipynb:2"
     ]
    }
   ],
   "source": [
    "# 2020 data\n",
    "ca = CAframe[!,Symbol(\"2020-02\")]\n",
    "ny = NYframe[!,Symbol(\"2020-02\")]\n",
    "fl = FLframe[!,Symbol(\"2020-02\")]\n",
    "violin([\"New York\"], ny,legend=false,alpha=0.8,side=:right)\n",
    "violin!([\"California\"], ca,alpha=0.8,side=:right)\n",
    "violin!([\"Florida\"],fl,alpha=0.8,side=:right)\n",
    "\n",
    "### get the February 2010 data\n",
    "ca10 = CAframe[!,Symbol(\"2010-02\")]\n",
    "ny10 = NYframe[!,Symbol(\"2010-02\")]\n",
    "fl10 = FLframe[!,Symbol(\"2010-02\")]\n",
    "\n",
    "violin!([\"New York\"], ny10,legend=false,alpha=0.8,side=:left)\n",
    "violin!([\"California\"], ca10,alpha=0.8,side=:left)\n",
    "violin!([\"Florida\"],fl10,alpha=0.8,side=:left)"
   ]
  },
  {
   "cell_type": "markdown",
   "metadata": {},
   "source": [
    "This is really intersting... seems like the price distributions stayed very similar except that it shifted upwards after 10 years. Now let's make the plot more informative."
   ]
  },
  {
   "cell_type": "code",
   "execution_count": 12,
   "metadata": {},
   "outputs": [
    {
     "ename": "UndefVarError",
     "evalue": "UndefVarError: `CAframe` not defined",
     "output_type": "error",
     "traceback": [
      "UndefVarError: `CAframe` not defined\n",
      "\n",
      "Stacktrace:\n",
      " [1] top-level scope\n",
      "   @ c:\\Users\\chadi\\OneDrive - Handelshögskolan i Stockholm\\GitHub\\JuliaAcademy\\DataScience\\12. Visualization.ipynb:4"
     ]
    }
   ],
   "source": [
    "# No need for using many colors, let's just use one color for 2010, and one color for 2020\n",
    "\n",
    "# pick a year: 2019-02\n",
    "ca = CAframe[!,Symbol(\"2010-02\")]\n",
    "ny = NYframe[!,Symbol(\"2010-02\")]\n",
    "fl = FLframe[!,Symbol(\"2010-02\")]\n",
    "violin([\"New York\"], ny,alpha=0.8,side=:left,color=6,label=\"2010-02\")\n",
    "violin!([\"California\"], ca,alpha=0.8,side=:left,color=6,label=\"\")\n",
    "violin!([\"Florida\"],fl,alpha=0.8,side=:left,color=6,label=\"\")\n",
    "\n",
    "# pick a year: 2020-02\n",
    "ca = CAframe[!,Symbol(\"2020-02\")]\n",
    "ny = NYframe[!,Symbol(\"2020-02\")]\n",
    "fl = FLframe[!,Symbol(\"2020-02\")]\n",
    "violin!([\"New York\"], ny,alpha=0.8,side=:right,color=7,label=\"2020-02\")\n",
    "violin!([\"California\"], ca,alpha=0.8,side=:right,color=7,label=\"\")\n",
    "violin!([\"Florida\"],fl,alpha=0.8,side=:right,color=7,label=\"\")\n"
   ]
  },
  {
   "cell_type": "markdown",
   "metadata": {},
   "source": [
    "Violin plots are cool in that they show a distribution of values. Nevertheless, one really intersting value in each violin plot is the median. We can very easily annotate this value on top of these violin plots."
   ]
  },
  {
   "cell_type": "code",
   "execution_count": 13,
   "metadata": {},
   "outputs": [
    {
     "ename": "UndefVarError",
     "evalue": "UndefVarError: `CAframe` not defined",
     "output_type": "error",
     "traceback": [
      "UndefVarError: `CAframe` not defined\n",
      "\n",
      "Stacktrace:\n",
      " [1] top-level scope\n",
      "   @ c:\\Users\\chadi\\OneDrive - Handelshögskolan i Stockholm\\GitHub\\JuliaAcademy\\DataScience\\12. Visualization.ipynb:2"
     ]
    }
   ],
   "source": [
    "# pick a year: 2019-02\n",
    "ca = CAframe[!,Symbol(\"2010-02\")]\n",
    "ny = NYframe[!,Symbol(\"2010-02\")]\n",
    "fl = FLframe[!,Symbol(\"2010-02\")]\n",
    "violin([\"New York\"], ny,alpha=0.8,side=:left,color=6,label=\"2010-02\")\n",
    "violin!([\"California\"], ca,alpha=0.8,side=:left,color=6,label=\"\")\n",
    "violin!([\"Florida\"],fl,alpha=0.8,side=:left,color=6,label=\"\")\n",
    "\n",
    "# pick a year: 2020-02\n",
    "ca = CAframe[!,Symbol(\"2020-02\")]\n",
    "ny = NYframe[!,Symbol(\"2020-02\")]\n",
    "fl = FLframe[!,Symbol(\"2020-02\")]\n",
    "violin!([\"New York\"], ny,alpha=0.8,side=:right,color=7,label=\"2020-02\")\n",
    "violin!([\"California\"], ca,alpha=0.8,side=:right,color=7,label=\"\")\n",
    "violin!([\"Florida\"],fl,alpha=0.8,side=:right,color=7,label=\"\")\n",
    "\n",
    "\n",
    "m = median(ny)\n",
    "ep = 0.1\n",
    "annotate!([(0.5+ep,m+0.05,text(m/1000,10,:left))])\n",
    "\n",
    "m = median(ca)\n",
    "ep = 0.1\n",
    "annotate!([(1.5+ep,m+0.05,text(m/1000,10,:left))])\n",
    "\n",
    "m = median(fl)\n",
    "ep = 0.1\n",
    "annotate!([(2.5+ep,m+0.05,text(m/1000,10,:left))])\n",
    "\n",
    "plot!(xtickfont=font(10),size=(500,300))"
   ]
  },
  {
   "cell_type": "markdown",
   "metadata": {},
   "source": [
    "Now let's put all of this together and add annotations on both sides."
   ]
  },
  {
   "cell_type": "code",
   "execution_count": 14,
   "metadata": {},
   "outputs": [
    {
     "ename": "UndefVarError",
     "evalue": "UndefVarError: `states` not defined",
     "output_type": "error",
     "traceback": [
      "UndefVarError: `states` not defined\n",
      "\n",
      "Stacktrace:\n",
      " [1] top-level scope\n",
      "   @ c:\\Users\\chadi\\OneDrive - Handelshögskolan i Stockholm\\GitHub\\JuliaAcademy\\DataScience\\12. Visualization.ipynb:15"
     ]
    }
   ],
   "source": [
    "# putting it together.\n",
    "\n",
    "ep = 0.05 # will later be used in padding for annotations\n",
    "\n",
    "# set up the plot\n",
    "plot(xtickfont=font(10))\n",
    "\n",
    "states_of_interest = [\"New York\", \"California\", \"Florida\", \"Ohio\",\"Idaho\"]\n",
    "years_of_interst = [Symbol(\"2010-02\"),Symbol(\"2020-02\")]\n",
    "\n",
    "# year 1\n",
    "xstart = 0.5\n",
    "yi = years_of_interst[1]\n",
    "for si in states_of_interest\n",
    "    curids = findall(states.==si)\n",
    "    curFrame = D[curids,:]\n",
    "    curprices = curFrame[!,yi]\n",
    "    m = median(curprices)\n",
    "    annotate!([(xstart-ep,m+0.05,text(m/1000,8,:right))])\n",
    "    xstart += 1\n",
    "    violin!([si], curprices,alpha=0.8,side=:left,color=6,label=\"\")\n",
    "end\n",
    "plot!(Shape([],[]),color=6,label=yi)\n",
    "\n",
    "# year 2\n",
    "xstart = 0.5\n",
    "yi = years_of_interst[2]\n",
    "for si in states_of_interest\n",
    "    curids = findall(states.==si)\n",
    "    curFrame = D[curids,:]\n",
    "    curprices = curFrame[!,yi]\n",
    "    m = median(curprices)\n",
    "    annotate!([(xstart+ep,m+0.05,text(m/1000,8,:left))])\n",
    "    xstart += 1\n",
    "    violin!([si], curprices,alpha=0.8,side=:right,color=7,label=\"\")\n",
    "end\n",
    "plot!(Shape([],[]),color=7,label=yi)\n",
    "ylabel!(\"housing prices\")"
   ]
  },
  {
   "cell_type": "markdown",
   "metadata": {},
   "source": [
    "### 🔴Plot 2: Bar charts, histograms, and insets\n",
    "Now let's compare states based on the number of location entries they have in the data."
   ]
  },
  {
   "cell_type": "code",
   "execution_count": 15,
   "metadata": {},
   "outputs": [
    {
     "ename": "UndefVarError",
     "evalue": "UndefVarError: `states` not defined",
     "output_type": "error",
     "traceback": [
      "UndefVarError: `states` not defined\n",
      "\n",
      "Stacktrace:\n",
      " [1] top-level scope\n",
      "   @ c:\\Users\\chadi\\OneDrive - Handelshögskolan i Stockholm\\GitHub\\JuliaAcademy\\DataScience\\12. Visualization.ipynb:1"
     ]
    }
   ],
   "source": [
    "mapstates = labelmap(states)\n",
    "stateids = labelencode(mapstates, states)\n",
    "histogram(stateids,nbins=length(mapstates))"
   ]
  },
  {
   "cell_type": "markdown",
   "metadata": {},
   "source": [
    "There are a few problems with this histogram. First, unsorted histograms are often harder to read so the first thing we will do is rearrange this histogram. Next, we will add annotations to be able to map each bar to a state quickly."
   ]
  },
  {
   "cell_type": "code",
   "execution_count": 16,
   "metadata": {},
   "outputs": [
    {
     "ename": "UndefVarError",
     "evalue": "UndefVarError: `mapstates` not defined",
     "output_type": "error",
     "traceback": [
      "UndefVarError: `mapstates` not defined\n",
      "\n",
      "Stacktrace:\n",
      " [1] top-level scope\n",
      "   @ c:\\Users\\chadi\\OneDrive - Handelshögskolan i Stockholm\\GitHub\\JuliaAcademy\\DataScience\\12. Visualization.ipynb:2"
     ]
    }
   ],
   "source": [
    "# first we'll start with sorting\n",
    "h = fit(Histogram, stateids,nbins=length(mapstates))\n",
    "sortedids = sortperm(h.weights,rev=true)\n",
    "bar(h.weights[sortedids],legend=false)"
   ]
  },
  {
   "cell_type": "markdown",
   "metadata": {},
   "source": [
    "Next, we will arrange this plot horizontally (via the `orientation = :horizontal` argument) and add annotations."
   ]
  },
  {
   "cell_type": "code",
   "execution_count": 17,
   "metadata": {},
   "outputs": [
    {
     "ename": "UndefVarError",
     "evalue": "UndefVarError: `h` not defined",
     "output_type": "error",
     "traceback": [
      "UndefVarError: `h` not defined\n",
      "\n",
      "Stacktrace:\n",
      " [1] top-level scope\n",
      "   @ c:\\Users\\chadi\\OneDrive - Handelshögskolan i Stockholm\\GitHub\\JuliaAcademy\\DataScience\\12. Visualization.ipynb:1"
     ]
    }
   ],
   "source": [
    "bar(h.weights[sortedids],legend=false,orientation = :horizontal,yflip=true)"
   ]
  },
  {
   "cell_type": "code",
   "execution_count": 18,
   "metadata": {},
   "outputs": [
    {
     "ename": "UndefVarError",
     "evalue": "UndefVarError: `h` not defined",
     "output_type": "error",
     "traceback": [
      "UndefVarError: `h` not defined\n",
      "\n",
      "Stacktrace:\n",
      " [1] top-level scope\n",
      "   @ c:\\Users\\chadi\\OneDrive - Handelshögskolan i Stockholm\\GitHub\\JuliaAcademy\\DataScience\\12. Visualization.ipynb:2"
     ]
    }
   ],
   "source": [
    "# just an example of annotations\n",
    "bar(h.weights[sortedids],legend=false,orientation = :horizontal,yflip=true,size=(400,500))\n",
    "stateannotations = mapstates.vs[sortedids]\n",
    "for i = 1:3\n",
    "    annotate!([(h.weights[sortedids][i]-5,i,text(stateannotations[i],10,:left))])\n",
    "end\n",
    "plot!()"
   ]
  },
  {
   "cell_type": "markdown",
   "metadata": {},
   "source": [
    "Get rid of linewidth, and map the states to the two letters identifier."
   ]
  },
  {
   "cell_type": "code",
   "execution_count": 19,
   "metadata": {},
   "outputs": [
    {
     "ename": "UndefVarError",
     "evalue": "UndefVarError: `h` not defined",
     "output_type": "error",
     "traceback": [
      "UndefVarError: `h` not defined\n",
      "\n",
      "Stacktrace:\n",
      " [1] top-level scope\n",
      "   @ c:\\Users\\chadi\\OneDrive - Handelshögskolan i Stockholm\\GitHub\\JuliaAcademy\\DataScience\\12. Visualization.ipynb:1"
     ]
    }
   ],
   "source": [
    "bar(h.weights[sortedids],legend=false,orientation = :horizontal,yflip=true,linewidth=0,width=0,size=(400,500))\n",
    "stateannotations = mapstates.vs[sortedids]\n",
    "for i = 1:length(stateannotations)\n",
    "    annotate!([(h.weights[sortedids][i]-5,i,text(stateabbreviations[stateannotations[i]],5,:left))])\n",
    "end\n",
    "plot!()"
   ]
  },
  {
   "cell_type": "markdown",
   "metadata": {},
   "source": [
    "Since we are using one color, use a more neutral color (gray), and use Edward Tufte's strategy in his book \"The Visual Display of Quantitative Information\" to add grid lines on top of the bar charts."
   ]
  },
  {
   "cell_type": "code",
   "execution_count": 20,
   "metadata": {},
   "outputs": [
    {
     "ename": "UndefVarError",
     "evalue": "UndefVarError: `h` not defined",
     "output_type": "error",
     "traceback": [
      "UndefVarError: `h` not defined\n",
      "\n",
      "Stacktrace:\n",
      " [1] top-level scope\n",
      "   @ c:\\Users\\chadi\\OneDrive - Handelshögskolan i Stockholm\\GitHub\\JuliaAcademy\\DataScience\\12. Visualization.ipynb:1"
     ]
    }
   ],
   "source": [
    "bar(h.weights[sortedids],legend=false,orientation = :horizontal,\n",
    "        yflip=true,linewidth=0,width=0,color=:gray,alpha=0.8)\n",
    "stateannotations = mapstates.vs[sortedids]\n",
    "for i = 20:20:200\n",
    "    plot!([i,i],[50,0],color=:white)\n",
    "end\n",
    "for i = 1:length(stateannotations)\n",
    "    annotate!([(h.weights[sortedids][i]-5,i,text(stateabbreviations[stateannotations[i]],6,:left))])\n",
    "end\n",
    "plot!(grid=false,yaxis=false,xlim=(0,maximum(h.weights)),xticks = 0:20:200)\n",
    "xlabel!(\"number of listings\")"
   ]
  },
  {
   "cell_type": "markdown",
   "metadata": {},
   "source": [
    "Finally, we will fix sizes and add an inset figure to zoom in on the lower left corner."
   ]
  },
  {
   "cell_type": "code",
   "execution_count": 21,
   "metadata": {},
   "outputs": [
    {
     "ename": "UndefVarError",
     "evalue": "UndefVarError: `h` not defined",
     "output_type": "error",
     "traceback": [
      "UndefVarError: `h` not defined\n",
      "\n",
      "Stacktrace:\n",
      " [1] top-level scope\n",
      "   @ c:\\Users\\chadi\\OneDrive - Handelshögskolan i Stockholm\\GitHub\\JuliaAcademy\\DataScience\\12. Visualization.ipynb:1"
     ]
    }
   ],
   "source": [
    "bar(h.weights[sortedids],legend=false,orientation = :horizontal,\n",
    "        yflip=true,linewidth=0,color=:gray,alpha=0.8,size=(300,500))\n",
    "stateannotations = mapstates.vs[sortedids]\n",
    "ht = length(h.weights)\n",
    "for i = 20:20:200\n",
    "    plot!([i,i],[ht,0],color=:white)\n",
    "end\n",
    "for i = 1:length(stateannotations)\n",
    "    annotate!([(h.weights[sortedids][i]+2,i,text(stateabbreviations[stateannotations[i]],6,:left))])\n",
    "end\n",
    "plot!(grid=false,yaxis=false,xlim=(0,maximum(h.weights)+5),xticks = 0:20:200)\n",
    "xlabel!(\"number of listings\")\n",
    "\n",
    "f = Plots.plot!(inset = bbox(0.7,0.15,0.25,0.6,:top,:left))\n",
    "bar!(f[2],h.weights[sortedids][21:end],legend=false,orientation = :horizontal,\n",
    "        yflip=true,linewidth=0,width=0,color=:gray,alpha=0.8)\n",
    "for i = 21:length(stateannotations)\n",
    "    annotate!(f[2],[(h.weights[sortedids][i]+1,i-20,text(stateabbreviations[stateannotations[i]],6,:left))])\n",
    "end\n",
    "plot!(f[2],[10,10],[20,0],color=:white,xticks=0:10:20,yaxis=false,grid=false,xlim=(0,20))\n",
    "plot!()"
   ]
  },
  {
   "cell_type": "markdown",
   "metadata": {},
   "source": [
    "### 🔴Plot 3: Plots with error bars\n",
    "Next, we will compar state prices over the years and see how they have changed. we will use error bars too."
   ]
  },
  {
   "cell_type": "code",
   "execution_count": 22,
   "metadata": {},
   "outputs": [
    {
     "ename": "UndefVarError",
     "evalue": "UndefVarError: `NYframe` not defined",
     "output_type": "error",
     "traceback": [
      "UndefVarError: `NYframe` not defined\n",
      "\n",
      "Stacktrace:\n",
      " [1] top-level scope\n",
      "   @ c:\\Users\\chadi\\OneDrive - Handelshögskolan i Stockholm\\GitHub\\JuliaAcademy\\DataScience\\12. Visualization.ipynb:1"
     ]
    }
   ],
   "source": [
    "M = Matrix(NYframe[:,5:end])"
   ]
  },
  {
   "cell_type": "code",
   "execution_count": 23,
   "metadata": {},
   "outputs": [
    {
     "ename": "UndefVarError",
     "evalue": "UndefVarError: `NYframe` not defined",
     "output_type": "error",
     "traceback": [
      "UndefVarError: `NYframe` not defined\n",
      "\n",
      "Stacktrace:\n",
      " [1] top-level scope\n",
      "   @ c:\\Users\\chadi\\OneDrive - Handelshögskolan i Stockholm\\GitHub\\JuliaAcademy\\DataScience\\12. Visualization.ipynb:1"
     ]
    }
   ],
   "source": [
    "xtickslabels = string.(names(NYframe[!,5:end]))"
   ]
  },
  {
   "cell_type": "markdown",
   "metadata": {},
   "source": [
    "We will first get started with plotting the price changes over time for each region."
   ]
  },
  {
   "cell_type": "code",
   "execution_count": 24,
   "metadata": {},
   "outputs": [
    {
     "ename": "UndefVarError",
     "evalue": "UndefVarError: `M` not defined",
     "output_type": "error",
     "traceback": [
      "UndefVarError: `M` not defined\n",
      "\n",
      "Stacktrace:\n",
      " [1] top-level scope\n",
      "   @ c:\\Users\\chadi\\OneDrive - Handelshögskolan i Stockholm\\GitHub\\JuliaAcademy\\DataScience\\12. Visualization.ipynb:2"
     ]
    }
   ],
   "source": [
    "plot()\n",
    "for i = 1:size(M,1)\n",
    "    plot!(M[i,:],legend=false)\n",
    "end\n",
    "plot!()\n",
    "p = plot!(xticks = (1:4:length(xtickslabels),xtickslabels[1:4:end]),xrotation=90,xtickfont=font(8),grid=false)\n",
    "pad_empty_plot(p)"
   ]
  },
  {
   "cell_type": "markdown",
   "metadata": {},
   "source": [
    "A plot like this isn't indicative of how the price trend is going overall for New York. What we will do next is for each time point, we will find the median value as well as the 80th and 20th percentile and plot these values. Let's write the precentile functin first."
   ]
  },
  {
   "cell_type": "code",
   "execution_count": 25,
   "metadata": {},
   "outputs": [
    {
     "ename": "UndefVarError",
     "evalue": "UndefVarError: `M` not defined",
     "output_type": "error",
     "traceback": [
      "UndefVarError: `M` not defined\n",
      "\n",
      "Stacktrace:\n",
      " [1] top-level scope\n",
      "   @ c:\\Users\\chadi\\OneDrive - Handelshögskolan i Stockholm\\GitHub\\JuliaAcademy\\DataScience\\12. Visualization.ipynb:13"
     ]
    }
   ],
   "source": [
    "function find_percentile(M, pct)\n",
    "    r = zeros(size(M,2))\n",
    "    for i = 1:size(M,2)\n",
    "        v = M[:,i]\n",
    "        len = length(v)\n",
    "        ind = floor(Int64,pct*len)\n",
    "        newarr = sort(v);\n",
    "        r[i] = newarr[ind];\n",
    "    end\n",
    "    return r\n",
    "end\n",
    "\n",
    "md = find_percentile(M,0.5)\n",
    "mx = find_percentile(M,0.8)\n",
    "mn = find_percentile(M,0.2)\n",
    "plot(md,ribbon =(md.-mn,mx.-md),color = :blue,label=\"NY\",grid=false)\n",
    "p = plot!(xticks = (1:4:length(xtickslabels),xtickslabels[1:4:end]),xrotation=90,xtickfont=font(8))\n",
    "pad_empty_plot(p)"
   ]
  },
  {
   "cell_type": "markdown",
   "metadata": {},
   "source": [
    "Next, we will just put everything together in one function. note the `!` symbol at the end of the name -- this is because we will pass a plot canvas `plotid` as an argument, and this function will modify it."
   ]
  },
  {
   "cell_type": "code",
   "execution_count": 26,
   "metadata": {},
   "outputs": [
    {
     "data": {
      "text/plain": [
       "plot_individual_state! (generic function with 1 method)"
      ]
     },
     "metadata": {},
     "output_type": "display_data"
    }
   ],
   "source": [
    "function plot_individual_state!(plotid,statevalue,colorid)\n",
    "    curids = findall(states.==statevalue)\n",
    "    curFrame = D[curids,:]\n",
    "    M = Matrix(curFrame[:,5:end])\n",
    "    md = find_percentile(M,0.5)\n",
    "    mx = find_percentile(M,0.8)\n",
    "    mn = find_percentile(M,0.2)\n",
    "    plot!(plotid,md,ribbon =(md.-mn,mx.-md),color = colorid,label=stateabbreviations[statevalue],grid=false)\n",
    "    plot!(plotid,xticks = (1:4:length(xtickslabels),xtickslabels[1:4:end]),xrotation=90,xtickfont=font(8))\n",
    "end"
   ]
  },
  {
   "cell_type": "code",
   "execution_count": 27,
   "metadata": {},
   "outputs": [
    {
     "ename": "UndefVarError",
     "evalue": "UndefVarError: `states` not defined",
     "output_type": "error",
     "traceback": [
      "UndefVarError: `states` not defined\n",
      "\n",
      "Stacktrace:\n",
      " [1] plot_individual_state!(plotid::Plots.Plot{Plots.GRBackend}, statevalue::String, colorid::Int64)\n",
      "   @ Main c:\\Users\\chadi\\OneDrive - Handelshögskolan i Stockholm\\GitHub\\JuliaAcademy\\DataScience\\12. Visualization.ipynb:2\n",
      " [2] top-level scope\n",
      "   @ c:\\Users\\chadi\\OneDrive - Handelshögskolan i Stockholm\\GitHub\\JuliaAcademy\\DataScience\\12. Visualization.ipynb:2"
     ]
    }
   ],
   "source": [
    "plotid = plot()\n",
    "plot_individual_state!(plotid,\"Indiana\",1)\n",
    "plot_individual_state!(plotid,\"Ohio\",2)\n",
    "plot_individual_state!(plotid,\"Idaho\",3)\n",
    "# plot_individual_state!(plotid,\"California\",4)\n",
    "ylabel!(\"prices\")\n",
    "pad_empty_plot(plotid)"
   ]
  },
  {
   "cell_type": "markdown",
   "metadata": {},
   "source": [
    "### 🔴Plot 4: Plots with double axes"
   ]
  },
  {
   "cell_type": "code",
   "execution_count": 28,
   "metadata": {},
   "outputs": [
    {
     "data": {
      "image/png": "[encoded data removed]",
      "image/svg+xml": [
       "<?xml version=\"1.0\" encoding=\"utf-8\"?>\n",
       "<svg xmlns=\"http://www.w3.org/2000/svg\" xmlns:xlink=\"http://www.w3.org/1999/xlink\" width=\"300\" height=\"200\" viewBox=\"0 0 1200 800\">\n",
       "<defs>\n",
       "  <clipPath id=\"clip750\">\n",
       "    <rect x=\"0\" y=\"0\" width=\"1200\" height=\"800\"/>\n",
       "  </clipPath>\n",
       "</defs>\n",
       "<path clip-path=\"url(#clip750)\" d=\"M0 800 L1200 800 L1200 0 L0 0  Z\" fill=\"#ffffff\" fill-rule=\"evenodd\" fill-opacity=\"1\"/>\n",
       "<defs>\n",
       "  <clipPath id=\"clip751\">\n",
       "    <rect x=\"240\" y=\"0\" width=\"841\" height=\"800\"/>\n",
       "  </clipPath>\n",
       "</defs>\n",
       "<path clip-path=\"url(#clip750)\" d=\"M144.598 694.448 L1070.15 694.448 L1070.15 47.2441 L144.598 47.2441  Z\" fill=\"#ffffff\" fill-rule=\"evenodd\" fill-opacity=\"1\"/>\n",
       "<defs>\n",
       "  <clipPath id=\"clip752\">\n",
       "    <rect x=\"144\" y=\"47\" width=\"927\" height=\"648\"/>\n",
       "  </clipPath>\n",
       "</defs>\n",
       "<polyline clip-path=\"url(#clip752)\" style=\"stroke:#000000; stroke-linecap:round; stroke-linejoin:round; stroke-width:2; stroke-opacity:0.1; fill:none\" points=\"267.811,694.448 267.811,47.2441 \"/>\n",
       "<polyline clip-path=\"url(#clip752)\" style=\"stroke:#000000; stroke-linecap:round; stroke-linejoin:round; stroke-width:2; stroke-opacity:0.1; fill:none\" points=\"461.846,694.448 461.846,47.2441 \"/>\n",
       "<polyline clip-path=\"url(#clip752)\" style=\"stroke:#000000; stroke-linecap:round; stroke-linejoin:round; stroke-width:2; stroke-opacity:0.1; fill:none\" points=\"655.881,694.448 655.881,47.2441 \"/>\n",
       "<polyline clip-path=\"url(#clip752)\" style=\"stroke:#000000; stroke-linecap:round; stroke-linejoin:round; stroke-width:2; stroke-opacity:0.1; fill:none\" points=\"849.917,694.448 849.917,47.2441 \"/>\n",
       "<polyline clip-path=\"url(#clip752)\" style=\"stroke:#000000; stroke-linecap:round; stroke-linejoin:round; stroke-width:2; stroke-opacity:0.1; fill:none\" points=\"1043.95,694.448 1043.95,47.2441 \"/>\n",
       "<polyline clip-path=\"url(#clip750)\" style=\"stroke:#000000; stroke-linecap:round; stroke-linejoin:round; stroke-width:4; stroke-opacity:1; fill:none\" points=\"144.598,694.448 1070.15,694.448 \"/>\n",
       "<polyline clip-path=\"url(#clip750)\" style=\"stroke:#000000; stroke-linecap:round; stroke-linejoin:round; stroke-width:4; stroke-opacity:1; fill:none\" points=\"267.811,694.448 267.811,675.55 \"/>\n",
       "<polyline clip-path=\"url(#clip750)\" style=\"stroke:#000000; stroke-linecap:round; stroke-linejoin:round; stroke-width:4; stroke-opacity:1; fill:none\" points=\"461.846,694.448 461.846,675.55 \"/>\n",
       "<polyline clip-path=\"url(#clip750)\" style=\"stroke:#000000; stroke-linecap:round; stroke-linejoin:round; stroke-width:4; stroke-opacity:1; fill:none\" points=\"655.881,694.448 655.881,675.55 \"/>\n",
       "<polyline clip-path=\"url(#clip750)\" style=\"stroke:#000000; stroke-linecap:round; stroke-linejoin:round; stroke-width:4; stroke-opacity:1; fill:none\" points=\"849.917,694.448 849.917,675.55 \"/>\n",
       "<polyline clip-path=\"url(#clip750)\" style=\"stroke:#000000; stroke-linecap:round; stroke-linejoin:round; stroke-width:4; stroke-opacity:1; fill:none\" points=\"1043.95,694.448 1043.95,675.55 \"/>\n",
       "<path clip-path=\"url(#clip750)\" d=\"M262.464 743.313 L278.783 743.313 L278.783 747.248 L256.839 747.248 L256.839 743.313 Q259.501 740.558 264.084 735.928 Q268.69 731.276 269.871 729.933 Q272.116 727.41 272.996 725.674 Q273.899 723.915 273.899 722.225 Q273.899 719.47 271.954 717.734 Q270.033 715.998 266.931 715.998 Q264.732 715.998 262.278 716.762 Q259.848 717.526 257.07 719.077 L257.07 714.355 Q259.894 713.22 262.348 712.642 Q264.801 712.063 266.838 712.063 Q272.209 712.063 275.403 714.748 Q278.598 717.433 278.598 721.924 Q278.598 724.054 277.788 725.975 Q277 727.873 274.894 730.466 Q274.315 731.137 271.213 734.354 Q268.112 737.549 262.464 743.313 Z\" fill=\"#000000\" fill-rule=\"nonzero\" fill-opacity=\"1\" /><path clip-path=\"url(#clip750)\" d=\"M464.855 716.762 L453.05 735.211 L464.855 735.211 L464.855 716.762 M463.628 712.688 L469.508 712.688 L469.508 735.211 L474.439 735.211 L474.439 739.1 L469.508 739.1 L469.508 747.248 L464.855 747.248 L464.855 739.1 L449.254 739.1 L449.254 734.586 L463.628 712.688 Z\" fill=\"#000000\" fill-rule=\"nonzero\" fill-opacity=\"1\" /><path clip-path=\"url(#clip750)\" d=\"M656.287 728.104 Q653.138 728.104 651.287 730.257 Q649.458 732.41 649.458 736.16 Q649.458 739.887 651.287 742.063 Q653.138 744.215 656.287 744.215 Q659.435 744.215 661.263 742.063 Q663.115 739.887 663.115 736.16 Q663.115 732.41 661.263 730.257 Q659.435 728.104 656.287 728.104 M665.569 713.452 L665.569 717.711 Q663.81 716.878 662.004 716.438 Q660.222 715.998 658.462 715.998 Q653.833 715.998 651.379 719.123 Q648.949 722.248 648.601 728.567 Q649.967 726.554 652.027 725.489 Q654.088 724.401 656.564 724.401 Q661.773 724.401 664.782 727.572 Q667.814 730.72 667.814 736.16 Q667.814 741.484 664.666 744.702 Q661.518 747.919 656.287 747.919 Q650.291 747.919 647.12 743.336 Q643.949 738.729 643.949 730.003 Q643.949 721.808 647.838 716.947 Q651.726 712.063 658.277 712.063 Q660.037 712.063 661.819 712.41 Q663.625 712.757 665.569 713.452 Z\" fill=\"#000000\" fill-rule=\"nonzero\" fill-opacity=\"1\" /><path clip-path=\"url(#clip750)\" d=\"M849.917 730.836 Q846.584 730.836 844.662 732.618 Q842.764 734.401 842.764 737.526 Q842.764 740.651 844.662 742.433 Q846.584 744.215 849.917 744.215 Q853.25 744.215 855.171 742.433 Q857.093 740.628 857.093 737.526 Q857.093 734.401 855.171 732.618 Q853.273 730.836 849.917 730.836 M845.241 728.845 Q842.232 728.104 840.542 726.044 Q838.875 723.984 838.875 721.021 Q838.875 716.878 841.815 714.47 Q844.778 712.063 849.917 712.063 Q855.079 712.063 858.019 714.47 Q860.958 716.878 860.958 721.021 Q860.958 723.984 859.269 726.044 Q857.602 728.104 854.616 728.845 Q857.996 729.632 859.871 731.924 Q861.769 734.216 861.769 737.526 Q861.769 742.549 858.69 745.234 Q855.634 747.919 849.917 747.919 Q844.199 747.919 841.121 745.234 Q838.065 742.549 838.065 737.526 Q838.065 734.216 839.963 731.924 Q841.861 729.632 845.241 728.845 M843.528 721.461 Q843.528 724.146 845.195 725.651 Q846.884 727.155 849.917 727.155 Q852.926 727.155 854.616 725.651 Q856.329 724.146 856.329 721.461 Q856.329 718.776 854.616 717.271 Q852.926 715.767 849.917 715.767 Q846.884 715.767 845.195 717.271 Q843.528 718.776 843.528 721.461 Z\" fill=\"#000000\" fill-rule=\"nonzero\" fill-opacity=\"1\" /><path clip-path=\"url(#clip750)\" d=\"M1018.64 743.313 L1026.28 743.313 L1026.28 716.947 L1017.97 718.614 L1017.97 714.355 L1026.23 712.688 L1030.91 712.688 L1030.91 743.313 L1038.55 743.313 L1038.55 747.248 L1018.64 747.248 L1018.64 743.313 Z\" fill=\"#000000\" fill-rule=\"nonzero\" fill-opacity=\"1\" /><path clip-path=\"url(#clip750)\" d=\"M1057.99 715.767 Q1054.38 715.767 1052.55 719.331 Q1050.75 722.873 1050.75 730.003 Q1050.75 737.109 1052.55 740.674 Q1054.38 744.215 1057.99 744.215 Q1061.63 744.215 1063.43 740.674 Q1065.26 737.109 1065.26 730.003 Q1065.26 722.873 1063.43 719.331 Q1061.63 715.767 1057.99 715.767 M1057.99 712.063 Q1063.8 712.063 1066.86 716.669 Q1069.94 721.253 1069.94 730.003 Q1069.94 738.729 1066.86 743.336 Q1063.8 747.919 1057.99 747.919 Q1052.18 747.919 1049.1 743.336 Q1046.05 738.729 1046.05 730.003 Q1046.05 721.253 1049.1 716.669 Q1052.18 712.063 1057.99 712.063 Z\" fill=\"#000000\" fill-rule=\"nonzero\" fill-opacity=\"1\" /><polyline clip-path=\"url(#clip750)\" style=\"stroke:#000000; stroke-linecap:round; stroke-linejoin:round; stroke-width:4; stroke-opacity:1; fill:none\" points=\"144.598,694.448 144.598,47.2441 \"/>\n",
       "<polyline clip-path=\"url(#clip750)\" style=\"stroke:#000000; stroke-linecap:round; stroke-linejoin:round; stroke-width:4; stroke-opacity:1; fill:none\" points=\"144.598,624.248 163.496,624.248 \"/>\n",
       "<polyline clip-path=\"url(#clip750)\" style=\"stroke:#000000; stroke-linecap:round; stroke-linejoin:round; stroke-width:4; stroke-opacity:1; fill:none\" points=\"144.598,469.947 163.496,469.947 \"/>\n",
       "<polyline clip-path=\"url(#clip750)\" style=\"stroke:#000000; stroke-linecap:round; stroke-linejoin:round; stroke-width:4; stroke-opacity:1; fill:none\" points=\"144.598,315.646 163.496,315.646 \"/>\n",
       "<polyline clip-path=\"url(#clip750)\" style=\"stroke:#000000; stroke-linecap:round; stroke-linejoin:round; stroke-width:4; stroke-opacity:1; fill:none\" points=\"144.598,161.345 163.496,161.345 \"/>\n",
       "<path clip-path=\"url(#clip750)\" d=\"M71.0198 610.047 Q67.4087 610.047 65.58 613.611 Q63.7745 617.153 63.7745 624.283 Q63.7745 631.389 65.58 634.954 Q67.4087 638.495 71.0198 638.495 Q74.6541 638.495 76.4596 634.954 Q78.2883 631.389 78.2883 624.283 Q78.2883 617.153 76.4596 613.611 Q74.6541 610.047 71.0198 610.047 M71.0198 606.343 Q76.83 606.343 79.8855 610.949 Q82.9642 615.533 82.9642 624.283 Q82.9642 633.009 79.8855 637.616 Q76.83 642.199 71.0198 642.199 Q65.2097 642.199 62.131 637.616 Q59.0754 633.009 59.0754 624.283 Q59.0754 615.533 62.131 610.949 Q65.2097 606.343 71.0198 606.343 Z\" fill=\"#000000\" fill-rule=\"nonzero\" fill-opacity=\"1\" /><path clip-path=\"url(#clip750)\" d=\"M91.1818 635.648 L96.066 635.648 L96.066 641.528 L91.1818 641.528 L91.1818 635.648 Z\" fill=\"#000000\" fill-rule=\"nonzero\" fill-opacity=\"1\" /><path clip-path=\"url(#clip750)\" d=\"M110.279 637.593 L126.598 637.593 L126.598 641.528 L104.654 641.528 L104.654 637.593 Q107.316 634.838 111.899 630.208 Q116.506 625.556 117.686 624.213 Q119.932 621.69 120.811 619.954 Q121.714 618.195 121.714 616.505 Q121.714 613.75 119.77 612.014 Q117.848 610.278 114.746 610.278 Q112.547 610.278 110.094 611.042 Q107.663 611.806 104.885 613.357 L104.885 608.634 Q107.709 607.5 110.163 606.922 Q112.617 606.343 114.654 606.343 Q120.024 606.343 123.219 609.028 Q126.413 611.713 126.413 616.204 Q126.413 618.334 125.603 620.255 Q124.816 622.153 122.709 624.746 Q122.131 625.417 119.029 628.634 Q115.927 631.829 110.279 637.593 Z\" fill=\"#000000\" fill-rule=\"nonzero\" fill-opacity=\"1\" /><path clip-path=\"url(#clip750)\" d=\"M68.9365 455.745 Q65.3254 455.745 63.4967 459.31 Q61.6912 462.852 61.6912 469.982 Q61.6912 477.088 63.4967 480.653 Q65.3254 484.194 68.9365 484.194 Q72.5707 484.194 74.3763 480.653 Q76.205 477.088 76.205 469.982 Q76.205 462.852 74.3763 459.31 Q72.5707 455.745 68.9365 455.745 M68.9365 452.042 Q74.7467 452.042 77.8022 456.648 Q80.8809 461.232 80.8809 469.982 Q80.8809 478.708 77.8022 483.315 Q74.7467 487.898 68.9365 487.898 Q63.1264 487.898 60.0477 483.315 Q56.9921 478.708 56.9921 469.982 Q56.9921 461.232 60.0477 456.648 Q63.1264 452.042 68.9365 452.042 Z\" fill=\"#000000\" fill-rule=\"nonzero\" fill-opacity=\"1\" /><path clip-path=\"url(#clip750)\" d=\"M89.0984 481.347 L93.9827 481.347 L93.9827 487.227 L89.0984 487.227 L89.0984 481.347 Z\" fill=\"#000000\" fill-rule=\"nonzero\" fill-opacity=\"1\" /><path clip-path=\"url(#clip750)\" d=\"M117.015 456.741 L105.209 475.19 L117.015 475.19 L117.015 456.741 M115.788 452.667 L121.668 452.667 L121.668 475.19 L126.598 475.19 L126.598 479.079 L121.668 479.079 L121.668 487.227 L117.015 487.227 L117.015 479.079 L101.413 479.079 L101.413 474.565 L115.788 452.667 Z\" fill=\"#000000\" fill-rule=\"nonzero\" fill-opacity=\"1\" /><path clip-path=\"url(#clip750)\" d=\"M69.2606 301.444 Q65.6495 301.444 63.8208 305.009 Q62.0152 308.551 62.0152 315.681 Q62.0152 322.787 63.8208 326.352 Q65.6495 329.893 69.2606 329.893 Q72.8948 329.893 74.7004 326.352 Q76.5291 322.787 76.5291 315.681 Q76.5291 308.551 74.7004 305.009 Q72.8948 301.444 69.2606 301.444 M69.2606 297.741 Q75.0707 297.741 78.1263 302.347 Q81.205 306.931 81.205 315.681 Q81.205 324.407 78.1263 329.014 Q75.0707 333.597 69.2606 333.597 Q63.4504 333.597 60.3717 329.014 Q57.3162 324.407 57.3162 315.681 Q57.3162 306.931 60.3717 302.347 Q63.4504 297.741 69.2606 297.741 Z\" fill=\"#000000\" fill-rule=\"nonzero\" fill-opacity=\"1\" /><path clip-path=\"url(#clip750)\" d=\"M89.4225 327.046 L94.3067 327.046 L94.3067 332.926 L89.4225 332.926 L89.4225 327.046 Z\" fill=\"#000000\" fill-rule=\"nonzero\" fill-opacity=\"1\" /><path clip-path=\"url(#clip750)\" d=\"M115.071 313.782 Q111.922 313.782 110.071 315.935 Q108.242 318.088 108.242 321.838 Q108.242 325.565 110.071 327.741 Q111.922 329.893 115.071 329.893 Q118.219 329.893 120.047 327.741 Q121.899 325.565 121.899 321.838 Q121.899 318.088 120.047 315.935 Q118.219 313.782 115.071 313.782 M124.353 299.13 L124.353 303.389 Q122.594 302.556 120.788 302.116 Q119.006 301.676 117.246 301.676 Q112.617 301.676 110.163 304.801 Q107.733 307.926 107.385 314.245 Q108.751 312.231 110.811 311.167 Q112.871 310.079 115.348 310.079 Q120.557 310.079 123.566 313.25 Q126.598 316.398 126.598 321.838 Q126.598 327.162 123.45 330.38 Q120.302 333.597 115.071 333.597 Q109.075 333.597 105.904 329.014 Q102.733 324.407 102.733 315.681 Q102.733 307.486 106.621 302.625 Q110.51 297.741 117.061 297.741 Q118.82 297.741 120.603 298.088 Q122.408 298.435 124.353 299.13 Z\" fill=\"#000000\" fill-rule=\"nonzero\" fill-opacity=\"1\" /><path clip-path=\"url(#clip750)\" d=\"M69.5152 147.143 Q65.9041 147.143 64.0754 150.708 Q62.2699 154.25 62.2699 161.38 Q62.2699 168.486 64.0754 172.051 Q65.9041 175.592 69.5152 175.592 Q73.1494 175.592 74.955 172.051 Q76.7837 168.486 76.7837 161.38 Q76.7837 154.25 74.955 150.708 Q73.1494 147.143 69.5152 147.143 M69.5152 143.44 Q75.3254 143.44 78.3809 148.046 Q81.4596 152.63 81.4596 161.38 Q81.4596 170.106 78.3809 174.713 Q75.3254 179.296 69.5152 179.296 Q63.7051 179.296 60.6264 174.713 Q57.5708 170.106 57.5708 161.38 Q57.5708 152.63 60.6264 148.046 Q63.7051 143.44 69.5152 143.44 Z\" fill=\"#000000\" fill-rule=\"nonzero\" fill-opacity=\"1\" /><path clip-path=\"url(#clip750)\" d=\"M89.6771 172.745 L94.5614 172.745 L94.5614 178.625 L89.6771 178.625 L89.6771 172.745 Z\" fill=\"#000000\" fill-rule=\"nonzero\" fill-opacity=\"1\" /><path clip-path=\"url(#clip750)\" d=\"M114.746 162.213 Q111.413 162.213 109.492 163.995 Q107.594 165.778 107.594 168.903 Q107.594 172.028 109.492 173.81 Q111.413 175.592 114.746 175.592 Q118.08 175.592 120.001 173.81 Q121.922 172.004 121.922 168.903 Q121.922 165.778 120.001 163.995 Q118.103 162.213 114.746 162.213 M110.071 160.222 Q107.061 159.481 105.371 157.421 Q103.705 155.361 103.705 152.398 Q103.705 148.255 106.645 145.847 Q109.608 143.44 114.746 143.44 Q119.908 143.44 122.848 145.847 Q125.788 148.255 125.788 152.398 Q125.788 155.361 124.098 157.421 Q122.432 159.481 119.445 160.222 Q122.825 161.009 124.7 163.301 Q126.598 165.592 126.598 168.903 Q126.598 173.926 123.52 176.611 Q120.464 179.296 114.746 179.296 Q109.029 179.296 105.95 176.611 Q102.895 173.926 102.895 168.903 Q102.895 165.592 104.793 163.301 Q106.691 161.009 110.071 160.222 M108.358 152.838 Q108.358 155.523 110.024 157.028 Q111.714 158.532 114.746 158.532 Q117.756 158.532 119.445 157.028 Q121.158 155.523 121.158 152.838 Q121.158 150.153 119.445 148.648 Q117.756 147.143 114.746 147.143 Q111.714 147.143 110.024 148.648 Q108.358 150.153 108.358 152.838 Z\" fill=\"#000000\" fill-rule=\"nonzero\" fill-opacity=\"1\" /><polyline clip-path=\"url(#clip752)\" style=\"stroke:#009af9; stroke-linecap:round; stroke-linejoin:round; stroke-width:4; stroke-opacity:1; fill:none\" points=\"170.793,608.818 267.811,202.59 364.828,552.602 461.846,65.5612 558.864,74.8843 655.881,676.131 752.899,435.006 849.917,617.736 946.935,143.095 1043.95,493.311 \"/>\n",
       "<path clip-path=\"url(#clip750)\" d=\"M175.45 172.498 L291.199 172.498 L291.199 68.8176 L175.45 68.8176  Z\" fill=\"#ffffff\" fill-rule=\"evenodd\" fill-opacity=\"1\"/>\n",
       "<polyline clip-path=\"url(#clip750)\" style=\"stroke:#000000; stroke-linecap:round; stroke-linejoin:round; stroke-width:4; stroke-opacity:1; fill:none\" points=\"175.45,172.498 291.199,172.498 291.199,68.8176 175.45,68.8176 175.45,172.498 \"/>\n",
       "<polyline clip-path=\"url(#clip750)\" style=\"stroke:#009af9; stroke-linecap:round; stroke-linejoin:round; stroke-width:4; stroke-opacity:1; fill:none\" points=\"185.734,120.658 247.437,120.658 \"/>\n",
       "<path clip-path=\"url(#clip750)\" d=\"M276.494 124.998 Q276.494 120.299 274.549 117.637 Q272.628 114.952 269.249 114.952 Q265.869 114.952 263.925 117.637 Q262.003 120.299 262.003 124.998 Q262.003 129.697 263.925 132.382 Q265.869 135.044 269.249 135.044 Q272.628 135.044 274.549 132.382 Q276.494 129.697 276.494 124.998 M262.003 115.947 Q263.346 113.632 265.383 112.521 Q267.443 111.387 270.29 111.387 Q275.012 111.387 277.952 115.137 Q280.915 118.887 280.915 124.998 Q280.915 131.109 277.952 134.859 Q275.012 138.609 270.29 138.609 Q267.443 138.609 265.383 137.498 Q263.346 136.363 262.003 134.049 L262.003 137.938 L257.721 137.938 L257.721 101.919 L262.003 101.919 L262.003 115.947 Z\" fill=\"#000000\" fill-rule=\"nonzero\" fill-opacity=\"1\" /><polyline clip-path=\"url(#clip752)\" style=\"stroke:#e26f46; stroke-linecap:round; stroke-linejoin:round; stroke-width:4; stroke-opacity:1; fill:none\" points=\"170.793,218.534 267.811,186.606 364.828,103.834 461.846,65.9463 558.864,65.5612 655.881,289.847 752.899,676.131 849.917,451.327 946.935,302.17 1043.95,481.806 \"/>\n",
       "<path clip-path=\"url(#clip750)\" d=\"M894.681 172.498 L1039.3 172.498 L1039.3 68.8176 L894.681 68.8176  Z\" fill=\"#ffffff\" fill-rule=\"evenodd\" fill-opacity=\"1\"/>\n",
       "<polyline clip-path=\"url(#clip750)\" style=\"stroke:#000000; stroke-linecap:round; stroke-linejoin:round; stroke-width:4; stroke-opacity:1; fill:none\" points=\"894.681,172.498 1039.3,172.498 1039.3,68.8176 894.681,68.8176 894.681,172.498 \"/>\n",
       "<polyline clip-path=\"url(#clip750)\" style=\"stroke:#e26f46; stroke-linecap:round; stroke-linejoin:round; stroke-width:4; stroke-opacity:1; fill:none\" points=\"904.965,120.658 966.668,120.658 \"/>\n",
       "<path clip-path=\"url(#clip750)\" d=\"M990.794 140.345 Q988.989 144.975 987.276 146.387 Q985.563 147.799 982.692 147.799 L979.29 147.799 L979.29 144.234 L981.79 144.234 Q983.549 144.234 984.521 143.4 Q985.493 142.567 986.674 139.465 L987.438 137.521 L976.952 112.012 L981.466 112.012 L989.567 132.289 L997.669 112.012 L1002.18 112.012 L990.794 140.345 Z\" fill=\"#000000\" fill-rule=\"nonzero\" fill-opacity=\"1\" /><path clip-path=\"url(#clip750)\" d=\"M1012.69 134.002 L1029.01 134.002 L1029.01 137.938 L1007.07 137.938 L1007.07 134.002 Q1009.73 131.248 1014.31 126.618 Q1018.92 121.965 1020.1 120.623 Q1022.34 118.1 1023.22 116.364 Q1024.13 114.604 1024.13 112.915 Q1024.13 110.16 1022.18 108.424 Q1020.26 106.688 1017.16 106.688 Q1014.96 106.688 1012.51 107.452 Q1010.08 108.215 1007.3 109.766 L1007.3 105.044 Q1010.12 103.91 1012.58 103.331 Q1015.03 102.753 1017.07 102.753 Q1022.44 102.753 1025.63 105.438 Q1028.83 108.123 1028.83 112.614 Q1028.83 114.743 1028.02 116.665 Q1027.23 118.563 1025.12 121.155 Q1024.54 121.827 1021.44 125.044 Q1018.34 128.239 1012.69 134.002 Z\" fill=\"#000000\" fill-rule=\"nonzero\" fill-opacity=\"1\" /></svg>\n"
      ],
      "text/html": [
       "<?xml version=\"1.0\" encoding=\"utf-8\"?>\n",
       "<svg xmlns=\"http://www.w3.org/2000/svg\" xmlns:xlink=\"http://www.w3.org/1999/xlink\" width=\"300\" height=\"200\" viewBox=\"0 0 1200 800\">\n",
       "<defs>\n",
       "  <clipPath id=\"clip800\">\n",
       "    <rect x=\"0\" y=\"0\" width=\"1200\" height=\"800\"/>\n",
       "  </clipPath>\n",
       "</defs>\n",
       "<path clip-path=\"url(#clip800)\" d=\"M0 800 L1200 800 L1200 0 L0 0  Z\" fill=\"#ffffff\" fill-rule=\"evenodd\" fill-opacity=\"1\"/>\n",
       "<defs>\n",
       "  <clipPath id=\"clip801\">\n",
       "    <rect x=\"240\" y=\"0\" width=\"841\" height=\"800\"/>\n",
       "  </clipPath>\n",
       "</defs>\n",
       "<path clip-path=\"url(#clip800)\" d=\"M144.598 694.448 L1070.15 694.448 L1070.15 47.2441 L144.598 47.2441  Z\" fill=\"#ffffff\" fill-rule=\"evenodd\" fill-opacity=\"1\"/>\n",
       "<defs>\n",
       "  <clipPath id=\"clip802\">\n",
       "    <rect x=\"144\" y=\"47\" width=\"927\" height=\"648\"/>\n",
       "  </clipPath>\n",
       "</defs>\n",
       "<polyline clip-path=\"url(#clip802)\" style=\"stroke:#000000; stroke-linecap:round; stroke-linejoin:round; stroke-width:2; stroke-opacity:0.1; fill:none\" points=\"267.811,694.448 267.811,47.2441 \"/>\n",
       "<polyline clip-path=\"url(#clip802)\" style=\"stroke:#000000; stroke-linecap:round; stroke-linejoin:round; stroke-width:2; stroke-opacity:0.1; fill:none\" points=\"461.846,694.448 461.846,47.2441 \"/>\n",
       "<polyline clip-path=\"url(#clip802)\" style=\"stroke:#000000; stroke-linecap:round; stroke-linejoin:round; stroke-width:2; stroke-opacity:0.1; fill:none\" points=\"655.881,694.448 655.881,47.2441 \"/>\n",
       "<polyline clip-path=\"url(#clip802)\" style=\"stroke:#000000; stroke-linecap:round; stroke-linejoin:round; stroke-width:2; stroke-opacity:0.1; fill:none\" points=\"849.917,694.448 849.917,47.2441 \"/>\n",
       "<polyline clip-path=\"url(#clip802)\" style=\"stroke:#000000; stroke-linecap:round; stroke-linejoin:round; stroke-width:2; stroke-opacity:0.1; fill:none\" points=\"1043.95,694.448 1043.95,47.2441 \"/>\n",
       "<polyline clip-path=\"url(#clip800)\" style=\"stroke:#000000; stroke-linecap:round; stroke-linejoin:round; stroke-width:4; stroke-opacity:1; fill:none\" points=\"144.598,694.448 1070.15,694.448 \"/>\n",
       "<polyline clip-path=\"url(#clip800)\" style=\"stroke:#000000; stroke-linecap:round; stroke-linejoin:round; stroke-width:4; stroke-opacity:1; fill:none\" points=\"267.811,694.448 267.811,675.55 \"/>\n",
       "<polyline clip-path=\"url(#clip800)\" style=\"stroke:#000000; stroke-linecap:round; stroke-linejoin:round; stroke-width:4; stroke-opacity:1; fill:none\" points=\"461.846,694.448 461.846,675.55 \"/>\n",
       "<polyline clip-path=\"url(#clip800)\" style=\"stroke:#000000; stroke-linecap:round; stroke-linejoin:round; stroke-width:4; stroke-opacity:1; fill:none\" points=\"655.881,694.448 655.881,675.55 \"/>\n",
       "<polyline clip-path=\"url(#clip800)\" style=\"stroke:#000000; stroke-linecap:round; stroke-linejoin:round; stroke-width:4; stroke-opacity:1; fill:none\" points=\"849.917,694.448 849.917,675.55 \"/>\n",
       "<polyline clip-path=\"url(#clip800)\" style=\"stroke:#000000; stroke-linecap:round; stroke-linejoin:round; stroke-width:4; stroke-opacity:1; fill:none\" points=\"1043.95,694.448 1043.95,675.55 \"/>\n",
       "<path clip-path=\"url(#clip800)\" d=\"M262.464 743.313 L278.783 743.313 L278.783 747.248 L256.839 747.248 L256.839 743.313 Q259.501 740.558 264.084 735.928 Q268.69 731.276 269.871 729.933 Q272.116 727.41 272.996 725.674 Q273.899 723.915 273.899 722.225 Q273.899 719.47 271.954 717.734 Q270.033 715.998 266.931 715.998 Q264.732 715.998 262.278 716.762 Q259.848 717.526 257.07 719.077 L257.07 714.355 Q259.894 713.22 262.348 712.642 Q264.801 712.063 266.838 712.063 Q272.209 712.063 275.403 714.748 Q278.598 717.433 278.598 721.924 Q278.598 724.054 277.788 725.975 Q277 727.873 274.894 730.466 Q274.315 731.137 271.213 734.354 Q268.112 737.549 262.464 743.313 Z\" fill=\"#000000\" fill-rule=\"nonzero\" fill-opacity=\"1\" /><path clip-path=\"url(#clip800)\" d=\"M464.855 716.762 L453.05 735.211 L464.855 735.211 L464.855 716.762 M463.628 712.688 L469.508 712.688 L469.508 735.211 L474.439 735.211 L474.439 739.1 L469.508 739.1 L469.508 747.248 L464.855 747.248 L464.855 739.1 L449.254 739.1 L449.254 734.586 L463.628 712.688 Z\" fill=\"#000000\" fill-rule=\"nonzero\" fill-opacity=\"1\" /><path clip-path=\"url(#clip800)\" d=\"M656.287 728.104 Q653.138 728.104 651.287 730.257 Q649.458 732.41 649.458 736.16 Q649.458 739.887 651.287 742.063 Q653.138 744.215 656.287 744.215 Q659.435 744.215 661.263 742.063 Q663.115 739.887 663.115 736.16 Q663.115 732.41 661.263 730.257 Q659.435 728.104 656.287 728.104 M665.569 713.452 L665.569 717.711 Q663.81 716.878 662.004 716.438 Q660.222 715.998 658.462 715.998 Q653.833 715.998 651.379 719.123 Q648.949 722.248 648.601 728.567 Q649.967 726.554 652.027 725.489 Q654.088 724.401 656.564 724.401 Q661.773 724.401 664.782 727.572 Q667.814 730.72 667.814 736.16 Q667.814 741.484 664.666 744.702 Q661.518 747.919 656.287 747.919 Q650.291 747.919 647.12 743.336 Q643.949 738.729 643.949 730.003 Q643.949 721.808 647.838 716.947 Q651.726 712.063 658.277 712.063 Q660.037 712.063 661.819 712.41 Q663.625 712.757 665.569 713.452 Z\" fill=\"#000000\" fill-rule=\"nonzero\" fill-opacity=\"1\" /><path clip-path=\"url(#clip800)\" d=\"M849.917 730.836 Q846.584 730.836 844.662 732.618 Q842.764 734.401 842.764 737.526 Q842.764 740.651 844.662 742.433 Q846.584 744.215 849.917 744.215 Q853.25 744.215 855.171 742.433 Q857.093 740.628 857.093 737.526 Q857.093 734.401 855.171 732.618 Q853.273 730.836 849.917 730.836 M845.241 728.845 Q842.232 728.104 840.542 726.044 Q838.875 723.984 838.875 721.021 Q838.875 716.878 841.815 714.47 Q844.778 712.063 849.917 712.063 Q855.079 712.063 858.019 714.47 Q860.958 716.878 860.958 721.021 Q860.958 723.984 859.269 726.044 Q857.602 728.104 854.616 728.845 Q857.996 729.632 859.871 731.924 Q861.769 734.216 861.769 737.526 Q861.769 742.549 858.69 745.234 Q855.634 747.919 849.917 747.919 Q844.199 747.919 841.121 745.234 Q838.065 742.549 838.065 737.526 Q838.065 734.216 839.963 731.924 Q841.861 729.632 845.241 728.845 M843.528 721.461 Q843.528 724.146 845.195 725.651 Q846.884 727.155 849.917 727.155 Q852.926 727.155 854.616 725.651 Q856.329 724.146 856.329 721.461 Q856.329 718.776 854.616 717.271 Q852.926 715.767 849.917 715.767 Q846.884 715.767 845.195 717.271 Q843.528 718.776 843.528 721.461 Z\" fill=\"#000000\" fill-rule=\"nonzero\" fill-opacity=\"1\" /><path clip-path=\"url(#clip800)\" d=\"M1018.64 743.313 L1026.28 743.313 L1026.28 716.947 L1017.97 718.614 L1017.97 714.355 L1026.23 712.688 L1030.91 712.688 L1030.91 743.313 L1038.55 743.313 L1038.55 747.248 L1018.64 747.248 L1018.64 743.313 Z\" fill=\"#000000\" fill-rule=\"nonzero\" fill-opacity=\"1\" /><path clip-path=\"url(#clip800)\" d=\"M1057.99 715.767 Q1054.38 715.767 1052.55 719.331 Q1050.75 722.873 1050.75 730.003 Q1050.75 737.109 1052.55 740.674 Q1054.38 744.215 1057.99 744.215 Q1061.63 744.215 1063.43 740.674 Q1065.26 737.109 1065.26 730.003 Q1065.26 722.873 1063.43 719.331 Q1061.63 715.767 1057.99 715.767 M1057.99 712.063 Q1063.8 712.063 1066.86 716.669 Q1069.94 721.253 1069.94 730.003 Q1069.94 738.729 1066.86 743.336 Q1063.8 747.919 1057.99 747.919 Q1052.18 747.919 1049.1 743.336 Q1046.05 738.729 1046.05 730.003 Q1046.05 721.253 1049.1 716.669 Q1052.18 712.063 1057.99 712.063 Z\" fill=\"#000000\" fill-rule=\"nonzero\" fill-opacity=\"1\" /><polyline clip-path=\"url(#clip800)\" style=\"stroke:#000000; stroke-linecap:round; stroke-linejoin:round; stroke-width:4; stroke-opacity:1; fill:none\" points=\"144.598,694.448 144.598,47.2441 \"/>\n",
       "<polyline clip-path=\"url(#clip800)\" style=\"stroke:#000000; stroke-linecap:round; stroke-linejoin:round; stroke-width:4; stroke-opacity:1; fill:none\" points=\"144.598,624.248 163.496,624.248 \"/>\n",
       "<polyline clip-path=\"url(#clip800)\" style=\"stroke:#000000; stroke-linecap:round; stroke-linejoin:round; stroke-width:4; stroke-opacity:1; fill:none\" points=\"144.598,469.947 163.496,469.947 \"/>\n",
       "<polyline clip-path=\"url(#clip800)\" style=\"stroke:#000000; stroke-linecap:round; stroke-linejoin:round; stroke-width:4; stroke-opacity:1; fill:none\" points=\"144.598,315.646 163.496,315.646 \"/>\n",
       "<polyline clip-path=\"url(#clip800)\" style=\"stroke:#000000; stroke-linecap:round; stroke-linejoin:round; stroke-width:4; stroke-opacity:1; fill:none\" points=\"144.598,161.345 163.496,161.345 \"/>\n",
       "<path clip-path=\"url(#clip800)\" d=\"M71.0198 610.047 Q67.4087 610.047 65.58 613.611 Q63.7745 617.153 63.7745 624.283 Q63.7745 631.389 65.58 634.954 Q67.4087 638.495 71.0198 638.495 Q74.6541 638.495 76.4596 634.954 Q78.2883 631.389 78.2883 624.283 Q78.2883 617.153 76.4596 613.611 Q74.6541 610.047 71.0198 610.047 M71.0198 606.343 Q76.83 606.343 79.8855 610.949 Q82.9642 615.533 82.9642 624.283 Q82.9642 633.009 79.8855 637.616 Q76.83 642.199 71.0198 642.199 Q65.2097 642.199 62.131 637.616 Q59.0754 633.009 59.0754 624.283 Q59.0754 615.533 62.131 610.949 Q65.2097 606.343 71.0198 606.343 Z\" fill=\"#000000\" fill-rule=\"nonzero\" fill-opacity=\"1\" /><path clip-path=\"url(#clip800)\" d=\"M91.1818 635.648 L96.066 635.648 L96.066 641.528 L91.1818 641.528 L91.1818 635.648 Z\" fill=\"#000000\" fill-rule=\"nonzero\" fill-opacity=\"1\" /><path clip-path=\"url(#clip800)\" d=\"M110.279 637.593 L126.598 637.593 L126.598 641.528 L104.654 641.528 L104.654 637.593 Q107.316 634.838 111.899 630.208 Q116.506 625.556 117.686 624.213 Q119.932 621.69 120.811 619.954 Q121.714 618.195 121.714 616.505 Q121.714 613.75 119.77 612.014 Q117.848 610.278 114.746 610.278 Q112.547 610.278 110.094 611.042 Q107.663 611.806 104.885 613.357 L104.885 608.634 Q107.709 607.5 110.163 606.922 Q112.617 606.343 114.654 606.343 Q120.024 606.343 123.219 609.028 Q126.413 611.713 126.413 616.204 Q126.413 618.334 125.603 620.255 Q124.816 622.153 122.709 624.746 Q122.131 625.417 119.029 628.634 Q115.927 631.829 110.279 637.593 Z\" fill=\"#000000\" fill-rule=\"nonzero\" fill-opacity=\"1\" /><path clip-path=\"url(#clip800)\" d=\"M68.9365 455.745 Q65.3254 455.745 63.4967 459.31 Q61.6912 462.852 61.6912 469.982 Q61.6912 477.088 63.4967 480.653 Q65.3254 484.194 68.9365 484.194 Q72.5707 484.194 74.3763 480.653 Q76.205 477.088 76.205 469.982 Q76.205 462.852 74.3763 459.31 Q72.5707 455.745 68.9365 455.745 M68.9365 452.042 Q74.7467 452.042 77.8022 456.648 Q80.8809 461.232 80.8809 469.982 Q80.8809 478.708 77.8022 483.315 Q74.7467 487.898 68.9365 487.898 Q63.1264 487.898 60.0477 483.315 Q56.9921 478.708 56.9921 469.982 Q56.9921 461.232 60.0477 456.648 Q63.1264 452.042 68.9365 452.042 Z\" fill=\"#000000\" fill-rule=\"nonzero\" fill-opacity=\"1\" /><path clip-path=\"url(#clip800)\" d=\"M89.0984 481.347 L93.9827 481.347 L93.9827 487.227 L89.0984 487.227 L89.0984 481.347 Z\" fill=\"#000000\" fill-rule=\"nonzero\" fill-opacity=\"1\" /><path clip-path=\"url(#clip800)\" d=\"M117.015 456.741 L105.209 475.19 L117.015 475.19 L117.015 456.741 M115.788 452.667 L121.668 452.667 L121.668 475.19 L126.598 475.19 L126.598 479.079 L121.668 479.079 L121.668 487.227 L117.015 487.227 L117.015 479.079 L101.413 479.079 L101.413 474.565 L115.788 452.667 Z\" fill=\"#000000\" fill-rule=\"nonzero\" fill-opacity=\"1\" /><path clip-path=\"url(#clip800)\" d=\"M69.2606 301.444 Q65.6495 301.444 63.8208 305.009 Q62.0152 308.551 62.0152 315.681 Q62.0152 322.787 63.8208 326.352 Q65.6495 329.893 69.2606 329.893 Q72.8948 329.893 74.7004 326.352 Q76.5291 322.787 76.5291 315.681 Q76.5291 308.551 74.7004 305.009 Q72.8948 301.444 69.2606 301.444 M69.2606 297.741 Q75.0707 297.741 78.1263 302.347 Q81.205 306.931 81.205 315.681 Q81.205 324.407 78.1263 329.014 Q75.0707 333.597 69.2606 333.597 Q63.4504 333.597 60.3717 329.014 Q57.3162 324.407 57.3162 315.681 Q57.3162 306.931 60.3717 302.347 Q63.4504 297.741 69.2606 297.741 Z\" fill=\"#000000\" fill-rule=\"nonzero\" fill-opacity=\"1\" /><path clip-path=\"url(#clip800)\" d=\"M89.4225 327.046 L94.3067 327.046 L94.3067 332.926 L89.4225 332.926 L89.4225 327.046 Z\" fill=\"#000000\" fill-rule=\"nonzero\" fill-opacity=\"1\" /><path clip-path=\"url(#clip800)\" d=\"M115.071 313.782 Q111.922 313.782 110.071 315.935 Q108.242 318.088 108.242 321.838 Q108.242 325.565 110.071 327.741 Q111.922 329.893 115.071 329.893 Q118.219 329.893 120.047 327.741 Q121.899 325.565 121.899 321.838 Q121.899 318.088 120.047 315.935 Q118.219 313.782 115.071 313.782 M124.353 299.13 L124.353 303.389 Q122.594 302.556 120.788 302.116 Q119.006 301.676 117.246 301.676 Q112.617 301.676 110.163 304.801 Q107.733 307.926 107.385 314.245 Q108.751 312.231 110.811 311.167 Q112.871 310.079 115.348 310.079 Q120.557 310.079 123.566 313.25 Q126.598 316.398 126.598 321.838 Q126.598 327.162 123.45 330.38 Q120.302 333.597 115.071 333.597 Q109.075 333.597 105.904 329.014 Q102.733 324.407 102.733 315.681 Q102.733 307.486 106.621 302.625 Q110.51 297.741 117.061 297.741 Q118.82 297.741 120.603 298.088 Q122.408 298.435 124.353 299.13 Z\" fill=\"#000000\" fill-rule=\"nonzero\" fill-opacity=\"1\" /><path clip-path=\"url(#clip800)\" d=\"M69.5152 147.143 Q65.9041 147.143 64.0754 150.708 Q62.2699 154.25 62.2699 161.38 Q62.2699 168.486 64.0754 172.051 Q65.9041 175.592 69.5152 175.592 Q73.1494 175.592 74.955 172.051 Q76.7837 168.486 76.7837 161.38 Q76.7837 154.25 74.955 150.708 Q73.1494 147.143 69.5152 147.143 M69.5152 143.44 Q75.3254 143.44 78.3809 148.046 Q81.4596 152.63 81.4596 161.38 Q81.4596 170.106 78.3809 174.713 Q75.3254 179.296 69.5152 179.296 Q63.7051 179.296 60.6264 174.713 Q57.5708 170.106 57.5708 161.38 Q57.5708 152.63 60.6264 148.046 Q63.7051 143.44 69.5152 143.44 Z\" fill=\"#000000\" fill-rule=\"nonzero\" fill-opacity=\"1\" /><path clip-path=\"url(#clip800)\" d=\"M89.6771 172.745 L94.5614 172.745 L94.5614 178.625 L89.6771 178.625 L89.6771 172.745 Z\" fill=\"#000000\" fill-rule=\"nonzero\" fill-opacity=\"1\" /><path clip-path=\"url(#clip800)\" d=\"M114.746 162.213 Q111.413 162.213 109.492 163.995 Q107.594 165.778 107.594 168.903 Q107.594 172.028 109.492 173.81 Q111.413 175.592 114.746 175.592 Q118.08 175.592 120.001 173.81 Q121.922 172.004 121.922 168.903 Q121.922 165.778 120.001 163.995 Q118.103 162.213 114.746 162.213 M110.071 160.222 Q107.061 159.481 105.371 157.421 Q103.705 155.361 103.705 152.398 Q103.705 148.255 106.645 145.847 Q109.608 143.44 114.746 143.44 Q119.908 143.44 122.848 145.847 Q125.788 148.255 125.788 152.398 Q125.788 155.361 124.098 157.421 Q122.432 159.481 119.445 160.222 Q122.825 161.009 124.7 163.301 Q126.598 165.592 126.598 168.903 Q126.598 173.926 123.52 176.611 Q120.464 179.296 114.746 179.296 Q109.029 179.296 105.95 176.611 Q102.895 173.926 102.895 168.903 Q102.895 165.592 104.793 163.301 Q106.691 161.009 110.071 160.222 M108.358 152.838 Q108.358 155.523 110.024 157.028 Q111.714 158.532 114.746 158.532 Q117.756 158.532 119.445 157.028 Q121.158 155.523 121.158 152.838 Q121.158 150.153 119.445 148.648 Q117.756 147.143 114.746 147.143 Q111.714 147.143 110.024 148.648 Q108.358 150.153 108.358 152.838 Z\" fill=\"#000000\" fill-rule=\"nonzero\" fill-opacity=\"1\" /><polyline clip-path=\"url(#clip802)\" style=\"stroke:#009af9; stroke-linecap:round; stroke-linejoin:round; stroke-width:4; stroke-opacity:1; fill:none\" points=\"170.793,608.818 267.811,202.59 364.828,552.602 461.846,65.5612 558.864,74.8843 655.881,676.131 752.899,435.006 849.917,617.736 946.935,143.095 1043.95,493.311 \"/>\n",
       "<path clip-path=\"url(#clip800)\" d=\"M175.45 172.498 L291.199 172.498 L291.199 68.8176 L175.45 68.8176  Z\" fill=\"#ffffff\" fill-rule=\"evenodd\" fill-opacity=\"1\"/>\n",
       "<polyline clip-path=\"url(#clip800)\" style=\"stroke:#000000; stroke-linecap:round; stroke-linejoin:round; stroke-width:4; stroke-opacity:1; fill:none\" points=\"175.45,172.498 291.199,172.498 291.199,68.8176 175.45,68.8176 175.45,172.498 \"/>\n",
       "<polyline clip-path=\"url(#clip800)\" style=\"stroke:#009af9; stroke-linecap:round; stroke-linejoin:round; stroke-width:4; stroke-opacity:1; fill:none\" points=\"185.734,120.658 247.437,120.658 \"/>\n",
       "<path clip-path=\"url(#clip800)\" d=\"M276.494 124.998 Q276.494 120.299 274.549 117.637 Q272.628 114.952 269.249 114.952 Q265.869 114.952 263.925 117.637 Q262.003 120.299 262.003 124.998 Q262.003 129.697 263.925 132.382 Q265.869 135.044 269.249 135.044 Q272.628 135.044 274.549 132.382 Q276.494 129.697 276.494 124.998 M262.003 115.947 Q263.346 113.632 265.383 112.521 Q267.443 111.387 270.29 111.387 Q275.012 111.387 277.952 115.137 Q280.915 118.887 280.915 124.998 Q280.915 131.109 277.952 134.859 Q275.012 138.609 270.29 138.609 Q267.443 138.609 265.383 137.498 Q263.346 136.363 262.003 134.049 L262.003 137.938 L257.721 137.938 L257.721 101.919 L262.003 101.919 L262.003 115.947 Z\" fill=\"#000000\" fill-rule=\"nonzero\" fill-opacity=\"1\" /><polyline clip-path=\"url(#clip802)\" style=\"stroke:#e26f46; stroke-linecap:round; stroke-linejoin:round; stroke-width:4; stroke-opacity:1; fill:none\" points=\"170.793,218.534 267.811,186.606 364.828,103.834 461.846,65.9463 558.864,65.5612 655.881,289.847 752.899,676.131 849.917,451.327 946.935,302.17 1043.95,481.806 \"/>\n",
       "<path clip-path=\"url(#clip800)\" d=\"M894.681 172.498 L1039.3 172.498 L1039.3 68.8176 L894.681 68.8176  Z\" fill=\"#ffffff\" fill-rule=\"evenodd\" fill-opacity=\"1\"/>\n",
       "<polyline clip-path=\"url(#clip800)\" style=\"stroke:#000000; stroke-linecap:round; stroke-linejoin:round; stroke-width:4; stroke-opacity:1; fill:none\" points=\"894.681,172.498 1039.3,172.498 1039.3,68.8176 894.681,68.8176 894.681,172.498 \"/>\n",
       "<polyline clip-path=\"url(#clip800)\" style=\"stroke:#e26f46; stroke-linecap:round; stroke-linejoin:round; stroke-width:4; stroke-opacity:1; fill:none\" points=\"904.965,120.658 966.668,120.658 \"/>\n",
       "<path clip-path=\"url(#clip800)\" d=\"M990.794 140.345 Q988.989 144.975 987.276 146.387 Q985.563 147.799 982.692 147.799 L979.29 147.799 L979.29 144.234 L981.79 144.234 Q983.549 144.234 984.521 143.4 Q985.493 142.567 986.674 139.465 L987.438 137.521 L976.952 112.012 L981.466 112.012 L989.567 132.289 L997.669 112.012 L1002.18 112.012 L990.794 140.345 Z\" fill=\"#000000\" fill-rule=\"nonzero\" fill-opacity=\"1\" /><path clip-path=\"url(#clip800)\" d=\"M1012.69 134.002 L1029.01 134.002 L1029.01 137.938 L1007.07 137.938 L1007.07 134.002 Q1009.73 131.248 1014.31 126.618 Q1018.92 121.965 1020.1 120.623 Q1022.34 118.1 1023.22 116.364 Q1024.13 114.604 1024.13 112.915 Q1024.13 110.16 1022.18 108.424 Q1020.26 106.688 1017.16 106.688 Q1014.96 106.688 1012.51 107.452 Q1010.08 108.215 1007.3 109.766 L1007.3 105.044 Q1010.12 103.91 1012.58 103.331 Q1015.03 102.753 1017.07 102.753 Q1022.44 102.753 1025.63 105.438 Q1028.83 108.123 1028.83 112.614 Q1028.83 114.743 1028.02 116.665 Q1027.23 118.563 1025.12 121.155 Q1024.54 121.827 1021.44 125.044 Q1018.34 128.239 1012.69 134.002 Z\" fill=\"#000000\" fill-rule=\"nonzero\" fill-opacity=\"1\" /></svg>\n"
      ]
     },
     "metadata": {},
     "output_type": "display_data"
    }
   ],
   "source": [
    "vector1 = rand(10)\n",
    "vector2 = rand(10)*100\n",
    "plot(vector1,label = \"b\",size=(300,200))\n",
    "plot!(twinx(), vector2,color=2,axis=false)"
   ]
  },
  {
   "cell_type": "code",
   "execution_count": 29,
   "metadata": {},
   "outputs": [
    {
     "ename": "UndefVarError",
     "evalue": "UndefVarError: `NYframe` not defined",
     "output_type": "error",
     "traceback": [
      "UndefVarError: `NYframe` not defined\n",
      "\n",
      "Stacktrace:\n",
      " [1] top-level scope\n",
      "   @ c:\\Users\\chadi\\OneDrive - Handelshögskolan i Stockholm\\GitHub\\JuliaAcademy\\DataScience\\12. Visualization.ipynb:1"
     ]
    }
   ],
   "source": [
    "xtickslabels = NYframe[!,:RegionName]"
   ]
  },
  {
   "cell_type": "code",
   "execution_count": 30,
   "metadata": {},
   "outputs": [
    {
     "ename": "UndefVarError",
     "evalue": "UndefVarError: `NYframe` not defined",
     "output_type": "error",
     "traceback": [
      "UndefVarError: `NYframe` not defined\n",
      "\n",
      "Stacktrace:\n",
      " [1] top-level scope\n",
      "   @ c:\\Users\\chadi\\OneDrive - Handelshögskolan i Stockholm\\GitHub\\JuliaAcademy\\DataScience\\12. Visualization.ipynb:1"
     ]
    }
   ],
   "source": [
    "sz = NYframe[!,:SizeRank]\n",
    "pc = NYframe[!,end]\n",
    "M = Matrix(NYframe[:,5:end])\n",
    "M = copy(M')\n",
    "md = find_percentile(M,0.9)\n",
    "\n",
    "md = find_percentile(M,0.5)\n",
    "mx = find_percentile(M,0.9)\n",
    "mn = find_percentile(M,0.1)\n",
    "vector1 = sz\n",
    "\n",
    "plot()\n",
    "plot!(md,ribbon =(md.-mn,mx.-md),color = 1,grid=false,label=\"\")\n",
    "\n",
    "plot!(xticks = (1:length(xtickslabels),xtickslabels),xrotation=90,xtickfont=font(10))\n",
    "plot!(twinx(), vector1,color=2,label=\"\",ylabel=\"rank\",grid=false,xticks=[],linewidth=2)\n",
    "plot!(Shape([0], [0]),color=1,label=\"Prices (left)\")\n",
    "p = plot!([],[],color=2,label=\"Rank (right)\")\n",
    "ep = plot(grid=false,legend=false,axis=false,framestyle = :box)#empty plot\n",
    "plot(p,ep,layout=@layout([a{0.85h};b{0.001h}]))"
   ]
  },
  {
   "cell_type": "markdown",
   "metadata": {},
   "source": [
    "Interesting! Seems like in general, lower rank regions have higher price and vice versa."
   ]
  },
  {
   "cell_type": "markdown",
   "metadata": {},
   "source": [
    "### 🔴Plot 5: High-dimensional data in a 2D plot\n",
    "We've seen a 3D plot in the Clustering notebook previously. I personally prefer 2D plots because they are often easier to read and is viewable in a print version more clearly. Here, we will explore how we can use color as a third dimension. Note that you can also use sizes as third dimension.\n",
    "\n",
    "We will use the California data, and plot the prices from 2010-02 on the x-axis and 2020-02 on the y-axis. We will then color code each data point by its current rank.\n",
    "\n",
    "Let's generate a quick scatter plot first."
   ]
  },
  {
   "cell_type": "code",
   "execution_count": 31,
   "metadata": {},
   "outputs": [
    {
     "ename": "UndefVarError",
     "evalue": "UndefVarError: `CAframe` not defined",
     "output_type": "error",
     "traceback": [
      "UndefVarError: `CAframe` not defined\n",
      "\n",
      "Stacktrace:\n",
      " [1] top-level scope\n",
      "   @ c:\\Users\\chadi\\OneDrive - Handelshögskolan i Stockholm\\GitHub\\JuliaAcademy\\DataScience\\12. Visualization.ipynb:1"
     ]
    }
   ],
   "source": [
    "CA202002 = CAframe[!,Symbol(\"2020-02\")]\n",
    "CA201002 = CAframe[!,Symbol(\"2010-02\")]\n",
    "scatter(CA201002,CA202002)"
   ]
  },
  {
   "cell_type": "code",
   "execution_count": 32,
   "metadata": {},
   "outputs": [
    {
     "ename": "UndefVarError",
     "evalue": "UndefVarError: `CAframe` not defined",
     "output_type": "error",
     "traceback": [
      "UndefVarError: `CAframe` not defined\n",
      "\n",
      "Stacktrace:\n",
      " [1] top-level scope\n",
      "   @ c:\\Users\\chadi\\OneDrive - Handelshögskolan i Stockholm\\GitHub\\JuliaAcademy\\DataScience\\12. Visualization.ipynb:1"
     ]
    }
   ],
   "source": [
    "CA202002 = CAframe[!,Symbol(\"2020-02\")]\n",
    "CA201002 = CAframe[!,Symbol(\"2010-02\")]\n",
    "CAranks = CAframe[!,:SizeRank]\n",
    "scatter(CA201002,CA202002,legend=false,markerstrokewidth=0,markersize=3,alpha=0.6,grid=false)"
   ]
  },
  {
   "cell_type": "markdown",
   "metadata": {},
   "source": [
    "Then, to work with colors we will make use of the package `ColorSchemes`."
   ]
  },
  {
   "cell_type": "code",
   "execution_count": 33,
   "metadata": {},
   "outputs": [],
   "source": [
    "using ColorSchemes"
   ]
  },
  {
   "cell_type": "code",
   "execution_count": 34,
   "metadata": {},
   "outputs": [
    {
     "ename": "UndefVarError",
     "evalue": "UndefVarError: `CAranks` not defined",
     "output_type": "error",
     "traceback": [
      "UndefVarError: `CAranks` not defined\n",
      "\n",
      "Stacktrace:\n",
      " [1] top-level scope\n",
      "   @ c:\\Users\\chadi\\OneDrive - Handelshögskolan i Stockholm\\GitHub\\JuliaAcademy\\DataScience\\12. Visualization.ipynb:2"
     ]
    }
   ],
   "source": [
    "# normalize the ranks to be between 0 and 1\n",
    "continuousranks = CAranks./maximum(CAranks)\n",
    "\n",
    "# create a placeholder vector that will store the color of each value\n",
    "colorsvec = Vector{RGB{Float64}}(undef,length(continuousranks))\n",
    "\n",
    "# and finally map the colors according to ColorSchemes.autumn1, there are many other schemes you can choose from\n",
    "map(i->colorsvec[i]=get(ColorSchemes.autumn1,continuousranks[i]),1:length(colorsvec))"
   ]
  },
  {
   "cell_type": "code",
   "execution_count": 35,
   "metadata": {},
   "outputs": [
    {
     "ename": "UndefVarError",
     "evalue": "UndefVarError: `CAranks` not defined",
     "output_type": "error",
     "traceback": [
      "UndefVarError: `CAranks` not defined\n",
      "\n",
      "Stacktrace:\n",
      " [1] top-level scope\n",
      "   @ c:\\Users\\chadi\\OneDrive - Handelshögskolan i Stockholm\\GitHub\\JuliaAcademy\\DataScience\\12. Visualization.ipynb:1"
     ]
    }
   ],
   "source": [
    "continuousdates = CAranks./maximum(CAranks)\n",
    "colorsvec = Vector{RGB{Float64}}(undef,length(continuousdates))\n",
    "map(i->colorsvec[i]=get(ColorSchemes.autumn1,continuousdates[i]),1:length(colorsvec))\n",
    "scatter(CA201002,CA202002,color=colorsvec,\n",
    "    legend=false,markerstrokewidth=0,markersize=3,grid=false)\n",
    "xlabel!(\"2010-02 prices\",xguidefontsize=10)\n",
    "ylabel!(\"2020-02 prices\",yguidefontsize=10)\n",
    "p1 = plot!()"
   ]
  },
  {
   "cell_type": "markdown",
   "metadata": {},
   "source": [
    "We have the colors, but we have no indication of what the color means. Next, we will create a new plot whose job will be to encode the ranks of these dots, and then we will pad the two plots together."
   ]
  },
  {
   "cell_type": "code",
   "execution_count": 36,
   "metadata": {},
   "outputs": [
    {
     "ename": "UndefVarError",
     "evalue": "UndefVarError: `CAranks` not defined",
     "output_type": "error",
     "traceback": [
      "UndefVarError: `CAranks` not defined\n",
      "\n",
      "Stacktrace:\n",
      " [1] top-level scope\n",
      "   @ c:\\Users\\chadi\\OneDrive - Handelshögskolan i Stockholm\\GitHub\\JuliaAcademy\\DataScience\\12. Visualization.ipynb:13"
     ]
    }
   ],
   "source": [
    "#set up the plot canvas\n",
    "xvals = 0:100\n",
    "s = Shape([0,1,1,0],[0,0,1,1])\n",
    "plot(s,color=ColorSchemes.autumn1[1],grid=false,axis=false,\n",
    "    legend=false,linewidth=0,linecolor=nothing)\n",
    "\n",
    "for i = 2:101\n",
    "    s = Shape([xvals[i],xvals[i]+1,xvals[i]+1,xvals[i]],[0,0,1,1])\n",
    "    plot!(s,color=ColorSchemes.autumn1[i],grid=false,axis=false,\n",
    "    legend=false,linewidth=0,linecolor=nothing)\n",
    "end\n",
    "\n",
    "mynormalizer = maximum(CAranks)\n",
    "xtickslabels = 0:div(mynormalizer,10):mynormalizer\n",
    "continuousdates = xtickslabels./mynormalizer\n",
    "xticksloc = round.(Int,continuousdates.*101)\n",
    "\n",
    "# annotate using the ranks\n",
    "rotatedfont = font(10, \"Helvetica\",rotation=90)\n",
    "for i = 1:length(xtickslabels)\n",
    "    annotate!(xticksloc[i],0.5,text(xtickslabels[i], rotatedfont))\n",
    "end\n",
    "p2 = plot!()"
   ]
  },
  {
   "cell_type": "markdown",
   "metadata": {},
   "source": [
    "And now pad together..."
   ]
  },
  {
   "cell_type": "code",
   "execution_count": 37,
   "metadata": {},
   "outputs": [
    {
     "ename": "UndefVarError",
     "evalue": "UndefVarError: `p1` not defined",
     "output_type": "error",
     "traceback": [
      "UndefVarError: `p1` not defined\n",
      "\n",
      "Stacktrace:\n",
      " [1] top-level scope\n",
      "   @ c:\\Users\\chadi\\OneDrive - Handelshögskolan i Stockholm\\GitHub\\JuliaAcademy\\DataScience\\12. Visualization.ipynb:2"
     ]
    }
   ],
   "source": [
    "mylayout = @layout([a{0.89h};b{0.1h}])\n",
    "plot(p1,p2,layout=mylayout)"
   ]
  },
  {
   "cell_type": "markdown",
   "metadata": {},
   "source": [
    "This agrees with what we saw earlier with the data from New York. Lower rank regions seem to have higher prices."
   ]
  },
  {
   "cell_type": "markdown",
   "metadata": {},
   "source": [
    "# Finally...\n",
    "After finishing this notebook, you should be able to:\n",
    "- [ ] create violin plots in julia\n",
    "- [ ] create bar charts\n",
    "- [ ] add annotations to your plots\n",
    "- [ ] create an inset figure for your plot\n",
    "- [ ] create plots with error margin\n",
    "- [ ] create plots with double axes\n",
    "- [ ] create a new color mapping to a given set of values\n",
    "- [ ] create two dimensional plots and use color to indicate a third dimension\n",
    "- [ ] pad multiple plots together"
   ]
  },
  {
   "cell_type": "markdown",
   "metadata": {},
   "source": [
    "# 🥳 One cool finding\n",
    "\n",
    "Many interesting cool things here! The most interesting I found was that Idaho is following California's trend in housing prices, and Idaho's prices are growing faster than places like Indiana and Ohio.\n",
    "\n",
    "<img src=\"data/1201.png\" width=\"500\">\n",
    "<img src=\"data/1202.png\" width=\"500\">"
   ]
  }
 ],
 "metadata": {
  "kernelspec": {
   "display_name": "Julia 1.10.2",
   "language": "julia",
   "name": "julia-1.10"
  },
  "language_info": {
   "file_extension": ".jl",
   "mimetype": "application/julia",
   "name": "julia",
   "version": "1.10.2"
  }
 },
 "nbformat": 4,
 "nbformat_minor": 4
}
